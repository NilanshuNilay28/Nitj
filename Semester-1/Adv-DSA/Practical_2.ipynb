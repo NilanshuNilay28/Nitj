{
 "cells": [
  {
   "cell_type": "markdown",
   "id": "c334cc02-2a96-4961-b2cd-63981c06fd99",
   "metadata": {},
   "source": [
    "# WAP to multiply two 1D arrays"
   ]
  },
  {
   "cell_type": "code",
   "execution_count": 3,
   "id": "1c488bf1-a559-42b3-b47d-bf9f998d3453",
   "metadata": {},
   "outputs": [
    {
     "name": "stdin",
     "output_type": "stream",
     "text": [
      "Enter the Size of array:  3\n"
     ]
    },
    {
     "name": "stdout",
     "output_type": "stream",
     "text": [
      "Enter the elements of first array: \n"
     ]
    },
    {
     "name": "stdin",
     "output_type": "stream",
     "text": [
      " 1\n",
      " 2\n",
      " 3\n"
     ]
    },
    {
     "name": "stdout",
     "output_type": "stream",
     "text": [
      "Enter the elements of Second array: \n"
     ]
    },
    {
     "name": "stdin",
     "output_type": "stream",
     "text": [
      " 4\n",
      " 5\n",
      " 6\n"
     ]
    },
    {
     "name": "stdout",
     "output_type": "stream",
     "text": [
      "Multiplication of two 1D array is:  [4, 10, 18]\n"
     ]
    }
   ],
   "source": [
    "arrSize = int(input(\"Enter the Size of array: \"))\n",
    "\n",
    "arr1 = []\n",
    "\n",
    "print(\"Enter the elements of first array: \")\n",
    "for i in range(arrSize):\n",
    "    element1 = int(input())\n",
    "    arr1.append(element1)\n",
    "    \n",
    "arr2 =[]\n",
    "print(\"Enter the elements of Second array: \")\n",
    "for i in range(arrSize):\n",
    "    element2 = int(input())\n",
    "    arr2.append(element2)\n",
    "    \n",
    "mulArray = []\n",
    "for i in range(arrSize):\n",
    "    mulArray.append(arr1[i]*arr2[i])\n",
    "\n",
    "print(\"Multiplication of two 1D array is: \", mulArray)"
   ]
  },
  {
   "cell_type": "code",
   "execution_count": null,
   "id": "59b17e1e-867b-4a8c-bd53-d9d789ea1456",
   "metadata": {},
   "outputs": [],
   "source": []
  }
 ],
 "metadata": {
  "kernelspec": {
   "display_name": "Python 3 (ipykernel)",
   "language": "python",
   "name": "python3"
  },
  "language_info": {
   "codemirror_mode": {
    "name": "ipython",
    "version": 3
   },
   "file_extension": ".py",
   "mimetype": "text/x-python",
   "name": "python",
   "nbconvert_exporter": "python",
   "pygments_lexer": "ipython3",
   "version": "3.11.7"
  }
 },
 "nbformat": 4,
 "nbformat_minor": 5
}
