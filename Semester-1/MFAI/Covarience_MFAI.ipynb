{
 "cells": [
  {
   "cell_type": "code",
   "execution_count": 1,
   "id": "a0045c44-b08e-4d3a-a90a-18ec5ebe7c55",
   "metadata": {},
   "outputs": [
    {
     "name": "stdout",
     "output_type": "stream",
     "text": [
      "mean of height : 144.8\n",
      "mean of weight : 71.45\n",
      "Variance of height : 424.06315789473683\n",
      "Variance of Weight : 227.1026315789474\n",
      "Covariance : 229.30526315789476\n"
     ]
    }
   ],
   "source": [
    "data = [\n",
    "    [182, 78],\n",
    "    [162, 82],\n",
    "    [114, 58],\n",
    "    [134, 61],\n",
    "    [154, 74],\n",
    "    [155, 108],\n",
    "    [161, 81],\n",
    "    [170, 90],\n",
    "    [124, 67],\n",
    "    [136, 58],\n",
    "    [140, 64],\n",
    "    [127, 50],\n",
    "    [140, 74],\n",
    "    [129, 58],\n",
    "    [132, 60],\n",
    "    [124, 54],\n",
    "    [131, 59],\n",
    "    [173, 92],\n",
    "    [180, 83],\n",
    "    [128, 78]\n",
    "]\n",
    "\n",
    "# Separating the data into two lists\n",
    "x = [item[0] for item in data]\n",
    "y = [item[1] for item in data]\n",
    "\n",
    "# Calculating the means\n",
    "mean_x = sum(x) / len(x)\n",
    "mean_y = sum(y) / len(y)\n",
    "\n",
    "# Calculating variance\n",
    "variance_x = sum((xi - mean_x) ** 2 for xi in x) / (len(x)-1)\n",
    "variance_y = sum((yi - mean_y) ** 2 for yi in y) / (len(y)-1)\n",
    "\n",
    "# Calculating covariance\n",
    "covariance = sum((x[i] - mean_x) * (y[i] - mean_y) for i in range(len(x))) / (len(x)-1)\n",
    "print(\"mean of height :\",mean_x)\n",
    "print(\"mean of weight :\",mean_y)\n",
    "\n",
    "# Output the results\n",
    "print(\"Variance of height :\", variance_x)\n",
    "print(\"Variance of Weight :\", variance_y)\n",
    "print(\"Covariance :\", covariance)"
   ]
  },
  {
   "cell_type": "code",
   "execution_count": null,
   "id": "81f25e3c-8f61-4876-bd0b-a89c2ffffa7a",
   "metadata": {},
   "outputs": [],
   "source": []
  }
 ],
 "metadata": {
  "kernelspec": {
   "display_name": "Python 3 (ipykernel)",
   "language": "python",
   "name": "python3"
  },
  "language_info": {
   "codemirror_mode": {
    "name": "ipython",
    "version": 3
   },
   "file_extension": ".py",
   "mimetype": "text/x-python",
   "name": "python",
   "nbconvert_exporter": "python",
   "pygments_lexer": "ipython3",
   "version": "3.11.7"
  }
 },
 "nbformat": 4,
 "nbformat_minor": 5
}
