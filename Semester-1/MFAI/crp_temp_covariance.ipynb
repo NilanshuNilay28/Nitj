{
 "cells": [
  {
   "cell_type": "code",
   "execution_count": 14,
   "id": "5066c724-7630-4836-94b6-af17c4b7e166",
   "metadata": {},
   "outputs": [],
   "source": [
    "data=[[42.0,36.0],\n",
    "      [10.3,37.2],\n",
    "      [33.6,36.5],\n",
    "      [20.8,39.4],\n",
    "      [11.9,39.6],\n",
    "      [2.9,40.7],\n",
    "      [1.9,41.9],\n",
    "      [10.4,36.3],\n",
    "      [42.0,37.6],\n",
    "      [31.1,42.2],\n",
    "      [50.0,38.5],\n",
    "      [61.4,38.2],\n",
    "      [44.7,37.6],\n",
    "      [17.3,42.7],\n",
    "      [51.0,38.1]]"
   ]
  },
  {
   "cell_type": "code",
   "execution_count": 15,
   "id": "d469271c-4dd4-48f1-ae5f-6d1d2e3f28d4",
   "metadata": {},
   "outputs": [
    {
     "name": "stdout",
     "output_type": "stream",
     "text": [
      "mean of crp : 28.75333333333333\n",
      "mean of Temperature : 38.833333333333336\n",
      "Variance of crp : 370.8369523809524\n",
      "Variance of  Temperature: 4.766666666666668\n",
      "Covariance : -16.90761904761904\n"
     ]
    }
   ],
   "source": [
    "# Separating the data into two lists\n",
    "x = [item[0] for item in data]\n",
    "y = [item[1] for item in data]\n",
    "# Calculating the means\n",
    "mean_x = sum(x) / len(x)\n",
    "mean_y = sum(y) / len(y)\n",
    "# Calculating variance\n",
    "variance_x = sum((xi - mean_x) ** 2 for xi in x) / (len(x)-1)\n",
    "variance_y = sum((yi - mean_y) ** 2 for yi in y) / (len(y)-1)\n",
    "\n",
    "# Calculating covariance\n",
    "covariance = sum((x[i] - mean_x) * (y[i] - mean_y) for i in range(len(x))) / (len(x)-1)\n",
    "print(\"mean of crp :\",mean_x)\n",
    "print(\"mean of Temperature :\",mean_y)\n",
    "\n",
    "# Output the results\n",
    "print(\"Variance of crp :\", variance_x)\n",
    "print(\"Variance of  Temperature:\", variance_y)\n",
    "print(\"Covariance :\", covariance)"
   ]
  },
  {
   "cell_type": "code",
   "execution_count": null,
   "id": "5e675660-144d-46f0-a331-01e3b9fa0a83",
   "metadata": {},
   "outputs": [],
   "source": []
  }
 ],
 "metadata": {
  "kernelspec": {
   "display_name": "Python 3 (ipykernel)",
   "language": "python",
   "name": "python3"
  },
  "language_info": {
   "codemirror_mode": {
    "name": "ipython",
    "version": 3
   },
   "file_extension": ".py",
   "mimetype": "text/x-python",
   "name": "python",
   "nbconvert_exporter": "python",
   "pygments_lexer": "ipython3",
   "version": "3.11.7"
  }
 },
 "nbformat": 4,
 "nbformat_minor": 5
}
