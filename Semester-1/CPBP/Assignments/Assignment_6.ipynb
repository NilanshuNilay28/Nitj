{
 "cells": [
  {
   "cell_type": "code",
   "execution_count": 1,
   "id": "921d1499-3902-446b-ad55-229abfacf854",
   "metadata": {},
   "outputs": [
    {
     "name": "stdin",
     "output_type": "stream",
     "text": [
      "Enter the numerator:  10\n",
      "Enter the denominator:  34\n"
     ]
    },
    {
     "name": "stdout",
     "output_type": "stream",
     "text": [
      "The simplified fraction is: 5/17\n"
     ]
    }
   ],
   "source": [
    "#Write a program that has a class Fraction with attributes numerator and denominator. Enter the values of the attributes and print the fraction in simplified form.\n",
    "from math import gcd  \n",
    "\n",
    "class Fraction:  \n",
    "    def __init__(self, numerator, denominator):  \n",
    "        self.numerator = numerator  \n",
    "        self.denominator = denominator  \n",
    "        self.simplify()  \n",
    "\n",
    "    def simplify(self):  \n",
    "        common_divisor = gcd(self.numerator, self.denominator)  \n",
    "        self.numerator //= common_divisor  \n",
    "        self.denominator //= common_divisor  \n",
    "\n",
    "    def __str__(self):  \n",
    "        return f\"{self.numerator}/{self.denominator}\"  \n",
    "\n",
    "def main():  \n",
    "    numerator = int(input(\"Enter the numerator: \"))  \n",
    "    denominator = int(input(\"Enter the denominator: \"))  \n",
    "    \n",
    "    if denominator == 0:  \n",
    "        print(\"Denominator cannot be zero.\")  \n",
    "        return  \n",
    "    \n",
    "    fraction = Fraction(numerator, denominator)  \n",
    "    print(\"The simplified fraction is:\", fraction)  \n",
    "\n",
    "if __name__ == \"__main__\":  \n",
    "    main()"
   ]
  },
  {
   "cell_type": "code",
   "execution_count": 4,
   "id": "9c03d144-da38-4ca1-a973-594e9f9656fd",
   "metadata": {},
   "outputs": [
    {
     "name": "stdout",
     "output_type": "stream",
     "text": [
      "Available Products:\n",
      "Code: 001, Product: Apple, Price: $0.50\n",
      "Code: 002, Product: Banana, Price: $0.30\n",
      "Code: 003, Product: Orange, Price: $0.75\n",
      "Code: 004, Product: Mango, Price: $1.00\n",
      "Code: 005, Product: Bread, Price: $1.50\n",
      "\n",
      "Enter the quantities of the products you wish to purchase (enter 0 to stop):\n"
     ]
    },
    {
     "name": "stdin",
     "output_type": "stream",
     "text": [
      "Enter product code:  001\n",
      "Enter quantity for Apple:  10\n",
      "Enter product code:  002\n",
      "Enter quantity for Banana:  24\n",
      "Enter product code:  0\n"
     ]
    },
    {
     "name": "stdout",
     "output_type": "stream",
     "text": [
      "\n",
      "Bill:\n",
      "------------------------------------------------\n",
      "Product         Quantity   Price      Total     \n",
      "------------------------------------------------\n",
      "Apple           10         $0.5        $5.00      \n",
      "Banana          24         $0.3        $7.20      \n",
      "------------------------------------------------\n",
      "Total Amount:                       $12.20\n"
     ]
    }
   ],
   "source": [
    "#Write a program that has a class store which keeps record of code and price of each product.Display a menu of all products to the user and prompt him to enter the quantity of eachitem required. Generate a bill and display the total amount.\n",
    "class Product:  \n",
    "    def __init__(self, code, name, price):  \n",
    "        self.code = code  \n",
    "        self.name = name  \n",
    "        self.price = price  \n",
    "\n",
    "class Store:  \n",
    "    def __init__(self):  \n",
    "        self.products = {  \n",
    "            \"001\": Product(\"001\", \"Apple\", 0.50),  \n",
    "            \"002\": Product(\"002\", \"Banana\", 0.30),  \n",
    "            \"003\": Product(\"003\", \"Orange\", 0.75),  \n",
    "            \"004\": Product(\"004\", \"Mango\", 1.00),  \n",
    "            \"005\": Product(\"005\", \"Bread\", 1.50),  \n",
    "        }  \n",
    "\n",
    "    def display_menu(self):  \n",
    "        print(\"Available Products:\")  \n",
    "        for product in self.products.values():  \n",
    "            print(f\"Code: {product.code}, Product: {product.name}, Price: ${product.price:.2f}\")  \n",
    "\n",
    "    def generate_bill(self):  \n",
    "        total_amount = 0  \n",
    "        quantities = {}  \n",
    "\n",
    "        print(\"\\nEnter the quantities of the products you wish to purchase (enter 0 to stop):\")  \n",
    "        while True:  \n",
    "            code = input(\"Enter product code: \")  \n",
    "            if code == '0':  \n",
    "                break  \n",
    "            if code in self.products:  \n",
    "                quantity = int(input(f\"Enter quantity for {self.products[code].name}: \"))  \n",
    "                quantities[code] = quantity  \n",
    "            else:  \n",
    "                print(\"Invalid product code. Please try again.\")  \n",
    "\n",
    "        print(\"\\nBill:\")  \n",
    "        print(\"------------------------------------------------\")  \n",
    "        print(f\"{'Product':<15} {'Quantity':<10} {'Price':<10} {'Total':<10}\")  \n",
    "        print(\"------------------------------------------------\")  \n",
    "        \n",
    "        for code, quantity in quantities.items():  \n",
    "            product = self.products[code]  \n",
    "            total_price = quantity * product.price  \n",
    "            total_amount += total_price  \n",
    "            print(f\"{product.name:<15} {quantity:<10} ${product.price:<10} ${total_price:<10.2f}\")  \n",
    "\n",
    "        print(\"------------------------------------------------\")  \n",
    "        print(f\"{'Total Amount:':<35} ${total_amount:.2f}\")  \n",
    "\n",
    "if __name__ == \"__main__\":  \n",
    "    store = Store()  \n",
    "    store.display_menu()  \n",
    "    store.generate_bill()"
   ]
  },
  {
   "cell_type": "code",
   "execution_count": 5,
   "id": "1503daa6-9167-46f3-94e0-1556b97f8ef6",
   "metadata": {},
   "outputs": [
    {
     "name": "stdout",
     "output_type": "stream",
     "text": [
      "String: 'Hello, World! This is a Test String.'\n",
      "Total Length: 36\n",
      "Uppercase Count: 5\n",
      "Vowels Count: 8\n",
      "Consonants Count: 19\n",
      "Spaces Count: 6\n",
      "\n"
     ]
    }
   ],
   "source": [
    "#Write a class that stores a string and all its status details such as number of uppercase characters, vowels, consonants, spaces etc.\n",
    "class StringStats:  \n",
    "    def __init__(self, input_string):  \n",
    "        self.input_string = input_string  \n",
    "        self.uppercase_count = self.count_uppercase()  \n",
    "        self.vowels_count = self.count_vowels()  \n",
    "        self.consonants_count = self.count_consonants()  \n",
    "        self.spaces_count = self.count_spaces()  \n",
    "        self.total_length = len(input_string)  \n",
    "\n",
    "    def count_uppercase(self):  \n",
    "        return sum(1 for char in self.input_string if char.isupper())  \n",
    "\n",
    "    def count_vowels(self):  \n",
    "        vowels = 'aeiouAEIOU'  \n",
    "        return sum(1 for char in self.input_string if char in vowels)  \n",
    "\n",
    "    def count_consonants(self):  \n",
    "        consonants = 'bcdfghjklmnpqrstvwxyzBCDFGHJKLMNPQRSTVWXYZ'  \n",
    "        return sum(1 for char in self.input_string if char in consonants)  \n",
    "\n",
    "    def count_spaces(self):  \n",
    "        return sum(1 for char in self.input_string if char.isspace())  \n",
    "\n",
    "    def __str__(self):  \n",
    "        return (  \n",
    "            f\"String: '{self.input_string}'\\n\"  \n",
    "            f\"Total Length: {self.total_length}\\n\"  \n",
    "            f\"Uppercase Count: {self.uppercase_count}\\n\"  \n",
    "            f\"Vowels Count: {self.vowels_count}\\n\"  \n",
    "            f\"Consonants Count: {self.consonants_count}\\n\"  \n",
    "            f\"Spaces Count: {self.spaces_count}\\n\"  \n",
    "        )  \n",
    "\n",
    "# Example Usage:  \n",
    "if __name__ == \"__main__\":  \n",
    "    input_string = \"Hello, World! This is a Test String.\"  \n",
    "    stats = StringStats(input_string)  \n",
    "    print(stats)"
   ]
  },
  {
   "cell_type": "code",
   "execution_count": 6,
   "id": "fd497884-8990-4a5a-9264-8e1fab3d618f",
   "metadata": {},
   "outputs": [
    {
     "name": "stdout",
     "output_type": "stream",
     "text": [
      "Name: Dr. Jane Smith, Age: 45, Department: Computer Science\n",
      "Publications:\n",
      "Title: Deep Learning Advances, Year: 2021, Journal: AI Journal\n",
      "Title: Data Science Fundamentals, Year: 2020, Journal: Data Science Journal\n"
     ]
    }
   ],
   "source": [
    "#Write a program that has a class person. Inherit a class Faculty from person which also has class Publications.\n",
    "class Person:  \n",
    "    def __init__(self, name, age):  \n",
    "        self.name = name  \n",
    "        self.age = age  \n",
    "        \n",
    "    def display_info(self):  \n",
    "        return f'Name: {self.name}, Age: {self.age}'  \n",
    "\n",
    "class Faculty(Person):  \n",
    "    def __init__(self, name, age, department):  \n",
    "        super().__init__(name, age)  \n",
    "        self.department = department  \n",
    "        self.publications = []  # List to store publications  \n",
    "    \n",
    "    def add_publication(self, publication):  \n",
    "        self.publications.append(publication)  \n",
    "    \n",
    "    def display_faculty_info(self):  \n",
    "        info = self.display_info() + f', Department: {self.department}'  \n",
    "        return info  \n",
    "    \n",
    "    def display_publications(self):  \n",
    "        return [pub.display_info() for pub in self.publications]  \n",
    "\n",
    "class Publication:  \n",
    "    def __init__(self, title, year, journal):  \n",
    "        self.title = title  \n",
    "        self.year = year  \n",
    "        self.journal = journal  \n",
    "    \n",
    "    def display_info(self):  \n",
    "        return f'Title: {self.title}, Year: {self.year}, Journal: {self.journal}'  \n",
    "\n",
    "# Example Usage:  \n",
    "if __name__ == \"__main__\":  \n",
    "    # Create a Faculty member  \n",
    "    faculty_member = Faculty(\"Dr. Jane Smith\", 45, \"Computer Science\")  \n",
    "    print(faculty_member.display_faculty_info())  \n",
    "\n",
    "    # Create Publications  \n",
    "    pub1 = Publication(\"Deep Learning Advances\", 2021, \"AI Journal\")  \n",
    "    pub2 = Publication(\"Data Science Fundamentals\", 2020, \"Data Science Journal\")  \n",
    "\n",
    "    # Add publications to faculty  \n",
    "    faculty_member.add_publication(pub1)  \n",
    "    faculty_member.add_publication(pub2)  \n",
    "\n",
    "    # Display publications  \n",
    "    print(\"Publications:\")  \n",
    "    for publication in faculty_member.display_publications():  \n",
    "        print(publication)"
   ]
  },
  {
   "cell_type": "code",
   "execution_count": 7,
   "id": "b97eb0dc-ff2d-46ab-8833-364c395147f9",
   "metadata": {},
   "outputs": [
    {
     "name": "stdout",
     "output_type": "stream",
     "text": [
      "Original date: 2023-10-01\n",
      "New date after adding 15 days: 2023-10-16\n",
      "New date after adding 10 days: 2023-10-11\n"
     ]
    }
   ],
   "source": [
    "#Write a program that overloads the + operator so that it can add a specified number of days to a given date.\n",
    "from datetime import datetime, timedelta  \n",
    "\n",
    "class CustomDate:  \n",
    "    def __init__(self, year, month, day):  \n",
    "        self.date = datetime(year, month, day)  \n",
    "\n",
    "    def __add__(self, days):  \n",
    "        if isinstance(days, int):  # Check if days is an integer  \n",
    "            new_date = self.date + timedelta(days=days)  \n",
    "            return CustomDate(new_date.year, new_date.month, new_date.day)  \n",
    "        return NotImplemented  \n",
    "\n",
    "    def __str__(self):  \n",
    "        return self.date.strftime(\"%Y-%m-%d\")  \n",
    "\n",
    "# Example usage  \n",
    "if __name__ == \"__main__\":  \n",
    "    # Create a CustomDate object  \n",
    "    my_date = CustomDate(2023, 10, 1)  \n",
    "    print(f\"Original date: {my_date}\")  \n",
    "\n",
    "    # Add days using the overloaded + operator  \n",
    "    new_date = my_date + 15  # Adding 15 days  \n",
    "    print(f\"New date after adding 15 days: {new_date}\")  \n",
    "\n",
    "    # Adding another 10 days  \n",
    "    another_date = my_date + 10  \n",
    "    print(f\"New date after adding 10 days: {another_date}\")"
   ]
  },
  {
   "cell_type": "code",
   "execution_count": 8,
   "id": "23f92374-9ad9-4ba2-8191-9ed54c1bf03e",
   "metadata": {},
   "outputs": [
    {
     "name": "stdout",
     "output_type": "stream",
     "text": [
      "Original distances: d1 = 10 meters, d2 = 4 meters\n",
      "After d1 -= d2: d1 = 6 meters\n"
     ]
    }
   ],
   "source": [
    "#Write a program to overload -= operator to subtract two Distance objects.\n",
    "class Distance:  \n",
    "    def __init__(self, meters=0):  \n",
    "        self.meters = meters  \n",
    "\n",
    "    def __isub__(self, other):  \n",
    "        \"\"\"Overloads the -= operator for Distance objects.\"\"\"  \n",
    "        if isinstance(other, Distance):  \n",
    "            self.meters -= other.meters  \n",
    "        else:  \n",
    "            raise ValueError(\"The right operand must be a Distance object.\")  \n",
    "        return self  \n",
    "\n",
    "    def __str__(self):  \n",
    "        return f\"{self.meters} meters\"  \n",
    "\n",
    "# Example usage  \n",
    "if __name__ == \"__main__\":  \n",
    "    d1 = Distance(10)  \n",
    "    d2 = Distance(4)  \n",
    "\n",
    "    print(f\"Original distances: d1 = {d1}, d2 = {d2}\")  \n",
    "\n",
    "    d1 -= d2  # This will invoke the __isub__ method  \n",
    "    print(f\"After d1 -= d2: d1 = {d1}\")"
   ]
  },
  {
   "cell_type": "code",
   "execution_count": null,
   "id": "12e87125-41e1-4d57-9de1-2c90aa7de825",
   "metadata": {},
   "outputs": [],
   "source": []
  }
 ],
 "metadata": {
  "kernelspec": {
   "display_name": "Python 3 (ipykernel)",
   "language": "python",
   "name": "python3"
  },
  "language_info": {
   "codemirror_mode": {
    "name": "ipython",
    "version": 3
   },
   "file_extension": ".py",
   "mimetype": "text/x-python",
   "name": "python",
   "nbconvert_exporter": "python",
   "pygments_lexer": "ipython3",
   "version": "3.11.7"
  }
 },
 "nbformat": 4,
 "nbformat_minor": 5
}
