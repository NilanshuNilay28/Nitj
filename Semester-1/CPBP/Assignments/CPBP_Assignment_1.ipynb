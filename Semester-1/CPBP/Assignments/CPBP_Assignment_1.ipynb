{
 "cells": [
  {
   "cell_type": "code",
   "execution_count": 16,
   "id": "41ab5687-6660-4033-bbe7-77fa4ab37745",
   "metadata": {},
   "outputs": [
    {
     "name": "stdin",
     "output_type": "stream",
     "text": [
      "Enter x1:  3\n",
      "Enter y1:  6\n",
      "Enter x2:  9\n",
      "Enter y2:  4\n"
     ]
    },
    {
     "name": "stdout",
     "output_type": "stream",
     "text": [
      "The distance between the points (x1, y1)and(x2, y2)is 6.324555320336759\n"
     ]
    }
   ],
   "source": [
    "# Write a program to calculate the distance between two points.\n",
    "def calculate_distance(x1, y1, x2, y2):  \n",
    "    x = x2 - x1  \n",
    "    y = y2 - y1  \n",
    "    \n",
    "    distance = (x ** 2 + y ** 2) ** 0.5  \n",
    "    return distance  \n",
    "\n",
    "# Input the coordinates of the two points  \n",
    "x1 = float(input(\"Enter x1: \"))  \n",
    "y1 = float(input(\"Enter y1: \"))  \n",
    "x2 = float(input(\"Enter x2: \"))  \n",
    "y2 = float(input(\"Enter y2: \"))  \n",
    "\n",
    "# Calculate the distance  \n",
    "distance = calculate_distance(x1, y1, x2, y2)  \n",
    "\n",
    "# Output the result  \n",
    "print(\"The distance between the points (x1, y1)and(x2, y2)is\",distance)"
   ]
  },
  {
   "cell_type": "code",
   "execution_count": 30,
   "id": "5e4dcbe5-558b-48a8-86c6-112fe61d6d8a",
   "metadata": {},
   "outputs": [],
   "source": [
    "# Write a program to calculate the area of a triangle using Heron's formula.\n",
    "import math  \n",
    "\n",
    "def calculate_area_of_triangle(a, b, c):    \n",
    "    if a + b > c and a + c > b and b + c > a:  \n",
    "        # s=semi-perimeter  \n",
    "        s = (a + b + c) / 2  \n",
    "        # Calculate the area using Heron's formula  \n",
    "        area = math.sqrt(s * (s - a) * (s - b) * (s - c))  \n",
    "        return area  \n",
    "    else:  \n",
    "        return \"The lengths provided do not form a triangle.\"  \n",
    "\n"
   ]
  },
  {
   "cell_type": "code",
   "execution_count": 31,
   "id": "bef1f24e-982c-43ba-8738-3c89bddef5a6",
   "metadata": {},
   "outputs": [
    {
     "data": {
      "text/plain": [
       "58.787753826796276"
      ]
     },
     "execution_count": 31,
     "metadata": {},
     "output_type": "execute_result"
    }
   ],
   "source": [
    "calculate_area_of_triangle(10,12,14)"
   ]
  },
  {
   "cell_type": "code",
   "execution_count": 32,
   "id": "0a28ad42-1132-4d3b-ad3a-a6c21bc01288",
   "metadata": {},
   "outputs": [
    {
     "name": "stdout",
     "output_type": "stream",
     "text": [
      "The final bill amount is: 2467.6287999999995\n",
      "The final integer value after concatenation is: 12345678\n"
     ]
    }
   ],
   "source": [
    "#Write a program to calculate the bill amount for an item given its quantity sold, value, discount, and tax.Given a string s = \"1234\" and an integer n = 5678, concatenate them as a single string and then convert the result back to an integer. What is the final integer value?\n",
    "def calculate_bill(quantity, value, discount, tax):   \n",
    "    total = quantity * value   \n",
    "    total_after_discount = total - (total * (discount / 100))  \n",
    "    final_amount = total_after_discount + (total_after_discount * (tax / 100))  \n",
    "    return final_amount  \n",
    "\n",
    "def concatenate_and_convert(s, n):  \n",
    "    concatenated = s + str(n)  \n",
    "    final_integer_value = int(concatenated)  \n",
    "    return final_integer_value  \n",
    "\n",
    "# Example\n",
    "quantity_sold = 100  \n",
    "item_value = 28.99 \n",
    "discount_rate = 24\n",
    "tax_rate = 12        \n",
    "bill_amount = calculate_bill(quantity_sold, item_value, discount_rate, tax_rate)  \n",
    "print(f\"The final bill amount is: {bill_amount}\")  \n",
    "\n",
    "s = \"1234\"  \n",
    "n = 5678  \n",
    "final_integer_value = concatenate_and_convert(s, n)  \n",
    "print(f\"The final integer value after concatenation is: {final_integer_value}\")"
   ]
  },
  {
   "cell_type": "code",
   "execution_count": 33,
   "id": "76dc3036-7727-4dd3-a4f9-21b30d6f5d62",
   "metadata": {},
   "outputs": [
    {
     "name": "stdout",
     "output_type": "stream",
     "text": [
      "After swapping:\n",
      "a = 3\n",
      "b = 7\n"
     ]
    }
   ],
   "source": [
    "#  Given two variables, a = 7 and b = 3, write a Python code snippet to swap their values without using a temporary variable. What will be the values of a and b after the swap?  \n",
    "a = 7  \n",
    "b = 3   \n",
    "a = a + b  \n",
    "b = a - b   \n",
    "a = a - b   \n",
    "print(\"After swapping:\")  \n",
    "print(\"a =\", a)\n",
    "print(\"b =\", b) "
   ]
  },
  {
   "cell_type": "code",
   "execution_count": 35,
   "id": "85d01577-5f66-4bdc-a8ea-877d6ae91af2",
   "metadata": {},
   "outputs": [
    {
     "name": "stdout",
     "output_type": "stream",
     "text": [
      "average 30.0\n"
     ]
    }
   ],
   "source": [
    "# Given a list of numbers = [10, 20, 30, 40, 50], write a Python code snippet to calculate the average of these numbers using arithmetic operators. \n",
    "numbers = [10, 20, 30, 40, 50]   \n",
    "average = sum(numbers) / len(numbers)  \n",
    "print(\"average\", average)"
   ]
  },
  {
   "cell_type": "code",
   "execution_count": 36,
   "id": "def5a873-93c0-4963-a290-dc2cc5b2b89e",
   "metadata": {},
   "outputs": [
    {
     "name": "stdout",
     "output_type": "stream",
     "text": [
      "\n",
      "Choose an operation:\n",
      "1. Addition (+)\n",
      "2. Subtraction (-)\n",
      "3. Multiplication (*)\n",
      "4. Division (/)\n",
      "5. Exit\n"
     ]
    },
    {
     "name": "stdin",
     "output_type": "stream",
     "text": [
      "Enter your choice (1-5):  4\n",
      "Enter the first number:  300\n",
      "Enter the second number:  3\n"
     ]
    },
    {
     "name": "stdout",
     "output_type": "stream",
     "text": [
      "300.0 / 3.0 = 100.0\n",
      "\n",
      "Choose an operation:\n",
      "1. Addition (+)\n",
      "2. Subtraction (-)\n",
      "3. Multiplication (*)\n",
      "4. Division (/)\n",
      "5. Exit\n"
     ]
    },
    {
     "name": "stdin",
     "output_type": "stream",
     "text": [
      "Enter your choice (1-5):  6\n",
      "Enter the first number:  5\n",
      "Enter the second number:  5\n"
     ]
    },
    {
     "name": "stdout",
     "output_type": "stream",
     "text": [
      "Invalid choice. Please try again.\n",
      "\n",
      "Choose an operation:\n",
      "1. Addition (+)\n",
      "2. Subtraction (-)\n",
      "3. Multiplication (*)\n",
      "4. Division (/)\n",
      "5. Exit\n"
     ]
    },
    {
     "name": "stdin",
     "output_type": "stream",
     "text": [
      "Enter your choice (1-5):  5\n"
     ]
    },
    {
     "name": "stdout",
     "output_type": "stream",
     "text": [
      "Exiting the calculator...\n"
     ]
    }
   ],
   "source": [
    "# Write a simple basic calculator program in python\n",
    "while True:  \n",
    "    print(\"\\nChoose an operation:\")  \n",
    "    print(\"1. Addition (+)\")  \n",
    "    print(\"2. Subtraction (-)\")  \n",
    "    print(\"3. Multiplication (*)\")  \n",
    "    print(\"4. Division (/)\")  \n",
    "    print(\"5. Exit\")  \n",
    "    \n",
    "    choice = input(\"Enter your choice (1-5): \")  \n",
    "    \n",
    "    if choice == '5':  \n",
    "        print(\"Exiting the calculator...\")  \n",
    "        break  \n",
    "    \n",
    "    num1 = float(input(\"Enter the first number: \"))  \n",
    "    num2 = float(input(\"Enter the second number: \"))  \n",
    "    \n",
    "    if choice == '1':  \n",
    "        result = num1 + num2  \n",
    "        print(f\"{num1} + {num2} = {result}\")  \n",
    "    elif choice == '2':  \n",
    "        result = num1 - num2  \n",
    "        print(f\"{num1} - {num2} = {result}\")  \n",
    "    elif choice == '3':  \n",
    "        result = num1 * num2  \n",
    "        print(f\"{num1} * {num2} = {result}\")  \n",
    "    elif choice == '4':  \n",
    "        if num2 == 0:  \n",
    "            print(\"Error: Division by zero is not allowed.\")  \n",
    "        else:  \n",
    "            result = num1 / num2  \n",
    "            print(f\"{num1} / {num2} = {result}\")  \n",
    "    else:  \n",
    "        print(\"Invalid choice. Please try again.\")"
   ]
  },
  {
   "cell_type": "code",
   "execution_count": null,
   "id": "59249d6c-4439-4237-94f8-fa74b6280f03",
   "metadata": {},
   "outputs": [],
   "source": []
  }
 ],
 "metadata": {
  "kernelspec": {
   "display_name": "Python 3 (ipykernel)",
   "language": "python",
   "name": "python3"
  },
  "language_info": {
   "codemirror_mode": {
    "name": "ipython",
    "version": 3
   },
   "file_extension": ".py",
   "mimetype": "text/x-python",
   "name": "python",
   "nbconvert_exporter": "python",
   "pygments_lexer": "ipython3",
   "version": "3.11.7"
  }
 },
 "nbformat": 4,
 "nbformat_minor": 5
}
