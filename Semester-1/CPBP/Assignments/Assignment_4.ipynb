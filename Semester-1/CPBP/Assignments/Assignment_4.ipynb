{
 "cells": [
  {
   "cell_type": "code",
   "execution_count": 1,
   "id": "a97eab97-0fa9-4021-90f5-97bf844a9484",
   "metadata": {},
   "outputs": [
    {
     "name": "stdout",
     "output_type": "stream",
     "text": [
      "['H', 'e', 'l', 'l', 'o', ',', ' ', 'W', 'o', 'r', 'l', 'd', '!']\n"
     ]
    }
   ],
   "source": [
    "#1. Write a program to extract each character from a string using a regular expression.\n",
    "import re  \n",
    "\n",
    "def extract_characters(input_string):  \n",
    "    # Use a regular expression to find all characters  \n",
    "    characters = re.findall(r'.', input_string)  \n",
    "    return characters  \n",
    "\n",
    "# Example usage  \n",
    "string = \"Hello, World!\"  \n",
    "extracted_characters = extract_characters(string)  \n",
    "print(extracted_characters)"
   ]
  },
  {
   "cell_type": "code",
   "execution_count": 2,
   "id": "58813f68-7376-4b82-80aa-cfab8bd547fc",
   "metadata": {},
   "outputs": [
    {
     "name": "stdout",
     "output_type": "stream",
     "text": [
      "['Hello', 'world', 'This', 'is', 'a', 'test']\n"
     ]
    }
   ],
   "source": [
    "#2. Write a program to extract each word from a string using a regular expression.\n",
    "import re  \n",
    "\n",
    "def extract_words(input_string):  \n",
    "    # Use regular expression to find words  \n",
    "    words = re.findall(r'\\b\\w+\\b', input_string)  \n",
    "    return words  \n",
    "\n",
    "# Example usage  \n",
    "input_string = \"Hello, world! This is a test.\"  \n",
    "words = extract_words(input_string)  \n",
    "print(words)"
   ]
  },
  {
   "cell_type": "code",
   "execution_count": 3,
   "id": "ab7f113d-0921-4a80-9d42-6b842674a5a3",
   "metadata": {},
   "outputs": [
    {
     "name": "stdout",
     "output_type": "stream",
     "text": [
      "Hello,\n"
     ]
    }
   ],
   "source": [
    "#3. Write a program to print the first word of the string.\n",
    "def print_first_word(string):  \n",
    "    # Splitting the string into words  \n",
    "    words = string.split()  \n",
    "    # Checking if there is at least one word  \n",
    "    if words:  \n",
    "        print(words[0])  \n",
    "    else:  \n",
    "        print(\"No words in the string.\")  \n",
    "\n",
    "# Example usage  \n",
    "input_string = \"Hello, world!\"  \n",
    "print_first_word(input_string)"
   ]
  },
  {
   "cell_type": "code",
   "execution_count": 4,
   "id": "9aa756bc-a70b-47d3-a041-dcae9a54897d",
   "metadata": {},
   "outputs": [
    {
     "name": "stdout",
     "output_type": "stream",
     "text": [
      "today?\n"
     ]
    }
   ],
   "source": [
    "#4. Write a program to print the last word of the string.\n",
    "def last_word(string):  \n",
    "    words = string.split()  \n",
    "    if words:  \n",
    "        return words[-1]  \n",
    "    return \"\"  \n",
    "\n",
    "# Example usage  \n",
    "input_string = \"Hello, how are you doing today?\"  \n",
    "print(last_word(input_string))"
   ]
  },
  {
   "cell_type": "code",
   "execution_count": 6,
   "id": "89accdae-9a7f-4b55-b086-084b0e7d7120",
   "metadata": {},
   "outputs": [
    {
     "name": "stdin",
     "output_type": "stream",
     "text": [
      "Enter a string:  Nilanshu\n"
     ]
    },
    {
     "name": "stdout",
     "output_type": "stream",
     "text": [
      "Ni\n",
      "la\n",
      "ns\n",
      "hu\n"
     ]
    }
   ],
   "source": [
    "#5. Write the program to print the characters in pairs.\n",
    "def print_pairs(string):\n",
    "    for i in range(0, len(string), 2):\n",
    "        print(string[i:i+2])\n",
    "\n",
    "string = input(\"Enter a string: \")\n",
    "print_pairs(string)"
   ]
  },
  {
   "cell_type": "code",
   "execution_count": 8,
   "id": "c9c2122f-dec3-4ba5-b3e6-fc9f8ed2f27d",
   "metadata": {},
   "outputs": [
    {
     "name": "stdout",
     "output_type": "stream",
     "text": [
      "Wr\n",
      "a\n",
      "pr\n",
      "to\n",
      "pr\n",
      "on\n",
      "th\n",
      "fi\n",
      "tw\n",
      "ch\n",
      "of\n",
      "ev\n",
      "wo\n"
     ]
    }
   ],
   "source": [
    "#6. Write a program to print only the first two characters of every word.\n",
    "def print_first_two_chars(sentence):  \n",
    "    words = sentence.split()  \n",
    "    for word in words:  \n",
    "        print(word[:2])  \n",
    "\n",
    "# Example usage  \n",
    "input_sentence = \"Write a program to print only the first two characters of every word.\"  \n",
    "print_first_two_chars(input_sentence)"
   ]
  },
  {
   "cell_type": "code",
   "execution_count": 9,
   "id": "576fde95-b084-4c3b-81cb-4201e83d28c8",
   "metadata": {},
   "outputs": [
    {
     "name": "stdin",
     "output_type": "stream",
     "text": [
      "Enter a mobile number:  7667705791\n"
     ]
    },
    {
     "name": "stdout",
     "output_type": "stream",
     "text": [
      "Valid mobile number\n"
     ]
    }
   ],
   "source": [
    "#7. Write a program that validates a mobile phone number. The number should start with 7, 8, or 9 followed by 9 digits.\n",
    "import re  \n",
    "\n",
    "def validate_mobile_number(number):  \n",
    "    # Regular expression to match the mobile number pattern  \n",
    "    pattern = r'^[789]\\d{9}$'  \n",
    "    \n",
    "    if re.match(pattern, number):  \n",
    "        return \"Valid mobile number\"  \n",
    "    else:  \n",
    "        return \"Invalid mobile number\"  \n",
    "\n",
    "# Test the function  \n",
    "number = input(\"Enter a mobile number: \")  \n",
    "print(validate_mobile_number(number))"
   ]
  },
  {
   "cell_type": "code",
   "execution_count": 10,
   "id": "17c876ed-3e99-4b69-905f-0e4f743fbf5b",
   "metadata": {},
   "outputs": [
    {
     "name": "stdout",
     "output_type": "stream",
     "text": [
      "apple\n",
      "orange\n",
      "umbrella\n",
      "elephant\n"
     ]
    }
   ],
   "source": [
    "#8. Write a program that prints only those words that starts with a vowel.\n",
    "def print_words_starting_with_vowel(words):  \n",
    "    vowels = 'aeiouAEIOU'  \n",
    "    for word in words:  \n",
    "        if word[0] in vowels:  \n",
    "            print(word)  \n",
    "\n",
    "# Example usage  \n",
    "words_list = [\"apple\", \"banana\", \"orange\", \"umbrella\", \"grape\", \"elephant\"]  \n",
    "print_words_starting_with_vowel(words_list)"
   ]
  },
  {
   "cell_type": "code",
   "execution_count": 11,
   "id": "4bb4a765-4d27-4b6c-9e64-398082ca36ef",
   "metadata": {},
   "outputs": [
    {
     "name": "stdout",
     "output_type": "stream",
     "text": [
      "'A1- This is a test': True\n",
      "'B2- Another test': True\n",
      "'c3- Lowercase start': False\n",
      "'D4- Last example': True\n"
     ]
    }
   ],
   "source": [
    "#9. Write a program that uses a regular expression to match strings which starts with an upper-case character followed by a digit and a ‘- ‘.\n",
    "import re  \n",
    "\n",
    "def match_string(input_string):  \n",
    "    # Regular expression pattern  \n",
    "    pattern = r'^[A-Z]\\d- '  \n",
    "    \n",
    "    # Check if the input string matches the pattern  \n",
    "    if re.match(pattern, input_string):  \n",
    "        return True  \n",
    "    else:  \n",
    "        return False  \n",
    "\n",
    "# Test examples  \n",
    "test_strings = [  \n",
    "    \"A1- This is a test\",  # Match  \n",
    "    \"B2- Another test\",    # Match  \n",
    "    \"c3- Lowercase start\",  # No match  \n",
    "    \"D4- Last example\"      # Match  \n",
    "]  \n",
    "\n",
    "for string in test_strings:  \n",
    "    result = match_string(string)  \n",
    "    print(f\"'{string}': {result}\")"
   ]
  },
  {
   "cell_type": "code",
   "execution_count": 12,
   "id": "ae1522a9-33fa-44fb-9e9f-e1df2eb86c5d",
   "metadata": {},
   "outputs": [
    {
     "name": "stdout",
     "output_type": "stream",
     "text": [
      "Hello\n"
     ]
    }
   ],
   "source": [
    "#10. Write a program to extract the first n characters of a string.\n",
    "def extract_first_n_characters(input_string, n):  \n",
    "    if n < 0:  \n",
    "        return \"Error: n should be a non-negative integer.\"  \n",
    "    return input_string[:n]  \n",
    "\n",
    "# Example usage  \n",
    "string = \"Hello, World!\"  \n",
    "n = 5  \n",
    "result = extract_first_n_characters(string, n)  \n",
    "print(result)  # Output: Hello"
   ]
  }
 ],
 "metadata": {
  "kernelspec": {
   "display_name": "Python 3 (ipykernel)",
   "language": "python",
   "name": "python3"
  },
  "language_info": {
   "codemirror_mode": {
    "name": "ipython",
    "version": 3
   },
   "file_extension": ".py",
   "mimetype": "text/x-python",
   "name": "python",
   "nbconvert_exporter": "python",
   "pygments_lexer": "ipython3",
   "version": "3.11.7"
  }
 },
 "nbformat": 4,
 "nbformat_minor": 5
}
