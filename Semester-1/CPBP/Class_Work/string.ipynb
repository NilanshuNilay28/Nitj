{
 "cells": [
  {
   "cell_type": "code",
   "execution_count": 5,
   "id": "dd6d1d89-534b-420e-a78b-fce8ed899861",
   "metadata": {},
   "outputs": [],
   "source": [
    "#\"\"\"string.ascii_lowercase it refer to all lower case letter from small a to z\"\"\""
   ]
  },
  {
   "cell_type": "code",
   "execution_count": null,
   "id": "eb8e76ff-d2bd-493a-b11b-a8768398f8f5",
   "metadata": {},
   "outputs": [],
   "source": [
    "#string.ascii_uppercase  it refer to all upper case letter from  A to Z"
   ]
  },
  {
   "cell_type": "code",
   "execution_count": null,
   "id": "80e6ac85-b709-4729-82da-a52eb7a1db10",
   "metadata": {},
   "outputs": [],
   "source": [
    "#STRING.HEXDIGIT IT PREFER TO HEX DIGIT 0-9 A-Z,a-z"
   ]
  },
  {
   "cell_type": "code",
   "execution_count": null,
   "id": "94f45544-b100-4819-a6f7-bdeca53e599e",
   "metadata": {},
   "outputs": [],
   "source": [
    "#STRING.DIGIT"
   ]
  },
  {
   "cell_type": "code",
   "execution_count": 2,
   "id": "f0e074e9-c5c5-4a9e-ab07-d28a8448ce37",
   "metadata": {},
   "outputs": [],
   "source": [
    "#string.lower"
   ]
  },
  {
   "cell_type": "code",
   "execution_count": 3,
   "id": "3e1a3b80-03a3-4580-87f4-c46ab83072a0",
   "metadata": {},
   "outputs": [],
   "source": [
    "#string.upper"
   ]
  },
  {
   "cell_type": "code",
   "execution_count": 4,
   "id": "6e947e1a-f94a-449a-9e4e-6fdd47ec780f",
   "metadata": {},
   "outputs": [],
   "source": [
    "#string.whitespace like space ,linefeed,return,fornfeed $verticaltab"
   ]
  },
  {
   "cell_type": "code",
   "execution_count": null,
   "id": "324a3c09-9f00-40e7-a483-a8948483e5a7",
   "metadata": {},
   "outputs": [],
   "source": [
    "#write a program that uses upper, lower ,split,join,replace,find and count on string "
   ]
  },
  {
   "cell_type": "code",
   "execution_count": 24,
   "id": "0a228607-d8c6-4393-94ef-7582ab8c2909",
   "metadata": {},
   "outputs": [],
   "source": [
    "str=\"welcome to the world of python\""
   ]
  },
  {
   "cell_type": "code",
   "execution_count": 35,
   "id": "2ea4cff3-67fe-473e-b114-133e05350eab",
   "metadata": {},
   "outputs": [
    {
     "name": "stdout",
     "output_type": "stream",
     "text": [
      "WELCOME TO THE WORLD OF PYTHON\n"
     ]
    }
   ],
   "source": [
    "print(str.upper())"
   ]
  },
  {
   "cell_type": "code",
   "execution_count": 26,
   "id": "6ac26afd-a77a-47fa-b821-0201b10b8788",
   "metadata": {},
   "outputs": [
    {
     "data": {
      "text/plain": [
       "'welcome to the world of python'"
      ]
     },
     "execution_count": 26,
     "metadata": {},
     "output_type": "execute_result"
    }
   ],
   "source": [
    "str.lower()"
   ]
  },
  {
   "cell_type": "code",
   "execution_count": 29,
   "id": "972c3f00-5ff9-4c28-b041-ab6ec55a3d61",
   "metadata": {},
   "outputs": [
    {
     "data": {
      "text/plain": [
       "['welcome', 'to', 'the', 'world', 'of', 'python']"
      ]
     },
     "execution_count": 29,
     "metadata": {},
     "output_type": "execute_result"
    }
   ],
   "source": [
    "str.split()"
   ]
  },
  {
   "cell_type": "code",
   "execution_count": 37,
   "id": "7cb59285-61a8-45df-84ef-ef0771051ad2",
   "metadata": {},
   "outputs": [],
   "source": [
    "t=\"-\".join(str)"
   ]
  },
  {
   "cell_type": "code",
   "execution_count": 38,
   "id": "a410d012-3f10-41b4-83c5-16292e242d8b",
   "metadata": {},
   "outputs": [
    {
     "data": {
      "text/plain": [
       "'w-e-l-c-o-m-e- -t-o- -t-h-e- -w-o-r-l-d- -o-f- -p-y-t-h-o-n'"
      ]
     },
     "execution_count": 38,
     "metadata": {},
     "output_type": "execute_result"
    }
   ],
   "source": [
    "t"
   ]
  },
  {
   "cell_type": "code",
   "execution_count": 45,
   "id": "5000484b-bfc0-4f21-a41a-f87e8daa0bf5",
   "metadata": {},
   "outputs": [],
   "source": [
    "z=str.replace(\"python\",\"java\")"
   ]
  },
  {
   "cell_type": "code",
   "execution_count": 46,
   "id": "16782d52-9775-4e2a-9eeb-1e940f8159f6",
   "metadata": {},
   "outputs": [
    {
     "data": {
      "text/plain": [
       "'welcome to the world of java'"
      ]
     },
     "execution_count": 46,
     "metadata": {},
     "output_type": "execute_result"
    }
   ],
   "source": [
    "z"
   ]
  },
  {
   "cell_type": "code",
   "execution_count": 49,
   "id": "e677383d-4b35-48ff-b85a-aebfd0075f93",
   "metadata": {},
   "outputs": [
    {
     "data": {
      "text/plain": [
       "3"
      ]
     },
     "execution_count": 49,
     "metadata": {},
     "output_type": "execute_result"
    }
   ],
   "source": [
    "str.count(\"t\")"
   ]
  },
  {
   "cell_type": "code",
   "execution_count": 50,
   "id": "12e816fd-1df3-4b52-9f8d-2ea2e07f1c09",
   "metadata": {},
   "outputs": [
    {
     "data": {
      "text/plain": [
       "1"
      ]
     },
     "execution_count": 50,
     "metadata": {},
     "output_type": "execute_result"
    }
   ],
   "source": [
    "str.find(\"e\")"
   ]
  },
  {
   "cell_type": "code",
   "execution_count": 76,
   "id": "089fa893-4ba3-4c59-9837-b39f95374593",
   "metadata": {},
   "outputs": [
    {
     "name": "stdout",
     "output_type": "stream",
     "text": [
      "<class 'str'>\n"
     ]
    }
   ],
   "source": [
    "#the fun type command take an argument the module name followed by dot operator\n",
    "import string\n",
    "print(type(string.digits))"
   ]
  },
  {
   "cell_type": "code",
   "execution_count": 79,
   "id": "38250375-c395-4fe5-b366-1b26ae04fc5a",
   "metadata": {},
   "outputs": [],
   "source": [
    "import string\n",
    "string=\"welcome to the world of python\""
   ]
  },
  {
   "cell_type": "code",
   "execution_count": 91,
   "id": "e18db815-df32-4362-9357-220c1386395d",
   "metadata": {},
   "outputs": [],
   "source": [
    "#we can use constant difine in the string module defined in the find() function to classified the model ,if find(lower,ch),it return the value except -1 it means that ch must be a lower case character and other way to do the same job is to use the in perator or even the compare operation\n",
    "#print(string.find(string.lowercase,'g')!=-1)"
   ]
  },
  {
   "cell_type": "code",
   "execution_count": 90,
   "id": "7b5a8f52-e5fd-4ac2-8c66-48b4d9b8c6f8",
   "metadata": {},
   "outputs": [],
   "source": [
    "#print('g' in string.lowercase)"
   ]
  },
  {
   "cell_type": "code",
   "execution_count": 84,
   "id": "6946abbb-5d07-4373-8620-e058fe6603c7",
   "metadata": {},
   "outputs": [
    {
     "name": "stdout",
     "output_type": "stream",
     "text": [
      "True\n"
     ]
    }
   ],
   "source": [
    "import string \n",
    "ch='g'\n",
    "print('a'<=ch<='z')"
   ]
  },
  {
   "cell_type": "code",
   "execution_count": 16,
   "id": "b5769803-8193-4cff-a9b1-d9205e299acc",
   "metadata": {},
   "outputs": [
    {
     "data": {
      "text/plain": [
       "'Hello'"
      ]
     },
     "execution_count": 16,
     "metadata": {},
     "output_type": "execute_result"
    }
   ],
   "source": [
    "str=\"Hello\"\n",
    "str.capitalize()"
   ]
  },
  {
   "cell_type": "code",
   "execution_count": null,
   "id": "00d45a00-ef83-4079-8efa-4ff37b5ef661",
   "metadata": {},
   "outputs": [],
   "source": [
    "#regular expression are power tool foe various kind of string manipulation thers are special text string that is used to extract information from text such as code ,file.log.spreedsheet or even documents regular epression are a domain specific language that is present as a library in a most of the modenproggraming language beside python it is a specific of char,that help to match or find string in other string .Asses use \"re\" module\n"
   ]
  },
  {
   "cell_type": "code",
   "execution_count": null,
   "id": "cf09edcf-72e5-41a5-a772-49c1747ea746",
   "metadata": {},
   "outputs": [],
   "source": [
    "#re.match(pattern,string,flag=0)\n",
    "#w#rite function try to match the pattern with the string\n"
   ]
  },
  {
   "cell_type": "code",
   "execution_count": null,
   "id": "2131d3f1-7f65-46ae-9480-c2523d3ec45c",
   "metadata": {},
   "outputs": [],
   "source": [
    "#re.l-it represent case sensetive matiching\n",
    "#re.M\n",
    "#re.X\n",
    "#re.U\n"
   ]
  },
  {
   "cell_type": "code",
   "execution_count": 92,
   "id": "27740d98-a65b-4f49-8ef0-f990c73cdd57",
   "metadata": {},
   "outputs": [],
   "source": [
    "import re"
   ]
  },
  {
   "cell_type": "code",
   "execution_count": 93,
   "id": "2b7790c7-a2d4-4a50-8b22-6c1bb48b454d",
   "metadata": {},
   "outputs": [],
   "source": [
    "string=\"she shells sea shells on the sea shore\""
   ]
  },
  {
   "cell_type": "code",
   "execution_count": 99,
   "id": "a415bc09-c79e-4944-b447-b715ea050fac",
   "metadata": {},
   "outputs": [
    {
     "name": "stdout",
     "output_type": "stream",
     "text": [
      "shells p1 is not present \n"
     ]
    }
   ],
   "source": [
    "pattern1=\"shells\"\n",
    "if re.match(pattern1,string):\n",
    "    print(\"match found\")\n",
    "else:\n",
    "    print(pattern1,\"p1 is not present \")"
   ]
  },
  {
   "cell_type": "code",
   "execution_count": 100,
   "id": "fd7b96f5-585a-46b4-b6cb-5e53e02f7a7b",
   "metadata": {},
   "outputs": [
    {
     "name": "stdout",
     "output_type": "stream",
     "text": [
      "she match found\n"
     ]
    }
   ],
   "source": [
    "pattern2=\"she\"\n",
    "if re.match(pattern2,string):\n",
    "    print(pattern2,\"match found\")\n",
    "else:\n",
    "    print(pattern2,\"p2 is not present \")"
   ]
  },
  {
   "cell_type": "code",
   "execution_count": 101,
   "id": "f6d405be-4aba-4f09-9b79-fd6e4a99ec0e",
   "metadata": {},
   "outputs": [],
   "source": [
    "#search function\n",
    "#re.search(pattern,string,flag=0)"
   ]
  },
  {
   "cell_type": "code",
   "execution_count": 102,
   "id": "8e4465e4-cff2-45e6-843d-07264f044b96",
   "metadata": {},
   "outputs": [
    {
     "name": "stdout",
     "output_type": "stream",
     "text": [
      "match found\n"
     ]
    }
   ],
   "source": [
    "pattern1=\"shells\"\n",
    "if re.search(pattern1,string):\n",
    "    print(\"match found\")\n",
    "else:\n",
    "    print(pattern1,\"p1 is not present \")"
   ]
  },
  {
   "cell_type": "code",
   "execution_count": 103,
   "id": "c3f851a3-b47c-4037-b8a7-98cd12fafe7e",
   "metadata": {},
   "outputs": [],
   "source": [
    "#sub fuction\n",
    "#re.sub(pattern,repl,string,max=0)\n"
   ]
  },
  {
   "cell_type": "code",
   "execution_count": 104,
   "id": "b8877b31-8c96-4db1-9ef7-f365204158d8",
   "metadata": {},
   "outputs": [],
   "source": [
    "string=\"she shells sea shells on the sea shore\""
   ]
  },
  {
   "cell_type": "code",
   "execution_count": 105,
   "id": "7634ebe1-0cb3-43ca-90d1-2b17e7a0388d",
   "metadata": {},
   "outputs": [],
   "source": [
    "pattern=\"sea\"\n",
    "repl=\"ocean\"\n",
    "new_string=re.sub(pattern,repl,string,1)"
   ]
  },
  {
   "cell_type": "code",
   "execution_count": 106,
   "id": "241fe184-522d-4ac5-9b05-9ac2351866b8",
   "metadata": {},
   "outputs": [
    {
     "data": {
      "text/plain": [
       "'she shells ocean shells on the sea shore'"
      ]
     },
     "execution_count": 106,
     "metadata": {},
     "output_type": "execute_result"
    }
   ],
   "source": [
    "new_string"
   ]
  },
  {
   "cell_type": "code",
   "execution_count": 107,
   "id": "d15933af-6c9d-431e-919e-da3d70dfbfb9",
   "metadata": {},
   "outputs": [],
   "source": [
    "#findall()\n",
    "#finditer()"
   ]
  },
  {
   "cell_type": "code",
   "execution_count": 108,
   "id": "aed10db1-f04d-4ccc-8b70-9e5c7cdabf81",
   "metadata": {},
   "outputs": [],
   "source": [
    "#match_list=re.findall(pattern, string, flags=0)"
   ]
  },
  {
   "cell_type": "code",
   "execution_count": 113,
   "id": "34cbb872-c145-4d10-99a4-1c3716508894",
   "metadata": {},
   "outputs": [],
   "source": [
    "pattern=r\"[a-z A-Z]+\\d+\"\n",
    "matches=re.findall(pattern, \"LXI2013,VXI2015,VDI20104,Maruti Suzuki car in india\")"
   ]
  },
  {
   "cell_type": "code",
   "execution_count": 115,
   "id": "5b7ca2d3-d4c5-4fa7-a157-0c39063904b6",
   "metadata": {},
   "outputs": [
    {
     "name": "stdout",
     "output_type": "stream",
     "text": [
      "LXI2013 VXI2015 VDI20104 "
     ]
    }
   ],
   "source": [
    "for match in matches:\n",
    "    print(match,end=\" \")"
   ]
  },
  {
   "cell_type": "code",
   "execution_count": 127,
   "id": "de07889c-a100-403c-a4d8-31dec4335bf1",
   "metadata": {},
   "outputs": [],
   "source": [
    "pattern=r\"[a-z A-Z]+\\d+\""
   ]
  },
  {
   "cell_type": "code",
   "execution_count": 128,
   "id": "920e19d2-4ec1-4ba8-b679-c9312aa4b08a",
   "metadata": {},
   "outputs": [],
   "source": [
    "pattern=r\"[a-z A-Z]+\\d+\"\n",
    "matches=re.finditer(pattern, \"LXI2013,VXI2015,VDI20104,Maruti Suzuki car available with us\")"
   ]
  },
  {
   "cell_type": "code",
   "execution_count": 129,
   "id": "fe958524-f49c-4b1a-bbf5-0d6c8257db2e",
   "metadata": {},
   "outputs": [
    {
     "name": "stdout",
     "output_type": "stream",
     "text": [
      "match.startindex 0\n",
      "match.startindex 8\n",
      "match.startindex 16\n"
     ]
    }
   ],
   "source": [
    "for match in matches:\n",
    "    print(\"match.startindex\",match.start())"
   ]
  },
  {
   "cell_type": "code",
   "execution_count": null,
   "id": "9086075b-2be0-45db-9ed0-3a7daa37fe9a",
   "metadata": {},
   "outputs": [],
   "source": [
    "#re.I re.IGNORECASE\n",
    "#re.S \n",
    "#re.DOTALL\n",
    "#re.M re.MULTILINE ^ $\n",
    "#re.L re.LOCAL\n",
    "#re.U re.UNICODE\n",
    "#META CHARACTER IN REGULAR EXPERSSION\n",
    "#CHARACTER CLASSES \n"
   ]
  },
  {
   "cell_type": "code",
   "execution_count": 130,
   "id": "c5f0fa1e-0729-4206-8001-101ef24e3e83",
   "metadata": {},
   "outputs": [],
   "source": [
    "#wap that accept string \n",
    "vowels=['a','e','i','o','u','A','E','I','O']"
   ]
  },
  {
   "cell_type": "code",
   "execution_count": 132,
   "id": "c30f879f-c3ab-4c85-bb5b-6dfc82d8601e",
   "metadata": {},
   "outputs": [
    {
     "name": "stdin",
     "output_type": "stream",
     "text": [
      "Enter a string:  \"she shells sea shells on the sea shore\"\n"
     ]
    },
    {
     "name": "stdout",
     "output_type": "stream",
     "text": [
      "String after removing vowels: \"sh shlls s shlls n th s shr\"\n"
     ]
    }
   ],
   "source": [
    "def remove_vowels(input_str):\n",
    "    vowels = \"aeiouAEIOU\" \n",
    "    result = \"\"\n",
    "\n",
    "  \n",
    "    for char in input_str:\n",
    "        if char not in vowels:  \n",
    "            result = result+char\n",
    "\n",
    "    return result \n",
    "\n",
    "user_input = input(\"Enter a string: \")\n",
    "print(\"String after removing vowels:\", remove_vowels(user_input))"
   ]
  },
  {
   "cell_type": "code",
   "execution_count": 141,
   "id": "18a67c70-9717-484e-a292-f77e6afdc93d",
   "metadata": {},
   "outputs": [
    {
     "name": "stdout",
     "output_type": "stream",
     "text": [
      "[a e i o u] match found\n"
     ]
    }
   ],
   "source": [
    "#wap that check string has atlest 1 vowel\n",
    "pattern=\"[a e i o u]\"\n",
    "string=\"she shells sea shells on the sea shore\"\n",
    "if re.search(pattern,string):\n",
    "    print(pattern,\"match found\")\n",
    "else:\n",
    "    print(pattern,\"p is not present \")"
   ]
  },
  {
   "cell_type": "code",
   "execution_count": null,
   "id": "228eff5a-3b18-4d0d-b18a-e7ef79eb2c35",
   "metadata": {},
   "outputs": [],
   "source": []
  },
  {
   "cell_type": "code",
   "execution_count": null,
   "id": "3df1666a-6160-4b70-8494-eac4c0bad47e",
   "metadata": {},
   "outputs": [],
   "source": []
  }
 ],
 "metadata": {
  "kernelspec": {
   "display_name": "Python 3 (ipykernel)",
   "language": "python",
   "name": "python3"
  },
  "language_info": {
   "codemirror_mode": {
    "name": "ipython",
    "version": 3
   },
   "file_extension": ".py",
   "mimetype": "text/x-python",
   "name": "python",
   "nbconvert_exporter": "python",
   "pygments_lexer": "ipython3",
   "version": "3.11.7"
  }
 },
 "nbformat": 4,
 "nbformat_minor": 5
}
