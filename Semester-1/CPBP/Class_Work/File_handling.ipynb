{
 "cells": [
  {
   "cell_type": "code",
   "execution_count": 1,
   "id": "6238c777-7756-4504-b700-a7916b24d10c",
   "metadata": {},
   "outputs": [
    {
     "data": {
      "text/plain": [
       "'reading,writing append mode.r-read mode,w-write ,a=append mode\\nr+=read or write mode\\na+=append or read mode\\nwb,rb,ab,ab+,rb+\\n'"
      ]
     },
     "execution_count": 1,
     "metadata": {},
     "output_type": "execute_result"
    }
   ],
   "source": [
    "#opening or creating a file\n",
    "\"\"\"reading,writing append mode.r-read mode,w+=write ,a=append mode\n",
    "r+=read or write mode\n",
    "a+=append or read mode\n",
    "wb,rb,ab,ab+,rb+\n",
    "\"\"\"\n"
   ]
  },
  {
   "cell_type": "code",
   "execution_count": 2,
   "id": "88db7237-7d21-4fb4-a85d-464e1be8197b",
   "metadata": {},
   "outputs": [
    {
     "data": {
      "text/plain": [
       "'\\nclose file in python\\nread([n])\\nreadline([n])-why next line\\nreadlines()-all in one line\\nread()\\n'"
      ]
     },
     "execution_count": 2,
     "metadata": {},
     "output_type": "execute_result"
    }
   ],
   "source": [
    "\"\"\"\n",
    "close file in python\n",
    "read([n])\n",
    "readline([n])-why next line\n",
    "readlines()-all in one line\n",
    "read()\n",
    "\"\"\"\n",
    "\n"
   ]
  },
  {
   "cell_type": "code",
   "execution_count": 3,
   "id": "66d76953-ebe7-487f-af3c-b5f3aa17247e",
   "metadata": {},
   "outputs": [
    {
     "data": {
      "text/plain": [
       "' write(string)\\nwritelines(list)\\nappend in the python file\\n'"
      ]
     },
     "execution_count": 3,
     "metadata": {},
     "output_type": "execute_result"
    }
   ],
   "source": [
    "\"\"\" write(string)\n",
    "writelines(list)\n",
    "append in the python file\n",
    "\"\"\"\n"
   ]
  },
  {
   "cell_type": "code",
   "execution_count": 6,
   "id": "597b070a-f7e4-433d-8b6e-7dbef6db525f",
   "metadata": {},
   "outputs": [
    {
     "data": {
      "text/plain": [
       "'pickle-dump load'"
      ]
     },
     "execution_count": 6,
     "metadata": {},
     "output_type": "execute_result"
    }
   ],
   "source": [
    "\n",
    "\"\"\"pickle-dump load\"\"\""
   ]
  },
  {
   "cell_type": "code",
   "execution_count": 5,
   "id": "b432fa6a-333b-45ee-aa61-ae6ad666fe03",
   "metadata": {},
   "outputs": [],
   "source": [
    "import csv"
   ]
  },
  {
   "cell_type": "code",
   "execution_count": 7,
   "id": "90e26d65-70d9-4e5d-818d-7a97001b4515",
   "metadata": {},
   "outputs": [],
   "source": [
    "#with open path name/records ascsvf we dont have to close if weuse with keyword"
   ]
  },
  {
   "cell_type": "code",
   "execution_count": null,
   "id": "0d8a4db3-68ab-415f-92e6-f8f1c8572c11",
   "metadata": {},
   "outputs": [],
   "source": [
    "if the file already exist and some data the content is over writtern"
   ]
  },
  {
   "cell_type": "code",
   "execution_count": 5,
   "id": "3d71d90a-d711-4161-b747-95938678c4cf",
   "metadata": {},
   "outputs": [
    {
     "name": "stdout",
     "output_type": "stream",
     "text": [
      "Succescopied first 10 bytes from C:\\Users\\Nilanshu Nilay\\Desktop\\Semester 1\\python\\Welcome to the world of python.txt to C:\\Users\\Nilanshu Nilay\\Desktop\\Semester 1\\python\\hello world.txt\n"
     ]
    }
   ],
   "source": [
    "# write a programthat copy first 10 byte of the binary file into another\n",
    "def copy_first_10_bytes(input_file, output_file):  \n",
    "    try:  \n",
    "        with open(input_file, 'rb') as infile:  \n",
    "            data = infile.read(10)  \n",
    "        with open(output_file, 'wb') as outfile:  \n",
    "            outfile.write(data)  \n",
    "        print(f\"Succescopied first 10 bytes from {input_file} to {output_file}\")  \n",
    "    except Exception as e:  \n",
    "        print(f\"An error occurred: {e}\")  \n",
    "# Example usage  \n",
    "input_filename = r\"C:\\Users\\Nilanshu Nilay\\Desktop\\Semester 1\\python\\Welcome to the world of python.txt\"  # Replace with your input file name  \n",
    "output_filename = r\"C:\\Users\\Nilanshu Nilay\\Desktop\\Semester 1\\python\\hello world.txt\"  # Replace with your output file name  \n",
    "copy_first_10_bytes(input_filename, output_filename)"
   ]
  },
  {
   "cell_type": "code",
   "execution_count": 13,
   "id": "f04a4ac7-37fb-4e1e-b077-a99f34bf8eca",
   "metadata": {},
   "outputs": [],
   "source": [
    "with open(r\"C:\\Users\\Nilanshu Nilay\\Desktop\\Semester 1\\python\\Welcome to the world of python.txt\", 'rb') as file1:  \n",
    "    with open(r\"C:\\Users\\Nilanshu Nilay\\Desktop\\Semester 1\\python\\hello world.txt\", 'wb') as file2:  \n",
    "        while True:  \n",
    "            buf = file1.read(10)  \n",
    "            if not buf:  \n",
    "                break  \n",
    "            file2.write(buf)"
   ]
  },
  {
   "cell_type": "code",
   "execution_count": 9,
   "id": "862c87c5-51f3-4888-956f-2bada6c80da0",
   "metadata": {},
   "outputs": [],
   "source": [
    "#write a program that copies are python script into another in such a way that all comment lines are skipped and not copied in the destination file\n"
   ]
  },
  {
   "cell_type": "code",
   "execution_count": 12,
   "id": "11ac0140-fd25-47a8-9d42-2805e2c65de5",
   "metadata": {},
   "outputs": [
    {
     "name": "stdout",
     "output_type": "stream",
     "text": [
      "Copied contents from C:\\Users\\Nilanshu Nilay\\Desktop\\Semester 1\\python\\Welcome to the world of python.txt to C:\\Users\\Nilanshu Nilay\\Desktop\\Semester 1\\python\\hello world.txt without comments.\n"
     ]
    }
   ],
   "source": [
    "def copy_script_without_comments(source_file, destination_file):\n",
    "    with open(source_file, 'r') as src:  \n",
    "            with open(destination_file, 'w') as dest:  \n",
    "                for line in src:  \n",
    "                    if not line.strip().startswith('#'):  \n",
    "                        dest.write(line) \n",
    "    print(\"Copied contents from\" ,source_file, \"to\" ,destination_file ,\"without comments.\")\n",
    "source_file_path = r\"C:\\Users\\Nilanshu Nilay\\Desktop\\Semester 1\\python\\Welcome to the world of python.txt\"  # Replace with your source file path  \n",
    "destination_file_path = r\"C:\\Users\\Nilanshu Nilay\\Desktop\\Semester 1\\python\\hello world.txt\"  # Replace with your destination file path  \n",
    "\n",
    "copy_script_without_comments(source_file_path, destination_file_path)\n",
    "    "
   ]
  },
  {
   "cell_type": "code",
   "execution_count": 16,
   "id": "6fb3afd1-5a2b-4f90-bb88-8e49cdb3f94b",
   "metadata": {},
   "outputs": [],
   "source": [
    "#WAP THAT ACCEPT FILE NAME AS AN INPUT FROM THE USER OPEN THE FILE AND COUNT THE NO OF TIME A CHARACTER APPERS IN A FILE\n",
    "def count_character_in_file(filename, character):  \n",
    "    with open(filename, 'r') as file:  \n",
    "            count = 0  \n",
    "            for line in file:  \n",
    "                count += line.count(character)  \n",
    "    return count  "
   ]
  },
  {
   "cell_type": "code",
   "execution_count": 22,
   "id": "2b2f7a6f-0807-4518-9ff7-2d29ad0ff946",
   "metadata": {},
   "outputs": [
    {
     "data": {
      "text/plain": [
       "3"
      ]
     },
     "execution_count": 22,
     "metadata": {},
     "output_type": "execute_result"
    }
   ],
   "source": [
    "count_character_in_file(r\"C:\\Users\\Nilanshu Nilay\\Desktop\\Semester 1\\python\\Welcome to the world of python.txt\" , \"t\")"
   ]
  },
  {
   "cell_type": "code",
   "execution_count": 25,
   "id": "3347c70a-8d43-4e0f-8645-b46f49b42bca",
   "metadata": {},
   "outputs": [
    {
     "name": "stdout",
     "output_type": "stream",
     "text": [
      "Total Letters: 25\n",
      "Vowels: 8 (32.00%)\n",
      "Consonants: 17 (68.00%)\n"
     ]
    }
   ],
   "source": [
    "#wap that read data from a file and calculate the percentage of vowels and consonents in the file.\n",
    "def calculate_percentage(filename):  \n",
    "    vowels_count = 0  \n",
    "    consonants_count = 0  \n",
    "    total_letters = 0  \n",
    "    vowels = \"aeiouAEIOU\"  \n",
    "    with open(filename, 'r') as file:  \n",
    "        for line in file:  \n",
    "            for char in line:  \n",
    "                if char.isalpha():  \n",
    "                    total_letters += 1  \n",
    "                    if char in vowels:  \n",
    "                        vowels_count += 1  \n",
    "                    else:  \n",
    "                        consonants_count += 1  \n",
    "    if total_letters > 0:  \n",
    "        vowels_percentage = (vowels_count / total_letters) * 100  \n",
    "        consonants_percentage = (consonants_count / total_letters) * 100  \n",
    "    else:  \n",
    "        vowels_percentage = 0  \n",
    "        consonants_percentage = 0  \n",
    "\n",
    "    print(f\"Total Letters: {total_letters}\")\n",
    "    print(f\"Vowels: {vowels_count} ({vowels_percentage:.2f}%)\")  \n",
    "    print(f\"Consonants: {consonants_count} ({consonants_percentage:.2f}%)\")  \n",
    "calculate_percentage(r\"C:\\Users\\Nilanshu Nilay\\Desktop\\Semester 1\\python\\Welcome to the world of python.txt\")"
   ]
  },
  {
   "cell_type": "code",
   "execution_count": null,
   "id": "97b13a00-9b40-405c-a5d1-6f264cd930f4",
   "metadata": {},
   "outputs": [],
   "source": []
  }
 ],
 "metadata": {
  "kernelspec": {
   "display_name": "Python 3 (ipykernel)",
   "language": "python",
   "name": "python3"
  },
  "language_info": {
   "codemirror_mode": {
    "name": "ipython",
    "version": 3
   },
   "file_extension": ".py",
   "mimetype": "text/x-python",
   "name": "python",
   "nbconvert_exporter": "python",
   "pygments_lexer": "ipython3",
   "version": "3.11.7"
  }
 },
 "nbformat": 4,
 "nbformat_minor": 5
}
