{
 "cells": [
  {
   "cell_type": "code",
   "execution_count": 1,
   "id": "911e6c2a-d755-4db5-9c7c-8293583641c7",
   "metadata": {},
   "outputs": [],
   "source": [
    "import array as arr"
   ]
  },
  {
   "cell_type": "code",
   "execution_count": 4,
   "id": "b18e5fc5-6489-494d-8084-b24579be495e",
   "metadata": {},
   "outputs": [
    {
     "name": "stdout",
     "output_type": "stream",
     "text": [
      "Initial Array:\n",
      "1 2 3 4 5 6 7 8 9 10 \n",
      "array('i', [4, 5, 6, 7, 8])\n",
      "\n",
      "array('i', [6, 7, 8, 9, 10])\n",
      "\n",
      "array('i', [1, 2, 3, 4, 5, 6, 7, 8, 9, 10])\n"
     ]
    }
   ],
   "source": [
    "l=[1,2,3,4,5,6,7,8,9,10]\n",
    "a=arr.array('i',l)\n",
    "print(\"Initial Array:\")\n",
    "for i in (a):\n",
    "    print(i,end=\" \")\n",
    "Sliced_array = a[3:8]\n",
    "print()\n",
    "print(Sliced_array)\n",
    "Sliced_array=a[5:]\n",
    "print()\n",
    "print(Sliced_array)\n",
    "Sliced_array=a[:]\n",
    "print()\n",
    "print(Sliced_array)"
   ]
  },
  {
   "cell_type": "code",
   "execution_count": 5,
   "id": "842f408e-0e5a-4ec7-bebe-fa29bc0d0b28",
   "metadata": {},
   "outputs": [],
   "source": [
    "import array"
   ]
  },
  {
   "cell_type": "code",
   "execution_count": 11,
   "id": "f731c34d-0810-4371-a39d-8913a5e529d9",
   "metadata": {},
   "outputs": [
    {
     "name": "stdout",
     "output_type": "stream",
     "text": [
      "The new create array is 1 2 3 1 2 3 \n",
      "1\n",
      "0\n"
     ]
    }
   ],
   "source": [
    "arr=array.array('i',[1,2,3,1,2,3])\n",
    "print(\"The new create array is\",end=\" \")\n",
    "for i in range(0,6):\n",
    "    print(arr[i],end=\" \")\n",
    "print(\"\\r\")\n",
    "print(arr.index(2))\n",
    "print(arr.index(1))"
   ]
  },
  {
   "cell_type": "code",
   "execution_count": 25,
   "id": "34e94f99-d3ee-45b8-8475-70a5ca5eb871",
   "metadata": {},
   "outputs": [],
   "source": [
    "#sort a list\n",
    "#orted_list = sorted(unshorted_list,key=len)"
   ]
  },
  {
   "cell_type": "code",
   "execution_count": 26,
   "id": "09f3007f-36b1-4082-949c-448bb14f6c44",
   "metadata": {},
   "outputs": [],
   "source": [
    "def Sorting(lst):\n",
    "    lst2=sorted(lst,key= len)\n",
    "    return lst2"
   ]
  },
  {
   "cell_type": "code",
   "execution_count": 27,
   "id": "2b94f5ce-2595-43b3-a561-9b4df8fa4301",
   "metadata": {},
   "outputs": [],
   "source": [
    "lst=[\"rohan\",\"ary\",\"nick\",\"zak\",\"baka\",\"Madara\"]"
   ]
  },
  {
   "cell_type": "code",
   "execution_count": 29,
   "id": "3a5d2ba1-c673-484c-aa26-f5927f29706b",
   "metadata": {},
   "outputs": [
    {
     "data": {
      "text/plain": [
       "['ary', 'zak', 'nick', 'baka', 'rohan', 'Madara']"
      ]
     },
     "execution_count": 29,
     "metadata": {},
     "output_type": "execute_result"
    }
   ],
   "source": [
    "Sorting(lst)"
   ]
  },
  {
   "cell_type": "code",
   "execution_count": 33,
   "id": "a00bbb35-8011-412e-93da-7fd2cd5b59b0",
   "metadata": {},
   "outputs": [],
   "source": [
    "def bubblesort(l):\n",
    "    n = len(l)\n",
    "\n",
    "    for i in range(n-1):\n",
    "\n",
    "        for j in range(n - i-1):\n",
    "            if l[j] > l[j + 1]:\n",
    "                l[j], l[j + 1] = l[j + 1], l[j]\n",
    "                "
   ]
  },
  {
   "cell_type": "code",
   "execution_count": 34,
   "id": "acd5b6d5-bf8a-41ac-b829-f721fcdba489",
   "metadata": {},
   "outputs": [
    {
     "name": "stdout",
     "output_type": "stream",
     "text": [
      "[5, 8, 10, 20]\n"
     ]
    }
   ],
   "source": [
    "l = [10, 8, 20, 5]\n",
    "\n",
    "bubblesort(l)\n",
    "\n",
    "print(l)"
   ]
  },
  {
   "cell_type": "code",
   "execution_count": 35,
   "id": "29e79953-3d8d-48c9-ad6b-1c9b692a4f87",
   "metadata": {},
   "outputs": [],
   "source": [
    "#Bubble sort\n",
    "#O(n^2)\n",
    "def bubblesort(l):\n",
    "    n= len(l)\n",
    "    for i in range(n-1):\n",
    "        swapped =False\n",
    "        for j in range(n-i-1):\n",
    "            if l[j]>l[j+1]:\n",
    "                l[j+1],l[j]=l[j],l[j+1]\n",
    "                swapped =True\n",
    "        if swapped==False:\n",
    "            return\n",
    "            "
   ]
  },
  {
   "cell_type": "code",
   "execution_count": 36,
   "id": "0ae704a3-ebf0-40db-8d68-8ced31c758ed",
   "metadata": {},
   "outputs": [
    {
     "name": "stdout",
     "output_type": "stream",
     "text": [
      "[5, 8, 10, 20]\n"
     ]
    }
   ],
   "source": [
    "l = [10, 8, 20, 5]\n",
    "\n",
    "bubblesort(l)\n",
    "\n",
    "print(l)"
   ]
  },
  {
   "cell_type": "code",
   "execution_count": 40,
   "id": "38cdabd9-4e08-40a5-94d3-3ac07e3f4afb",
   "metadata": {},
   "outputs": [],
   "source": [
    "#tuple "
   ]
  },
  {
   "cell_type": "code",
   "execution_count": 41,
   "id": "31bd93b0-958e-48ed-a19b-a2696f0b44ff",
   "metadata": {},
   "outputs": [],
   "source": [
    "a=(1,\"Sam\",\"king\",3.4,True)"
   ]
  },
  {
   "cell_type": "code",
   "execution_count": 42,
   "id": "78e2b429-c3d3-4b22-909a-74bc003967e3",
   "metadata": {},
   "outputs": [
    {
     "data": {
      "text/plain": [
       "(1, 'Sam', 'king', 3.4, True)"
      ]
     },
     "execution_count": 42,
     "metadata": {},
     "output_type": "execute_result"
    }
   ],
   "source": [
    "a"
   ]
  },
  {
   "cell_type": "code",
   "execution_count": 43,
   "id": "0945e9c2-c4b7-458c-bdd4-74e3f8cb61a1",
   "metadata": {},
   "outputs": [
    {
     "data": {
      "text/plain": [
       "'sam'"
      ]
     },
     "execution_count": 43,
     "metadata": {},
     "output_type": "execute_result"
    }
   ],
   "source": [
    "t=(\"sam\")\n",
    "t"
   ]
  },
  {
   "cell_type": "code",
   "execution_count": 50,
   "id": "95a41439-af39-49fd-b25f-6dcd3c76954b",
   "metadata": {},
   "outputs": [
    {
     "name": "stdout",
     "output_type": "stream",
     "text": [
      "((((((((((((((((((((('sam',),),),),),),),),),),),),),),),),),),),),)\n",
      "(((((((((((((((((((((('sam',),),),),),),),),),),),),),),),),),),),),),)\n",
      "((((((((((((((((((((((('sam',),),),),),),),),),),),),),),),),),),),),),),)\n",
      "(((((((((((((((((((((((('sam',),),),),),),),),),),),),),),),),),),),),),),),)\n",
      "((((((((((((((((((((((((('sam',),),),),),),),),),),),),),),),),),),),),),),),),)\n"
     ]
    }
   ],
   "source": [
    "n=5\n",
    "for i in range(int(n)):\n",
    "    t=(t,)\n",
    "    print(t)"
   ]
  },
  {
   "cell_type": "code",
   "execution_count": 51,
   "id": "81aea05d-3702-4562-a231-0b92d9681edd",
   "metadata": {},
   "outputs": [
    {
     "data": {
      "text/plain": [
       "'s'"
      ]
     },
     "execution_count": 51,
     "metadata": {},
     "output_type": "execute_result"
    }
   ],
   "source": [
    "j=tuple(\"sam\")\n",
    "j[0]"
   ]
  },
  {
   "cell_type": "code",
   "execution_count": 52,
   "id": "f62e0c2f-55f9-41b1-848f-55d97535302f",
   "metadata": {},
   "outputs": [],
   "source": [
    "j2=(\"sam\",\"is\",\"dancing\")"
   ]
  },
  {
   "cell_type": "code",
   "execution_count": 53,
   "id": "f46a6012-ccc8-40fa-a519-03019ac1abad",
   "metadata": {},
   "outputs": [],
   "source": [
    "a,b,c=j2"
   ]
  },
  {
   "cell_type": "code",
   "execution_count": 54,
   "id": "a76998e1-4448-43d9-9b8f-529b056ff2c0",
   "metadata": {},
   "outputs": [
    {
     "data": {
      "text/plain": [
       "'sam'"
      ]
     },
     "execution_count": 54,
     "metadata": {},
     "output_type": "execute_result"
    }
   ],
   "source": [
    "a"
   ]
  },
  {
   "cell_type": "code",
   "execution_count": 55,
   "id": "74f5907f-891f-4ed0-ae3b-13abd5d015a2",
   "metadata": {},
   "outputs": [
    {
     "data": {
      "text/plain": [
       "'is'"
      ]
     },
     "execution_count": 55,
     "metadata": {},
     "output_type": "execute_result"
    }
   ],
   "source": [
    "b"
   ]
  },
  {
   "cell_type": "code",
   "execution_count": 56,
   "id": "49932251-3aa7-44b0-9a44-b6e6b1a6fa4b",
   "metadata": {},
   "outputs": [
    {
     "data": {
      "text/plain": [
       "'dancing'"
      ]
     },
     "execution_count": 56,
     "metadata": {},
     "output_type": "execute_result"
    }
   ],
   "source": [
    "c"
   ]
  },
  {
   "cell_type": "code",
   "execution_count": 61,
   "id": "63505c74-dd11-4037-a4a7-36973853d9a3",
   "metadata": {},
   "outputs": [
    {
     "data": {
      "text/plain": [
       "(1, 2, 3)"
      ]
     },
     "execution_count": 61,
     "metadata": {},
     "output_type": "execute_result"
    }
   ],
   "source": [
    "# concatation\n",
    "t1= (1,2,3)\n",
    "t2=(4,5,6,\"Sam\")\n",
    "t1"
   ]
  },
  {
   "cell_type": "code",
   "execution_count": 62,
   "id": "005658e5-6993-4de4-a49e-5e564fe0e6e2",
   "metadata": {},
   "outputs": [
    {
     "data": {
      "text/plain": [
       "(4, 5, 6, 'Sam')"
      ]
     },
     "execution_count": 62,
     "metadata": {},
     "output_type": "execute_result"
    }
   ],
   "source": [
    "t2"
   ]
  },
  {
   "cell_type": "code",
   "execution_count": 63,
   "id": "f7550f38-216f-4454-a61b-2680a926baf1",
   "metadata": {},
   "outputs": [],
   "source": [
    "t3=t1+t2"
   ]
  },
  {
   "cell_type": "code",
   "execution_count": 64,
   "id": "cbd4493e-f5c0-4f7e-9b51-b2a0ad6a49b1",
   "metadata": {},
   "outputs": [
    {
     "data": {
      "text/plain": [
       "(1, 2, 3, 4, 5, 6, 'Sam')"
      ]
     },
     "execution_count": 64,
     "metadata": {},
     "output_type": "execute_result"
    }
   ],
   "source": [
    "t3"
   ]
  },
  {
   "cell_type": "code",
   "execution_count": 65,
   "id": "1792b852-5323-4a33-b6d9-755233b0d30d",
   "metadata": {},
   "outputs": [
    {
     "data": {
      "text/plain": [
       "(3, 4)"
      ]
     },
     "execution_count": 65,
     "metadata": {},
     "output_type": "execute_result"
    }
   ],
   "source": [
    "t3[2:4]"
   ]
  },
  {
   "cell_type": "code",
   "execution_count": 67,
   "id": "6cf17cd5-bf5a-43f1-94c0-daf6fe86a9b2",
   "metadata": {},
   "outputs": [
    {
     "data": {
      "text/plain": [
       "(1, 2, 3, 4, 5, 6)"
      ]
     },
     "execution_count": 67,
     "metadata": {},
     "output_type": "execute_result"
    }
   ],
   "source": [
    "t3[0:6]"
   ]
  },
  {
   "cell_type": "code",
   "execution_count": 73,
   "id": "55f5e403-bcc7-4e75-9212-ef917d51f11e",
   "metadata": {},
   "outputs": [
    {
     "data": {
      "text/plain": [
       "('Sam',)"
      ]
     },
     "execution_count": 73,
     "metadata": {},
     "output_type": "execute_result"
    }
   ],
   "source": [
    "t3[6:]"
   ]
  },
  {
   "cell_type": "code",
   "execution_count": 74,
   "id": "0a06f4a1-2940-46ce-805c-46de68fb6c3d",
   "metadata": {},
   "outputs": [
    {
     "data": {
      "text/plain": [
       "(2, 3, 4, 5, 6, 'Sam')"
      ]
     },
     "execution_count": 74,
     "metadata": {},
     "output_type": "execute_result"
    }
   ],
   "source": [
    "t3[1:]"
   ]
  },
  {
   "cell_type": "code",
   "execution_count": 75,
   "id": "82b812a3-5bae-416f-85f3-fb157fe3b7db",
   "metadata": {},
   "outputs": [
    {
     "data": {
      "text/plain": [
       "('Sam', 6, 5, 4, 3, 2, 1)"
      ]
     },
     "execution_count": 75,
     "metadata": {},
     "output_type": "execute_result"
    }
   ],
   "source": [
    "t3[::-1]"
   ]
  },
  {
   "cell_type": "code",
   "execution_count": 76,
   "id": "689b24ce-77c4-43e0-9e16-a9f30a9197fb",
   "metadata": {},
   "outputs": [],
   "source": [
    "#TUPLE are immutable and cant be deleted\n",
    "#they can be deleted by whole by using del() command"
   ]
  },
  {
   "cell_type": "code",
   "execution_count": 77,
   "id": "6830ca23-88cc-47d1-a1de-8a1add6bb98a",
   "metadata": {},
   "outputs": [],
   "source": [
    "#emurate"
   ]
  },
  {
   "cell_type": "code",
   "execution_count": 80,
   "id": "edb3eee1-5dd9-484f-8cc6-326f5ae83808",
   "metadata": {},
   "outputs": [],
   "source": [
    "#tuple assignment\n"
   ]
  },
  {
   "cell_type": "code",
   "execution_count": 79,
   "id": "83eb1c51-236a-4606-8402-e725be1d9c42",
   "metadata": {},
   "outputs": [],
   "source": [
    "def getMax(l):\n",
    "    if not l:\n",
    "        return None\n",
    "    else:\n",
    "\n",
    "        res = l[0]                  # assume l[0] is the max\n",
    "        for i in range(1, len(l)):  # iterate through index 1 to last\n",
    "            if l[i] > res:           # check whether current element is greater than res\n",
    "                res = l[i]          # if current element is greater than res ,update res to current\n",
    "        return res"
   ]
  },
  {
   "cell_type": "code",
   "execution_count": 82,
   "id": "21d7cf3c-87cf-483c-97b8-4c78ae0894cd",
   "metadata": {},
   "outputs": [],
   "source": [
    "def max_min(val):\n",
    "    x=max(val)\n",
    "    y=min(val)\n",
    "    return (x,y)"
   ]
  },
  {
   "cell_type": "code",
   "execution_count": 83,
   "id": "d43c5061-849b-4866-aa3d-968548379f1c",
   "metadata": {},
   "outputs": [],
   "source": [
    "T= (\"apple\",\"orange\",\"banana\")"
   ]
  },
  {
   "cell_type": "code",
   "execution_count": 84,
   "id": "9202d3df-9dac-4c50-840f-11b18f22f35c",
   "metadata": {},
   "outputs": [
    {
     "name": "stdout",
     "output_type": "stream",
     "text": [
      "apple\n",
      "orange\n",
      "banana\n"
     ]
    }
   ],
   "source": [
    "for i in range(len(T)):\n",
    "    print(T[i])"
   ]
  },
  {
   "cell_type": "code",
   "execution_count": null,
   "id": "f3386bc1-edb5-4fec-a033-ae6c289b2ed2",
   "metadata": {},
   "outputs": [],
   "source": []
  }
 ],
 "metadata": {
  "kernelspec": {
   "display_name": "Python 3 (ipykernel)",
   "language": "python",
   "name": "python3"
  },
  "language_info": {
   "codemirror_mode": {
    "name": "ipython",
    "version": 3
   },
   "file_extension": ".py",
   "mimetype": "text/x-python",
   "name": "python",
   "nbconvert_exporter": "python",
   "pygments_lexer": "ipython3",
   "version": "3.11.7"
  }
 },
 "nbformat": 4,
 "nbformat_minor": 5
}
