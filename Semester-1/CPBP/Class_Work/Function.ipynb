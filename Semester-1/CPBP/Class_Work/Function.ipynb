{
 "cells": [
  {
   "cell_type": "code",
   "execution_count": 15,
   "id": "e6b4aa63-cea2-46a6-823d-54d3744ac57b",
   "metadata": {},
   "outputs": [
    {
     "name": "stdout",
     "output_type": "stream",
     "text": [
      "False\n",
      "True\n"
     ]
    }
   ],
   "source": [
    "\n",
    "def has_duplicate_word(sentence):\n",
    "    words = sentence.split()  # Split the sentence into words\n",
    "    unique_words = []          # Create an empty list to store unique words\n",
    "\n",
    "    for word in words:\n",
    "        # Convert to lowercase to make the check case-insensitive\n",
    "        normalized_word = word.lower()  \n",
    "        if normalized_word in unique_words:\n",
    "            return True          # Return True if a duplicate is found\n",
    "        unique_words.append(normalized_word)  # Add the word to the unique list\n",
    "\n",
    "    return False  # No duplicates found\n",
    "\n",
    "# Example usage:\n",
    "print(has_duplicate_word(\"This is a test sentence\"))  # Output: False\n",
    "print(has_duplicate_word(\"This is a test test sentence\"))  # Output: True\n"
   ]
  },
  {
   "cell_type": "code",
   "execution_count": 4,
   "id": "820d38c6-677b-40a3-a530-5d3c0f1a7a8a",
   "metadata": {},
   "outputs": [
    {
     "name": "stdin",
     "output_type": "stream",
     "text": [
      "Enter a sentence:  myy\n"
     ]
    },
    {
     "name": "stdout",
     "output_type": "stream",
     "text": [
      "The sentence contains words with duplicate letters.\n"
     ]
    }
   ],
   "source": [
    "def has_duplicate_letters(sentence):\n",
    "# Split the sentence into words\n",
    "    words = sentence.split()\n",
    "# Loop through each word\n",
    "    for word in words:\n",
    "# Create a set of characters in the word\n",
    "        unique_chars = set(word)\n",
    "# Check if there are duplicate letters\n",
    "        if len(unique_chars) < len(word):\n",
    "            return True # Return True if duplicates are found\n",
    "    return False # Return False if no duplicates are found\n",
    "# Input\n",
    "sentence = input(\"Enter a sentence: \")\n",
    "# Call the function & print the result\n",
    "if has_duplicate_letters(sentence):\n",
    "    print(\"The sentence contains words with duplicate letters.\")\n",
    "else:\n",
    "    print(\"No words with duplicate letters found.\")\n"
   ]
  },
  {
   "cell_type": "code",
   "execution_count": 11,
   "id": "4b1fe752-1c19-49e9-9a38-8f67b16a576e",
   "metadata": {},
   "outputs": [],
   "source": [
    "w=\"myyyy man\"\n",
    "t=w.split()\n",
    "z=set(t)"
   ]
  },
  {
   "cell_type": "code",
   "execution_count": 13,
   "id": "cd4f9f36-7709-4b65-96f2-82048e36e063",
   "metadata": {},
   "outputs": [
    {
     "data": {
      "text/plain": [
       "['myyyy', 'man']"
      ]
     },
     "execution_count": 13,
     "metadata": {},
     "output_type": "execute_result"
    }
   ],
   "source": [
    "t"
   ]
  },
  {
   "cell_type": "code",
   "execution_count": 14,
   "id": "c945e703-1404-4426-91de-fc8a264fc2c9",
   "metadata": {},
   "outputs": [
    {
     "data": {
      "text/plain": [
       "{'man', 'myyyy'}"
      ]
     },
     "execution_count": 14,
     "metadata": {},
     "output_type": "execute_result"
    }
   ],
   "source": [
    "z"
   ]
  },
  {
   "cell_type": "code",
   "execution_count": 17,
   "id": "b4ee6545-5a45-4bfc-be53-8069aadffa9f",
   "metadata": {},
   "outputs": [
    {
     "name": "stdout",
     "output_type": "stream",
     "text": [
      "True\n",
      "False\n",
      "True\n",
      "True\n"
     ]
    }
   ],
   "source": [
    "#Develop a function that takes a list and checks whether all elements in the\n",
    "#list are the same. For example, calling all_equal ([1, 1, 1]) should return\n",
    "#True\n",
    "def all_equal(lst):  \n",
    "    if not lst:  # Check if the list is empty  \n",
    "        return True  # Consider an empty list as having all equal elements  \n",
    "    first_element = lst[0]  # Store the first element  \n",
    "    for element in lst:  \n",
    "        if element != first_element:  # Check if any element is different  \n",
    "            return False  # If a different element is found, return False  \n",
    "    return True  # If all elements are the same, return True  \n",
    "\n",
    "# Example usage  \n",
    "print(all_equal([1, 1, 1,1,1,1,1]))  # Output: True  \n",
    "print(all_equal([1, 2, 1]))  # Output: False  \n",
    "print(all_equal([]))          # Output: True  \n",
    "print(all_equal([5]))         # Output: True"
   ]
  },
  {
   "cell_type": "code",
   "execution_count": 23,
   "id": "2d3f8eb1-7bff-4473-b0b5-000f70305907",
   "metadata": {},
   "outputs": [
    {
     "name": "stdout",
     "output_type": "stream",
     "text": [
      "True\n",
      "False\n",
      "True\n"
     ]
    }
   ],
   "source": [
    "#Write a function in python that should intake two integer values and return\n",
    "#a True or False based upon whether these integers are Anagram or not?\n",
    "def are_anagrams(num1, num2):  \n",
    "    # Convert integers to strings and sort them  \n",
    "    return sorted(str(num1)) == sorted(str(num2))  \n",
    "\n",
    "# Example Usage  \n",
    "print(are_anagrams(123, 321))  # Output: True  \n",
    "print(are_anagrams(123, 456))  # Output: False  \n",
    "print(are_anagrams(112, 121))  # Output: True"
   ]
  },
  {
   "cell_type": "code",
   "execution_count": 26,
   "id": "eb63fbb0-a857-4a74-a5bc-852c426770d1",
   "metadata": {},
   "outputs": [
    {
     "name": "stdin",
     "output_type": "stream",
     "text": [
      "Enter the first integer:  1\n",
      "Enter the second integer:  2\n"
     ]
    },
    {
     "name": "stdout",
     "output_type": "stream",
     "text": [
      "The numbers are not anagrams.\n"
     ]
    }
   ],
   "source": [
    "def are_anagrams(num1, num2):\n",
    "# Convert both integers to strings, then sort their digits\n",
    "    return sorted(str(num1)) == sorted(str(num2))\n",
    "# Input\n",
    "num1 = int(input(\"Enter the first integer: \")) #123\n",
    "num2 = int(input(\"Enter the second integer: \")) #321\n",
    "# Output\n",
    "if are_anagrams(num1, num2):\n",
    "    print(\"The numbers are anagrams.\")\n",
    "else:\n",
    "    print(\"The numbers are not anagrams.\")\n"
   ]
  },
  {
   "cell_type": "code",
   "execution_count": 28,
   "id": "1849ae75-9b54-4576-ac28-92d7374ced4a",
   "metadata": {},
   "outputs": [
    {
     "name": "stdin",
     "output_type": "stream",
     "text": [
      "Enter the number of rows for the Traingle pattern: 5\n"
     ]
    },
    {
     "name": "stdout",
     "output_type": "stream",
     "text": [
      "    * \n",
      "   * * \n",
      "  * * * \n",
      " * * * * \n",
      "* * * * * \n"
     ]
    }
   ],
   "source": [
    "def Triangle_pattern(n):\n",
    "# Loop for each row\n",
    "    for i in range(1, n + 1):\n",
    "# Create leading spaces\n",
    "        spaces = ' ' * (n - i)\n",
    "# Create stars with spaces\n",
    "        stars = '* ' * i\n",
    "# Print the complete line\n",
    "        print(spaces + stars)\n",
    "# Input the now of rows\n",
    "rows = int(input(\"Enter the number of rows for the Traingle pattern:\"))\n",
    "Triangle_pattern(rows)"
   ]
  },
  {
   "cell_type": "code",
   "execution_count": 36,
   "id": "051ca628-6a2b-41fe-bb58-69a3a804c0dd",
   "metadata": {},
   "outputs": [
    {
     "name": "stdin",
     "output_type": "stream",
     "text": [
      "Enter the number of rows for the right ladder pattern: 5\n"
     ]
    },
    {
     "name": "stdout",
     "output_type": "stream",
     "text": [
      "* \n",
      "* * \n",
      "* * * \n",
      "* * * * \n",
      "* * * * * \n"
     ]
    }
   ],
   "source": [
    "def right_ladder_pattern(n):\n",
    "# Loop for each row\n",
    "    for i in range(1, n + 1):\n",
    "# Print stars\n",
    "        print('* ' * i)\n",
    "# Input the number of rows\n",
    "rows = int(input( \"Enter the number of rows for the right ladder pattern:\"))\n",
    "right_ladder_pattern(rows)"
   ]
  },
  {
   "cell_type": "code",
   "execution_count": 38,
   "id": "fd87dd10-3f5a-4d09-8121-435c9cf4c3d3",
   "metadata": {},
   "outputs": [],
   "source": [
    "def generate_sentences(list1, list2, list3):\n",
    "    sentences = [] # List to store the generated sentences\n",
    "# Loop through each element of the first list\n",
    "    for word1 in list1:\n",
    "# Loop through each element of the second list\n",
    "        for word2 in list2:\n",
    "# Loop through each element of the third list\n",
    "            for word3 in list3:\n",
    "# Combine the words into a sentence\n",
    "                sentence = word1 + ' ' + word2 + ' ' + word3\n",
    "                sentences.append(sentence) # Add the sentence to the list\n",
    "    return sentences\n",
    "# Define three lists of words\n",
    "list1 = ['I', 'You', 'We']\n",
    "list2 = ['like', 'enjoy', 'love']\n",
    "list3 = ['apples', 'pears', 'mangos']"
   ]
  },
  {
   "cell_type": "code",
   "execution_count": 39,
   "id": "6cc842f5-dd14-443e-ab8a-1ad3863ca884",
   "metadata": {},
   "outputs": [
    {
     "name": "stdout",
     "output_type": "stream",
     "text": [
      "I like apples\n",
      "I like pears\n",
      "I like mangos\n",
      "I enjoy apples\n",
      "I enjoy pears\n",
      "I enjoy mangos\n",
      "I love apples\n",
      "I love pears\n",
      "I love mangos\n",
      "You like apples\n",
      "You like pears\n",
      "You like mangos\n",
      "You enjoy apples\n",
      "You enjoy pears\n",
      "You enjoy mangos\n",
      "You love apples\n",
      "You love pears\n",
      "You love mangos\n",
      "We like apples\n",
      "We like pears\n",
      "We like mangos\n",
      "We enjoy apples\n",
      "We enjoy pears\n",
      "We enjoy mangos\n",
      "We love apples\n",
      "We love pears\n",
      "We love mangos\n"
     ]
    }
   ],
   "source": [
    "result = generate_sentences(list1, list2, list3)\n",
    "# Print the results\n",
    "for sentence in result:\n",
    "    print(sentence)"
   ]
  },
  {
   "cell_type": "code",
   "execution_count": 41,
   "id": "c921e381-7605-4bf6-b2f4-10289c573879",
   "metadata": {},
   "outputs": [
    {
     "data": {
      "text/plain": [
       "['I like apples',\n",
       " 'I like pears',\n",
       " 'I like mangos',\n",
       " 'I enjoy apples',\n",
       " 'I enjoy pears',\n",
       " 'I enjoy mangos',\n",
       " 'I love apples',\n",
       " 'I love pears',\n",
       " 'I love mangos',\n",
       " 'You like apples',\n",
       " 'You like pears',\n",
       " 'You like mangos',\n",
       " 'You enjoy apples',\n",
       " 'You enjoy pears',\n",
       " 'You enjoy mangos',\n",
       " 'You love apples',\n",
       " 'You love pears',\n",
       " 'You love mangos',\n",
       " 'We like apples',\n",
       " 'We like pears',\n",
       " 'We like mangos',\n",
       " 'We enjoy apples',\n",
       " 'We enjoy pears',\n",
       " 'We enjoy mangos',\n",
       " 'We love apples',\n",
       " 'We love pears',\n",
       " 'We love mangos']"
      ]
     },
     "execution_count": 41,
     "metadata": {},
     "output_type": "execute_result"
    }
   ],
   "source": [
    "result"
   ]
  },
  {
   "cell_type": "code",
   "execution_count": 45,
   "id": "b450694a-f742-4def-ac08-9be5de4235e4",
   "metadata": {},
   "outputs": [
    {
     "name": "stdout",
     "output_type": "stream",
     "text": [
      "[{'S001': {'Adina Park': 85}}, {'S002': {'Leyton Marsh': 98}}, {'S003': {'Duncan Boyle': 89}}, {'S004': {'Saim Richards': 92}}]\n"
     ]
    }
   ],
   "source": [
    "def lists_to_nested_dict(list1, list2, list3):\n",
    "    nested_dict = [] # List to store the resultant nested dictionaries\n",
    "# Loop through the indices of the lists\n",
    "    for i in range(len(list1)):\n",
    "# Create a dictionary for each student with their details\n",
    "        student_dict = {list1[i]: {list2[i]: list3[i]}}\n",
    "        nested_dict.append(student_dict) # Add the dictionary to the list\n",
    "    return nested_dict # Return the list of nested dictionaries\n",
    "# Lists\n",
    "list1 = ['S001', 'S002', 'S003', 'S004']\n",
    "list2 = ['Adina Park', 'Leyton Marsh', 'Duncan Boyle', 'Saim Richards']\n",
    "list3 = [85, 98, 89, 92]\n",
    "# Convert lists to a nested dictionary\n",
    "result = lists_to_nested_dict(list1, list2, list3)\n",
    "print(result)\n"
   ]
  },
  {
   "cell_type": "code",
   "execution_count": 47,
   "id": "83e05c71-52c7-41d8-bb8e-1bc47bdddc8d",
   "metadata": {},
   "outputs": [
    {
     "name": "stdin",
     "output_type": "stream",
     "text": [
      "Enter a string:  abcdef\n"
     ]
    },
    {
     "name": "stdout",
     "output_type": "stream",
     "text": [
      "Resulting string: abef\n"
     ]
    }
   ],
   "source": [
    "def get_first_last_chars(s):\n",
    "# Check if the length of the string is less than 2\n",
    "    if len(s) < 2:\n",
    "        return \"\" # Return an empty string\n",
    "    else:\n",
    "# Concatenate the first 2 and last 2 characters\n",
    "        return s[:2] + s[-2:]\n",
    "input_string = input(\"Enter a string: \")\n",
    "result = get_first_last_chars(input_string)\n",
    "print(\"Resulting string:\", result)"
   ]
  },
  {
   "cell_type": "code",
   "execution_count": null,
   "id": "873dd2f7-7916-4f06-ab0b-c97b5277716b",
   "metadata": {},
   "outputs": [],
   "source": []
  }
 ],
 "metadata": {
  "kernelspec": {
   "display_name": "Python 3 (ipykernel)",
   "language": "python",
   "name": "python3"
  },
  "language_info": {
   "codemirror_mode": {
    "name": "ipython",
    "version": 3
   },
   "file_extension": ".py",
   "mimetype": "text/x-python",
   "name": "python",
   "nbconvert_exporter": "python",
   "pygments_lexer": "ipython3",
   "version": "3.11.7"
  }
 },
 "nbformat": 4,
 "nbformat_minor": 5
}
