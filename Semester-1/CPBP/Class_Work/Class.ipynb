{
 "cells": [
  {
   "cell_type": "code",
   "execution_count": 2,
   "id": "5c7fa9df-22ad-4d30-be70-07ca2ca0e72b",
   "metadata": {},
   "outputs": [
    {
     "name": "stdout",
     "output_type": "stream",
     "text": [
      "First 10 bytes of file1:  b'Welcome to'\n",
      "File2 contents:\n",
      "b''\n",
      "File2 contents after copying:\n",
      "b'Welcome to'\n"
     ]
    }
   ],
   "source": [
    "with open(r\"H:\\hello world.txt\", \"rb\") as f:\n",
    "    a = f.read(10)\n",
    "    print(\"First 10 bytes of file1: \", a)\n",
    "\n",
    "with open(\"file2.txt\", \"wb+\") as f2:\n",
    "    print(\"File2 contents:\")\n",
    "    print(f2.read())\n",
    "    f2.seek(0)\n",
    "    t = f2.write(a)\n",
    "    f2.seek(0)\n",
    "    print(\"File2 contents after copying:\")\n",
    "    print(f2.read())\n",
    "\n"
   ]
  },
  {
   "cell_type": "code",
   "execution_count": 22,
   "id": "6dced55c-7457-4112-9427-79bb557da990",
   "metadata": {},
   "outputs": [
    {
     "name": "stdin",
     "output_type": "stream",
     "text": [
      "Enter the file name:  hello world.txt\n",
      "Enter the character to be searched:  e\n"
     ]
    },
    {
     "name": "stdout",
     "output_type": "stream",
     "text": [
      "Count of given character in file:  3\n"
     ]
    }
   ],
   "source": [
    "f = input(\"Enter the file name: \")\n",
    "ch = input(\"Enter the character to be searched: \")\n",
    "count = 0\n",
    "with open(r\"H:\\\\\" +f, \"r\") as f1:\n",
    "    for line in f1:\n",
    "        for c in line:\n",
    "            if c == ch:\n",
    "                \n",
    "                count+=1\n",
    "print(\"Count of given character in file: \", count)\n"
   ]
  },
  {
   "cell_type": "code",
   "execution_count": 25,
   "id": "2ae15c0b-8fbe-41f6-8170-68f8bd21c04c",
   "metadata": {},
   "outputs": [
    {
     "name": "stdin",
     "output_type": "stream",
     "text": [
      "Enter Employee id:  1\n",
      "Enter Employee Name:  Nilanshu\n",
      "Enter Employee Designation:  Owner\n",
      "Enter Employee Salary:  100000\n",
      "Enter Employee id:  01\n",
      "Enter Employee Name:  Mohit\n",
      "Enter Employee Designation:  Engineer\n",
      "Enter Employee Salary:  100000\n"
     ]
    },
    {
     "name": "stdout",
     "output_type": "stream",
     "text": [
      "List of Employees and their details:  {'1': ['Nilanshu', 'Owner', '100000']}\n",
      "List of Employees and their details:  {'1': ['Mohit', 'Engineer', '100000']}\n",
      "Total count of employees:  2\n"
     ]
    }
   ],
   "source": [
    "class Employee:\n",
    "    global count_of_emp\n",
    "    count_of_emp = 0\n",
    "\n",
    "    def __init__(self):\n",
    "        self.emp = {}\n",
    "    def enterEmployeeDetails(self):\n",
    "        i = int(input(\"Enter Employee id: \"))\n",
    "        n = input(\"Enter Employee Name: \")\n",
    "        d = input(\"Enter Employee Designation: \")\n",
    "        s = input(\"Enter Employee Salary: \")\n",
    "        self.emp.update({str(i): [n, d, s]})\n",
    "    def displayCount(self):\n",
    "        print(\"Total count of employees: \", count_of_emp)\n",
    "    def displayDetails(self):\n",
    "        print(\"List of Employees and their details: \", self.emp)\n",
    "\n",
    "e1 = Employee()\n",
    "e1.enterEmployeeDetails()\n",
    "count_of_emp += 1\n",
    "\n",
    "e2 = Employee()\n",
    "e2.enterEmployeeDetails()\n",
    "count_of_emp += 1\n",
    "\n",
    "e1.displayDetails()\n",
    "e2.displayDetails()\n",
    "\n",
    "e2.displayCount()\n"
   ]
  },
  {
   "cell_type": "code",
   "execution_count": 26,
   "id": "6401e1bb-8f47-459f-90db-5b2b8fcccfcf",
   "metadata": {},
   "outputs": [
    {
     "name": "stdout",
     "output_type": "stream",
     "text": [
      "\n",
      "Given radius:  7\n",
      "Area of circle:  153.86\n",
      "Circumference of circle:  43.96\n",
      "\n",
      "Given radius:  10\n",
      "Area of circle:  314.0\n",
      "Circumference of circle:  62.800000000000004\n"
     ]
    }
   ],
   "source": [
    "class Circle:\n",
    "    def __init__(self, radius):\n",
    "        self.radius = radius\n",
    "        self.area = 0\n",
    "        self.circum = 0\n",
    "        self.pi = 3.14\n",
    "    def calcArea(self):\n",
    "        self.area = self.pi * self.radius * self.radius\n",
    "    def calcCircum(self):\n",
    "        self.circum = 2 * self.pi * self.radius\n",
    "    def printDetails(self):\n",
    "        print()\n",
    "        print(\"Given radius: \", self.radius)\n",
    "        print(\"Area of circle: \", self.area)\n",
    "        print(\"Circumference of circle: \", self.circum)\n",
    "\n",
    "c1 = Circle(7)\n",
    "c1.calcArea()\n",
    "c1.calcCircum()\n",
    "\n",
    "c2 = Circle(10)\n",
    "c2.calcArea()\n",
    "c2.calcCircum()\n",
    "\n",
    "c1.printDetails()\n",
    "c2.printDetails()\n"
   ]
  },
  {
   "cell_type": "code",
   "execution_count": 27,
   "id": "478b4960-ac19-4a38-91ad-f3cf1acbaf88",
   "metadata": {},
   "outputs": [
    {
     "name": "stdout",
     "output_type": "stream",
     "text": [
      "\n",
      "***********************************************************\n"
     ]
    },
    {
     "name": "stdin",
     "output_type": "stream",
     "text": [
      "Enter your choice:\n",
      "1. Press 1 to enter a new book into the system.\n",
      "2. Press 2 to display all records.\n",
      "3. Press 3 to search book by title and print its details\n",
      "4. Press 4 to search book by author and print its details\n",
      "5. Press anything else to exit\n",
      "Enter your choice:  1\n"
     ]
    },
    {
     "name": "stdout",
     "output_type": "stream",
     "text": [
      "\n"
     ]
    },
    {
     "name": "stdin",
     "output_type": "stream",
     "text": [
      "Enter title of book:  Machine Learning\n",
      "Enter name of author of book:  Tom m. Mitchel\n",
      "Enter price of book:  1250\n"
     ]
    },
    {
     "name": "stdout",
     "output_type": "stream",
     "text": [
      "\n",
      "***********************************************************\n"
     ]
    },
    {
     "name": "stdin",
     "output_type": "stream",
     "text": [
      "Enter your choice:\n",
      "1. Press 1 to enter a new book into the system.\n",
      "2. Press 2 to display all records.\n",
      "3. Press 3 to search book by title and print its details\n",
      "4. Press 4 to search book by author and print its details\n",
      "5. Press anything else to exit\n",
      "Enter your choice:  2\n"
     ]
    },
    {
     "name": "stdout",
     "output_type": "stream",
     "text": [
      "-----------\n",
      "Title of book:  Machine Learning\n",
      "Author of book:  Tom m. Mitchel\n",
      "Price of book:  1250\n",
      "-----------\n",
      "\n",
      "\n",
      "***********************************************************\n"
     ]
    },
    {
     "name": "stdin",
     "output_type": "stream",
     "text": [
      "Enter your choice:\n",
      "1. Press 1 to enter a new book into the system.\n",
      "2. Press 2 to display all records.\n",
      "3. Press 3 to search book by title and print its details\n",
      "4. Press 4 to search book by author and print its details\n",
      "5. Press anything else to exit\n",
      "Enter your choice:  5\n"
     ]
    },
    {
     "name": "stdout",
     "output_type": "stream",
     "text": [
      "Invalid choice! Exiting the program\n"
     ]
    }
   ],
   "source": [
    "class Book():\n",
    "    def __init__(self,):\n",
    "        self.title = \"\"\n",
    "        self.author = \"\"\n",
    "        self.price = \"\"\n",
    "    def read(self):\n",
    "        print()\n",
    "        self.title = input(\"Enter title of book: \")\n",
    "        self.author = input(\"Enter name of author of book: \")\n",
    "        self.price = input(\"Enter price of book: \")\n",
    "    def display(self):\n",
    "        print(\"-----------\")\n",
    "        print(\"Title of book: \", self.title)\n",
    "        print(\"Author of book: \", self.author)\n",
    "        print(\"Price of book: \", self.price)\n",
    "        print(\"-----------\")\n",
    "\n",
    "list_of_books = []\n",
    "while True:\n",
    "    print()\n",
    "    print(\"***********************************************************\")\n",
    "    ch = input(\"Enter your choice:\\n1. Press 1 to enter a new book into the system.\\n2. Press 2 to display all records.\\n3. Press 3 to search book by title and print its details\\n4. Press 4 to search book by author and print its details\\n5. Press anything else to exit\\nEnter your choice: \")\n",
    "    if int(ch) == 1:\n",
    "        obj = Book()\n",
    "        obj.read()\n",
    "        list_of_books.append(obj)\n",
    "    elif int(ch) == 2:\n",
    "        for i in list_of_books:\n",
    "            i.display()\n",
    "            print()\n",
    "    elif int(ch) == 3:\n",
    "        pat = input(\"Enter the search keyword in title: \")\n",
    "        for i in list_of_books:\n",
    "            if pat.lower() in i.title.lower():\n",
    "                i.display()\n",
    "    elif int(ch) == 4:\n",
    "        pat = input(\"Enter the search keyword in author name: \")\n",
    "        for i in list_of_books:\n",
    "            if pat.lower() in i.author.lower():\n",
    "                i.display()\n",
    "    else:\n",
    "        print(\"Invalid choice! Exiting the program\")\n",
    "        break\n"
   ]
  },
  {
   "cell_type": "code",
   "execution_count": 28,
   "id": "a554997d-bacb-4997-9faf-a3e41dd9060b",
   "metadata": {},
   "outputs": [
    {
     "name": "stdout",
     "output_type": "stream",
     "text": [
      "X = 1, Y = 2\n",
      "X = 10, Y = 20\n",
      "X_relected = 10, Y_reflected = -20\n"
     ]
    }
   ],
   "source": [
    "class Point:\n",
    "    def __init__(self, x, y):\n",
    "        self.x = x\n",
    "        self.y = y\n",
    "        self.x_new = 0\n",
    "        self.y_new = 0\n",
    "    def display_point(self):\n",
    "        print(f'X = {self.x}, Y = {self.y}')\n",
    "\n",
    "class Location(Point):\n",
    "    def reflection(self):\n",
    "        self.y_new = self.y * -1\n",
    "        self.x_new = self.x\n",
    "        print(f'X_relected = {self.x_new}, Y_reflected = {self.y_new}')\n",
    "\n",
    "location = Location(1, 2)\n",
    "destination = Location(10, 20)\n",
    "\n",
    "location.display_point()\n",
    "destination.display_point()\n",
    "destination.reflection()\n"
   ]
  },
  {
   "cell_type": "code",
   "execution_count": 30,
   "id": "803c8039-07c3-4412-9c0e-5a6903850780",
   "metadata": {},
   "outputs": [
    {
     "name": "stdout",
     "output_type": "stream",
     "text": [
      "\n",
      "Menu:\n",
      "1. Add Department\n",
      "2. Add Course\n",
      "3. Add Student\n",
      "4. Enroll Student in a Course\n",
      "5. Display Enrollments\n",
      "6. Exit\n"
     ]
    },
    {
     "name": "stdin",
     "output_type": "stream",
     "text": [
      "Enter your choice:  1\n",
      "Enter department name:  AI\n"
     ]
    },
    {
     "name": "stdout",
     "output_type": "stream",
     "text": [
      "Department 'AI' added.\n",
      "\n",
      "Menu:\n",
      "1. Add Department\n",
      "2. Add Course\n",
      "3. Add Student\n",
      "4. Enroll Student in a Course\n",
      "5. Display Enrollments\n",
      "6. Exit\n"
     ]
    },
    {
     "name": "stdin",
     "output_type": "stream",
     "text": [
      "Enter your choice:  2\n",
      "Enter the department for the course:  CPBP\n"
     ]
    },
    {
     "name": "stdout",
     "output_type": "stream",
     "text": [
      "Department not found.\n",
      "\n",
      "Menu:\n",
      "1. Add Department\n",
      "2. Add Course\n",
      "3. Add Student\n",
      "4. Enroll Student in a Course\n",
      "5. Display Enrollments\n",
      "6. Exit\n"
     ]
    },
    {
     "name": "stdin",
     "output_type": "stream",
     "text": [
      "Enter your choice:  6\n"
     ]
    },
    {
     "name": "stdout",
     "output_type": "stream",
     "text": [
      "Exiting program. Goodbye!\n"
     ]
    }
   ],
   "source": [
    "class Person:\n",
    "    def __init__(self, name):\n",
    "        self.name = name\n",
    "\n",
    "    def __str__(self):\n",
    "        return f\"Name: {self.name}\"\n",
    "\n",
    "\n",
    "# Student class inheriting from Person\n",
    "class Student(Person):\n",
    "    def __init__(self, name, roll_no):\n",
    "        super().__init__(name)\n",
    "        self.roll_no = roll_no\n",
    "\n",
    "    def __str__(self):\n",
    "        return f\"Student Name: {self.name}, Roll No: {self.roll_no}\"\n",
    "\n",
    "\n",
    "# Base class: AcademicEntity\n",
    "class AcademicEntity:\n",
    "    def __init__(self, name):\n",
    "        self.name = name\n",
    "\n",
    "    def __str__(self):\n",
    "        return f\"{self.__class__.__name__} Name: {self.name}\"\n",
    "\n",
    "\n",
    "# Course class inheriting from AcademicEntity\n",
    "class Course(AcademicEntity):\n",
    "    def __init__(self, name, code, year, semester):\n",
    "        super().__init__(name)\n",
    "        self.code = code\n",
    "        self.year = year\n",
    "        self.semester = semester\n",
    "\n",
    "    def __str__(self):\n",
    "        return f\"Course Name: {self.name}, Code: {self.code}, Year: {self.year}, Semester: {self.semester}\"\n",
    "\n",
    "\n",
    "# Department class inheriting from AcademicEntity\n",
    "class Department(AcademicEntity):\n",
    "    def __init__(self, name):\n",
    "        super().__init__(name)\n",
    "        self.courses = []  # List of courses in the department\n",
    "\n",
    "    def add_course(self, course):\n",
    "        self.courses.append(course)\n",
    "\n",
    "    def __str__(self):\n",
    "        return f\"Department Name: {self.name}\"\n",
    "\n",
    "\n",
    "# Enrollment system for handling enrollments\n",
    "class Enrollment:\n",
    "    def __init__(self):\n",
    "        self.enrollments = {}  # Maps students to courses\n",
    "\n",
    "    def enroll_student(self, student, course, department):\n",
    "        if student not in self.enrollments:\n",
    "            self.enrollments[student] = []\n",
    "        self.enrollments[student].append((course, department))\n",
    "\n",
    "    def display_enrollments(self):\n",
    "        for student, courses in self.enrollments.items():\n",
    "            print(f\"\\n{student}:\")\n",
    "            for course, department in courses:\n",
    "                print(f\"  Enrolled in {course} of {department}\")\n",
    "\n",
    "\n",
    "# Main menu-driven program\n",
    "if __name__ == \"__main__\":\n",
    "    # Initialize data structures\n",
    "    students = []\n",
    "    courses = []\n",
    "    departments = []\n",
    "    enrollment_system = Enrollment()\n",
    "\n",
    "    while True:\n",
    "        print(\"\\nMenu:\")\n",
    "        print(\"1. Add Department\")\n",
    "        print(\"2. Add Course\")\n",
    "        print(\"3. Add Student\")\n",
    "        print(\"4. Enroll Student in a Course\")\n",
    "        print(\"5. Display Enrollments\")\n",
    "        print(\"6. Exit\")\n",
    "\n",
    "        choice = input(\"Enter your choice: \")\n",
    "\n",
    "        if choice == \"1\":\n",
    "            # Add a department\n",
    "            dept_name = input(\"Enter department name: \")\n",
    "            department = Department(dept_name)\n",
    "            departments.append(department)\n",
    "            print(f\"Department '{dept_name}' added.\")\n",
    "\n",
    "        elif choice == \"2\":\n",
    "            # Add a course\n",
    "            if not departments:\n",
    "                print(\"No departments available. Add a department first.\")\n",
    "                continue\n",
    "            dept_name = input(\"Enter the department for the course: \")\n",
    "            department = next((d for d in departments if d.name == dept_name), None)\n",
    "            if not department:\n",
    "                print(\"Department not found.\")\n",
    "                continue\n",
    "            course_name = input(\"Enter course name: \")\n",
    "            course_code = input(\"Enter course code: \")\n",
    "            course_year = input(\"Enter course year: \")\n",
    "            course_semester = input(\"Enter course semester: \")\n",
    "            course = Course(course_name, course_code, course_year, course_semester)\n",
    "            department.add_course(course)\n",
    "            courses.append(course)\n",
    "            print(f\"Course '{course_name}' added to department '{dept_name}'.\")\n",
    "\n",
    "        elif choice == \"3\":\n",
    "            # Add a student\n",
    "            student_name = input(\"Enter student name: \")\n",
    "            student_roll_no = input(\"Enter student roll number: \")\n",
    "            student = Student(student_name, student_roll_no)\n",
    "            students.append(student)\n",
    "            print(f\"Student '{student_name}' added.\")\n",
    "\n",
    "        elif choice == \"4\":\n",
    "            # Enroll a student in a course\n",
    "            if not students or not courses:\n",
    "                print(\"No students or courses available. Add them first.\")\n",
    "                continue\n",
    "            student_roll_no = input(\"Enter student roll number: \")\n",
    "            student = next((s for s in students if s.roll_no == student_roll_no), None)\n",
    "            if not student:\n",
    "                print(\"Student not found.\")\n",
    "                continue\n",
    "            course_code = input(\"Enter course code: \")\n",
    "            course = next((c for c in courses if c.code == course_code), None)\n",
    "            if not course:\n",
    "                print(\"Course not found.\")\n",
    "                continue\n",
    "            department = next((d for d in departments if course in d.courses), None)\n",
    "            if not department:\n",
    "                print(\"Department for the course not found.\")\n",
    "                continue\n",
    "            enrollment_system.enroll_student(student, course, department)\n",
    "            print(f\"Student '{student.name}' enrolled in course '{course.name}'.\")\n",
    "\n",
    "        elif choice == \"5\":\n",
    "            # Display all enrollments\n",
    "            enrollment_system.display_enrollments()\n",
    "\n",
    "        elif choice == \"6\":\n",
    "            # Exit the program\n",
    "            print(\"Exiting program. Goodbye!\")\n",
    "            break\n",
    "\n",
    "        else:\n",
    "            print(\"Invalid choice. Please try again.\")\n"
   ]
  },
  {
   "cell_type": "code",
   "execution_count": 32,
   "id": "18006715-8d8e-4f16-b583-51e9008a58d2",
   "metadata": {},
   "outputs": [
    {
     "name": "stdout",
     "output_type": "stream",
     "text": [
      "\n",
      "Menu:\n",
      "1. Add Department\n",
      "2. Add Course\n",
      "3. Add Student\n",
      "4. Enroll Student in a Course\n",
      "5. Display Enrollments\n",
      "6. Exit\n"
     ]
    },
    {
     "name": "stdin",
     "output_type": "stream",
     "text": [
      "Enter your choice:  1\n",
      "Enter department name:  AI\n"
     ]
    },
    {
     "name": "stdout",
     "output_type": "stream",
     "text": [
      "Department 'AI' added.\n",
      "\n",
      "Menu:\n",
      "1. Add Department\n",
      "2. Add Course\n",
      "3. Add Student\n",
      "4. Enroll Student in a Course\n",
      "5. Display Enrollments\n",
      "6. Exit\n"
     ]
    },
    {
     "name": "stdin",
     "output_type": "stream",
     "text": [
      "Enter your choice:  2\n",
      "Enter the department for the course:  AI\n",
      "Enter course name:  CPBP\n",
      "Enter course code:  001\n",
      "Enter course year:  2024\n",
      "Enter course semester:  01\n"
     ]
    },
    {
     "name": "stdout",
     "output_type": "stream",
     "text": [
      "Course 'CPBP' added to department 'AI'.\n",
      "\n",
      "Menu:\n",
      "1. Add Department\n",
      "2. Add Course\n",
      "3. Add Student\n",
      "4. Enroll Student in a Course\n",
      "5. Display Enrollments\n",
      "6. Exit\n"
     ]
    },
    {
     "name": "stdin",
     "output_type": "stream",
     "text": [
      "Enter your choice:  3\n",
      "Enter student name:  Nilanshu\n",
      "Enter student roll number:  24901316\n"
     ]
    },
    {
     "name": "stdout",
     "output_type": "stream",
     "text": [
      "Student 'Nilanshu' added.\n",
      "\n",
      "Menu:\n",
      "1. Add Department\n",
      "2. Add Course\n",
      "3. Add Student\n",
      "4. Enroll Student in a Course\n",
      "5. Display Enrollments\n",
      "6. Exit\n"
     ]
    },
    {
     "name": "stdin",
     "output_type": "stream",
     "text": [
      "Enter your choice:  4\n",
      "Enter student roll number:  24901316\n",
      "Enter course code:  001\n"
     ]
    },
    {
     "name": "stdout",
     "output_type": "stream",
     "text": [
      "Student 'Nilanshu' enrolled in course 'CPBP'.\n",
      "\n",
      "Menu:\n",
      "1. Add Department\n",
      "2. Add Course\n",
      "3. Add Student\n",
      "4. Enroll Student in a Course\n",
      "5. Display Enrollments\n",
      "6. Exit\n"
     ]
    },
    {
     "name": "stdin",
     "output_type": "stream",
     "text": [
      "Enter your choice:  5\n"
     ]
    },
    {
     "name": "stdout",
     "output_type": "stream",
     "text": [
      "\n",
      "Student Name: Nilanshu, Roll No: 24901316:\n",
      "  Enrolled in Course Name: CPBP, Code: 001, Year: 2024, Semester: 01 of Department Name: AI\n",
      "\n",
      "Menu:\n",
      "1. Add Department\n",
      "2. Add Course\n",
      "3. Add Student\n",
      "4. Enroll Student in a Course\n",
      "5. Display Enrollments\n",
      "6. Exit\n"
     ]
    },
    {
     "name": "stdin",
     "output_type": "stream",
     "text": [
      "Enter your choice:  6\n"
     ]
    },
    {
     "name": "stdout",
     "output_type": "stream",
     "text": [
      "Exiting program. Goodbye!\n"
     ]
    }
   ],
   "source": [
    "# WAP that has classes such as Student, Course, Department. Enroll a student in a course of a particular department. Classes are - \n",
    "# Student details - name, roll no\n",
    "# Course -  name, code, year and semester\n",
    "# Department - Name\n",
    "\n",
    "# Base class: Person\n",
    "class Person:\n",
    "    def __init__(self, name):\n",
    "        self.name = name\n",
    "\n",
    "    def __str__(self):\n",
    "        return f\"Name: {self.name}\"\n",
    "\n",
    "\n",
    "# Student class inheriting from Person\n",
    "class Student(Person):\n",
    "    def __init__(self, name, roll_no):\n",
    "        super().__init__(name)\n",
    "        self.roll_no = roll_no\n",
    "\n",
    "    def __str__(self):\n",
    "        return f\"Student Name: {self.name}, Roll No: {self.roll_no}\"\n",
    "\n",
    "\n",
    "# Base class: AcademicEntity\n",
    "class AcademicEntity:\n",
    "    def __init__(self, name):\n",
    "        self.name = name\n",
    "\n",
    "    def __str__(self):\n",
    "        return f\"{self.__class__.__name__} Name: {self.name}\"\n",
    "\n",
    "\n",
    "# Course class inheriting from AcademicEntity\n",
    "class Course(AcademicEntity):\n",
    "    def __init__(self, name, code, year, semester):\n",
    "        super().__init__(name)\n",
    "        self.code = code\n",
    "        self.year = year\n",
    "        self.semester = semester\n",
    "\n",
    "    def __str__(self):\n",
    "        return f\"Course Name: {self.name}, Code: {self.code}, Year: {self.year}, Semester: {self.semester}\"\n",
    "\n",
    "\n",
    "# Department class inheriting from AcademicEntity\n",
    "class Department(AcademicEntity):\n",
    "    def __init__(self, name):\n",
    "        super().__init__(name)\n",
    "        self.courses = []  # List of courses in the department\n",
    "\n",
    "    def add_course(self, course):\n",
    "        self.courses.append(course)\n",
    "\n",
    "    def __str__(self):\n",
    "        return f\"Department Name: {self.name}\"\n",
    "\n",
    "\n",
    "# Enrollment system for handling enrollments\n",
    "class Enrollment:\n",
    "    def __init__(self):\n",
    "        self.enrollments = {}  # Maps students to courses\n",
    "\n",
    "    def enroll_student(self, student, course, department):\n",
    "        if student not in self.enrollments:\n",
    "            self.enrollments[student] = []\n",
    "        self.enrollments[student].append((course, department))\n",
    "\n",
    "    def display_enrollments(self):\n",
    "        for student, courses in self.enrollments.items():\n",
    "            print(f\"\\n{student}:\")\n",
    "            for course, department in courses:\n",
    "                print(f\"  Enrolled in {course} of {department}\")\n",
    "\n",
    "\n",
    "# Main menu-driven program\n",
    "if __name__ == \"__main__\":\n",
    "    # Initialize data structures\n",
    "    students = []\n",
    "    courses = []\n",
    "    departments = []\n",
    "    enrollment_system = Enrollment()\n",
    "\n",
    "    while True:\n",
    "        print(\"\\nMenu:\")\n",
    "        print(\"1. Add Department\")\n",
    "        print(\"2. Add Course\")\n",
    "        print(\"3. Add Student\")\n",
    "        print(\"4. Enroll Student in a Course\")\n",
    "        print(\"5. Display Enrollments\")\n",
    "        print(\"6. Exit\")\n",
    "\n",
    "        choice = input(\"Enter your choice: \")\n",
    "\n",
    "        if choice == \"1\":\n",
    "            # Add a department\n",
    "            dept_name = input(\"Enter department name: \")\n",
    "            department = Department(dept_name)\n",
    "            departments.append(department)\n",
    "            print(f\"Department '{dept_name}' added.\")\n",
    "\n",
    "        elif choice == \"2\":\n",
    "            # Add a course\n",
    "            if not departments:\n",
    "                print(\"No departments available. Add a department first.\")\n",
    "                continue\n",
    "            dept_name = input(\"Enter the department for the course: \")\n",
    "            department = next((d for d in departments if d.name == dept_name), None)\n",
    "            if not department:\n",
    "                print(\"Department not found.\")\n",
    "                continue\n",
    "            course_name = input(\"Enter course name: \")\n",
    "            course_code = input(\"Enter course code: \")\n",
    "            course_year = input(\"Enter course year: \")\n",
    "            course_semester = input(\"Enter course semester: \")\n",
    "            course = Course(course_name, course_code, course_year, course_semester)\n",
    "            department.add_course(course)\n",
    "            courses.append(course)\n",
    "            print(f\"Course '{course_name}' added to department '{dept_name}'.\")\n",
    "\n",
    "        elif choice == \"3\":\n",
    "            # Add a student\n",
    "            student_name = input(\"Enter student name: \")\n",
    "            student_roll_no = input(\"Enter student roll number: \")\n",
    "            student = Student(student_name, student_roll_no)\n",
    "            students.append(student)\n",
    "            print(f\"Student '{student_name}' added.\")\n",
    "\n",
    "        elif choice == \"4\":\n",
    "            # Enroll a student in a course\n",
    "            if not students or not courses:\n",
    "                print(\"No students or courses available. Add them first.\")\n",
    "                continue\n",
    "            student_roll_no = input(\"Enter student roll number: \")\n",
    "            student = next((s for s in students if s.roll_no == student_roll_no), None)\n",
    "            if not student:\n",
    "                print(\"Student not found.\")\n",
    "                continue\n",
    "            course_code = input(\"Enter course code: \")\n",
    "            course = next((c for c in courses if c.code == course_code), None)\n",
    "            if not course:\n",
    "                print(\"Course not found.\")\n",
    "                continue\n",
    "            department = next((d for d in departments if course in d.courses), None)\n",
    "            if not department:\n",
    "                print(\"Department for the course not found.\")\n",
    "                continue\n",
    "            enrollment_system.enroll_student(student, course, department)\n",
    "            print(f\"Student '{student.name}' enrolled in course '{course.name}'.\")\n",
    "\n",
    "        elif choice == \"5\":\n",
    "            # Display all enrollments\n",
    "            enrollment_system.display_enrollments()\n",
    "\n",
    "        elif choice == \"6\":\n",
    "            # Exit the program\n",
    "            print(\"Exiting program. Goodbye!\")\n",
    "            break\n",
    "\n",
    "        else:\n",
    "            print(\"Invalid choice. Please try again.\")\n"
   ]
  },
  {
   "cell_type": "code",
   "execution_count": null,
   "id": "e76991c7-b0fd-499a-8301-7a797a4e6b94",
   "metadata": {},
   "outputs": [],
   "source": []
  }
 ],
 "metadata": {
  "kernelspec": {
   "display_name": "Python 3 (ipykernel)",
   "language": "python",
   "name": "python3"
  },
  "language_info": {
   "codemirror_mode": {
    "name": "ipython",
    "version": 3
   },
   "file_extension": ".py",
   "mimetype": "text/x-python",
   "name": "python",
   "nbconvert_exporter": "python",
   "pygments_lexer": "ipython3",
   "version": "3.11.7"
  }
 },
 "nbformat": 4,
 "nbformat_minor": 5
}
