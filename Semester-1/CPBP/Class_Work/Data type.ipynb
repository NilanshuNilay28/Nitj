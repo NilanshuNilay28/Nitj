{
 "cells": [
  {
   "cell_type": "markdown",
   "id": "12854952-4d98-4d02-b458-fea6b8a6d297",
   "metadata": {},
   "source": [
    "# Day 1"
   ]
  },
  {
   "cell_type": "code",
   "execution_count": 1,
   "id": "01cd8375-4adc-4bad-8f3c-7fe8f2d06fa7",
   "metadata": {},
   "outputs": [],
   "source": [
    "a='4'"
   ]
  },
  {
   "cell_type": "code",
   "execution_count": 2,
   "id": "b5dcb436-1a74-446c-b487-232d636eeca8",
   "metadata": {},
   "outputs": [],
   "source": [
    "b=ord(a)"
   ]
  },
  {
   "cell_type": "code",
   "execution_count": 3,
   "id": "a12a419b-382c-4663-98fb-1f45b0cceb3a",
   "metadata": {},
   "outputs": [
    {
     "name": "stdout",
     "output_type": "stream",
     "text": [
      "52\n"
     ]
    }
   ],
   "source": [
    "print(b)"
   ]
  },
  {
   "cell_type": "code",
   "execution_count": 4,
   "id": "54947a7b-7aa0-445c-b7c5-4bdaca23fb7c",
   "metadata": {},
   "outputs": [
    {
     "data": {
      "text/plain": [
       "'0x38'"
      ]
     },
     "execution_count": 4,
     "metadata": {},
     "output_type": "execute_result"
    }
   ],
   "source": [
    "x=hex(56)\n",
    "x"
   ]
  },
  {
   "cell_type": "code",
   "execution_count": 5,
   "id": "974ff414-e678-4d6f-bd46-135c08ca130b",
   "metadata": {},
   "outputs": [
    {
     "data": {
      "text/plain": [
       "78"
      ]
     },
     "execution_count": 5,
     "metadata": {},
     "output_type": "execute_result"
    }
   ],
   "source": [
    "t= \"N\"\n",
    "h=ord(t)\n",
    "h"
   ]
  },
  {
   "cell_type": "code",
   "execution_count": 6,
   "id": "8a634fb2-291f-4d32-8984-63de2bc7fd59",
   "metadata": {},
   "outputs": [],
   "source": [
    "c=oct(56)"
   ]
  },
  {
   "cell_type": "code",
   "execution_count": 7,
   "id": "4333fd4d-ec69-48f1-ae51-8a88609613a3",
   "metadata": {},
   "outputs": [
    {
     "data": {
      "text/plain": [
       "'0o70'"
      ]
     },
     "execution_count": 7,
     "metadata": {},
     "output_type": "execute_result"
    }
   ],
   "source": [
    "c"
   ]
  },
  {
   "cell_type": "code",
   "execution_count": 8,
   "id": "804ffa49-343d-496b-8671-01b955b4ee50",
   "metadata": {},
   "outputs": [],
   "source": [
    "x='NilanshuNilay'\n",
    "y=tuple(x)"
   ]
  },
  {
   "cell_type": "code",
   "execution_count": 9,
   "id": "bc10168b-b7f3-415e-a15d-96513c579ed0",
   "metadata": {},
   "outputs": [
    {
     "data": {
      "text/plain": [
       "('N', 'i', 'l', 'a', 'n', 's', 'h', 'u', 'N', 'i', 'l', 'a', 'y')"
      ]
     },
     "execution_count": 9,
     "metadata": {},
     "output_type": "execute_result"
    }
   ],
   "source": [
    "y"
   ]
  },
  {
   "cell_type": "code",
   "execution_count": 10,
   "id": "beacb0a8-c15d-4e7b-aadc-fe21e91418f9",
   "metadata": {},
   "outputs": [],
   "source": [
    "#Conveerting from string to set\n",
    "z=set(x)\n"
   ]
  },
  {
   "cell_type": "code",
   "execution_count": 11,
   "id": "d12ef759-6a82-4ec8-a255-6a7aef0402d3",
   "metadata": {},
   "outputs": [
    {
     "data": {
      "text/plain": [
       "{'N', 'a', 'h', 'i', 'l', 'n', 's', 'u', 'y'}"
      ]
     },
     "execution_count": 11,
     "metadata": {},
     "output_type": "execute_result"
    }
   ],
   "source": [
    "z"
   ]
  },
  {
   "cell_type": "code",
   "execution_count": 12,
   "id": "6d57760e-7334-4b8b-9152-afaa807dd5a3",
   "metadata": {},
   "outputs": [
    {
     "data": {
      "text/plain": [
       "['N', 'i', 'l', 'a', 'n', 's', 'h', 'u', 'N', 'i', 'l', 'a', 'y']"
      ]
     },
     "execution_count": 12,
     "metadata": {},
     "output_type": "execute_result"
    }
   ],
   "source": [
    "#Conveerting from string to list\n",
    "w=list(x)\n",
    "w"
   ]
  },
  {
   "cell_type": "code",
   "execution_count": 13,
   "id": "7efcb2ae-a4a1-48dc-a133-701959c91cba",
   "metadata": {},
   "outputs": [
    {
     "name": "stdout",
     "output_type": "stream",
     "text": [
      "sum 9\n"
     ]
    }
   ],
   "source": [
    "a=7\n",
    "b=2\n",
    "print(\"sum\",a+b)"
   ]
  },
  {
   "cell_type": "code",
   "execution_count": 14,
   "id": "838fa52d-351b-4281-b104-3dbd076ce026",
   "metadata": {},
   "outputs": [
    {
     "data": {
      "text/plain": [
       "5"
      ]
     },
     "execution_count": 14,
     "metadata": {},
     "output_type": "execute_result"
    }
   ],
   "source": [
    "#Suntraction\n",
    "a-b"
   ]
  },
  {
   "cell_type": "code",
   "execution_count": 15,
   "id": "a161e948-22ea-421c-be31-7b39fe0cfcf5",
   "metadata": {},
   "outputs": [
    {
     "data": {
      "text/plain": [
       "14"
      ]
     },
     "execution_count": 15,
     "metadata": {},
     "output_type": "execute_result"
    }
   ],
   "source": [
    "#multiplication\n",
    "a*b"
   ]
  },
  {
   "cell_type": "code",
   "execution_count": 16,
   "id": "a54edc5e-ca7f-4cd1-adba-5340243e92b6",
   "metadata": {},
   "outputs": [
    {
     "data": {
      "text/plain": [
       "3.5"
      ]
     },
     "execution_count": 16,
     "metadata": {},
     "output_type": "execute_result"
    }
   ],
   "source": [
    "#Division\n",
    "a/b"
   ]
  },
  {
   "cell_type": "code",
   "execution_count": 17,
   "id": "f56a5c9e-f016-4543-a319-a84d69250af3",
   "metadata": {},
   "outputs": [
    {
     "data": {
      "text/plain": [
       "3"
      ]
     },
     "execution_count": 17,
     "metadata": {},
     "output_type": "execute_result"
    }
   ],
   "source": [
    "#floor division\n",
    "a//b"
   ]
  },
  {
   "cell_type": "code",
   "execution_count": 18,
   "id": "d733012e-cef7-403f-88a4-8f66f3b65615",
   "metadata": {},
   "outputs": [
    {
     "data": {
      "text/plain": [
       "1"
      ]
     },
     "execution_count": 18,
     "metadata": {},
     "output_type": "execute_result"
    }
   ],
   "source": [
    "#modulus\n",
    "a%b  "
   ]
  },
  {
   "cell_type": "code",
   "execution_count": 19,
   "id": "2bc349ed-0fa9-4b14-a66d-d952b2bc4081",
   "metadata": {},
   "outputs": [
    {
     "data": {
      "text/plain": [
       "49"
      ]
     },
     "execution_count": 19,
     "metadata": {},
     "output_type": "execute_result"
    }
   ],
   "source": [
    "#power\n",
    "a**b"
   ]
  },
  {
   "cell_type": "code",
   "execution_count": 20,
   "id": "f7649921-5104-49a5-8eb9-4f2c4ead455c",
   "metadata": {},
   "outputs": [],
   "source": [
    "#Assignment operator\n",
    "a=10\n",
    "b=5"
   ]
  },
  {
   "cell_type": "code",
   "execution_count": 21,
   "id": "06522b91-e5d0-4105-b462-398ccd539659",
   "metadata": {},
   "outputs": [],
   "source": [
    "a+=b"
   ]
  },
  {
   "cell_type": "code",
   "execution_count": 22,
   "id": "f03e937a-e162-4386-bcd0-eccb2d0dcb03",
   "metadata": {},
   "outputs": [
    {
     "data": {
      "text/plain": [
       "15"
      ]
     },
     "execution_count": 22,
     "metadata": {},
     "output_type": "execute_result"
    }
   ],
   "source": [
    "a"
   ]
  },
  {
   "cell_type": "code",
   "execution_count": 23,
   "id": "e016260c-2ea3-4398-98c9-38522acfe821",
   "metadata": {},
   "outputs": [
    {
     "data": {
      "text/plain": [
       "10"
      ]
     },
     "execution_count": 23,
     "metadata": {},
     "output_type": "execute_result"
    }
   ],
   "source": [
    "a-=b\n",
    "a"
   ]
  },
  {
   "cell_type": "code",
   "execution_count": 24,
   "id": "1958af88-14f7-4a91-9a39-0488742032ff",
   "metadata": {},
   "outputs": [
    {
     "data": {
      "text/plain": [
       "50"
      ]
     },
     "execution_count": 24,
     "metadata": {},
     "output_type": "execute_result"
    }
   ],
   "source": [
    "a*=b\n",
    "a"
   ]
  },
  {
   "cell_type": "code",
   "execution_count": 25,
   "id": "e61ff964-e785-4b48-a8c0-78f6dd3f7b6b",
   "metadata": {},
   "outputs": [
    {
     "data": {
      "text/plain": [
       "10.0"
      ]
     },
     "execution_count": 25,
     "metadata": {},
     "output_type": "execute_result"
    }
   ],
   "source": [
    "a/=b\n",
    "a"
   ]
  },
  {
   "cell_type": "code",
   "execution_count": 26,
   "id": "153384af-675d-4315-a818-d1a44ffa8846",
   "metadata": {},
   "outputs": [
    {
     "data": {
      "text/plain": [
       "2.0"
      ]
     },
     "execution_count": 26,
     "metadata": {},
     "output_type": "execute_result"
    }
   ],
   "source": [
    "a//=b\n",
    "a"
   ]
  },
  {
   "cell_type": "code",
   "execution_count": 27,
   "id": "93235646-9165-4078-bd68-56ae6990c032",
   "metadata": {},
   "outputs": [],
   "source": [
    "a**=b"
   ]
  },
  {
   "cell_type": "code",
   "execution_count": 28,
   "id": "db6213b3-1bec-4060-bbc2-a416ca5ab29e",
   "metadata": {},
   "outputs": [
    {
     "data": {
      "text/plain": [
       "32.0"
      ]
     },
     "execution_count": 28,
     "metadata": {},
     "output_type": "execute_result"
    }
   ],
   "source": [
    "a"
   ]
  },
  {
   "cell_type": "code",
   "execution_count": 29,
   "id": "bed47ec2-b8d2-47c3-a837-edef3d9424bd",
   "metadata": {},
   "outputs": [
    {
     "data": {
      "text/plain": [
       "False"
      ]
     },
     "execution_count": 29,
     "metadata": {},
     "output_type": "execute_result"
    }
   ],
   "source": [
    "a==b"
   ]
  },
  {
   "cell_type": "code",
   "execution_count": 30,
   "id": "0019d332-ff8b-4592-b757-77c2d619700f",
   "metadata": {},
   "outputs": [
    {
     "data": {
      "text/plain": [
       "True"
      ]
     },
     "execution_count": 30,
     "metadata": {},
     "output_type": "execute_result"
    }
   ],
   "source": [
    "a!=b"
   ]
  },
  {
   "cell_type": "code",
   "execution_count": 31,
   "id": "7c961277-76d7-43fb-ac6c-999bcd076ddb",
   "metadata": {},
   "outputs": [
    {
     "data": {
      "text/plain": [
       "False"
      ]
     },
     "execution_count": 31,
     "metadata": {},
     "output_type": "execute_result"
    }
   ],
   "source": [
    "a<b"
   ]
  },
  {
   "cell_type": "code",
   "execution_count": 32,
   "id": "023a2f7a-ba5c-49ba-ba4a-89211932e157",
   "metadata": {},
   "outputs": [
    {
     "data": {
      "text/plain": [
       "True"
      ]
     },
     "execution_count": 32,
     "metadata": {},
     "output_type": "execute_result"
    }
   ],
   "source": [
    "a>b"
   ]
  },
  {
   "cell_type": "code",
   "execution_count": 33,
   "id": "7109d6e8-7a35-43de-985f-4afecbb3e609",
   "metadata": {},
   "outputs": [
    {
     "data": {
      "text/plain": [
       "False"
      ]
     },
     "execution_count": 33,
     "metadata": {},
     "output_type": "execute_result"
    }
   ],
   "source": [
    "a<=b"
   ]
  },
  {
   "cell_type": "code",
   "execution_count": 34,
   "id": "dbc0aa4e-d6ac-4569-8286-ffda00bf10f0",
   "metadata": {},
   "outputs": [
    {
     "data": {
      "text/plain": [
       "True"
      ]
     },
     "execution_count": 34,
     "metadata": {},
     "output_type": "execute_result"
    }
   ],
   "source": [
    "a>=b"
   ]
  },
  {
   "cell_type": "code",
   "execution_count": 35,
   "id": "56150afc-6e82-4058-a5c9-9c0b5e8f24b0",
   "metadata": {},
   "outputs": [
    {
     "data": {
      "text/plain": [
       "False"
      ]
     },
     "execution_count": 35,
     "metadata": {},
     "output_type": "execute_result"
    }
   ],
   "source": [
    "(a>2)and(b>5)"
   ]
  },
  {
   "cell_type": "code",
   "execution_count": 36,
   "id": "7f20ea34-8872-4d23-9313-6ba0f75f4d4f",
   "metadata": {},
   "outputs": [],
   "source": [
    "#Identity operator in python\n",
    "x1=5\n",
    "y1=5\n",
    "x2=\"Hello\"\n",
    "y2=\"Hello\"\n",
    "x3=[1,2,3]\n",
    "y3=[1,2,3]\n",
    "x4=(1,2,3)\n",
    "y4=(1,2,3)\n"
   ]
  },
  {
   "cell_type": "code",
   "execution_count": 37,
   "id": "302f06f8-6bbb-4551-90d5-6f2d2bfe6391",
   "metadata": {},
   "outputs": [
    {
     "data": {
      "text/plain": [
       "False"
      ]
     },
     "execution_count": 37,
     "metadata": {},
     "output_type": "execute_result"
    }
   ],
   "source": [
    "x1 is not y1"
   ]
  },
  {
   "cell_type": "code",
   "execution_count": 38,
   "id": "082711b7-9a72-42e6-b1b0-812789819ca5",
   "metadata": {},
   "outputs": [
    {
     "data": {
      "text/plain": [
       "True"
      ]
     },
     "execution_count": 38,
     "metadata": {},
     "output_type": "execute_result"
    }
   ],
   "source": [
    "x2=\"Hello\"\n",
    "y2=\"Hello\"\n",
    "x2 is y2 "
   ]
  },
  {
   "cell_type": "code",
   "execution_count": 39,
   "id": "9de56a0e-98fe-4ac9-9d6d-693c3bb394df",
   "metadata": {},
   "outputs": [
    {
     "data": {
      "text/plain": [
       "False"
      ]
     },
     "execution_count": 39,
     "metadata": {},
     "output_type": "execute_result"
    }
   ],
   "source": [
    "x3 is y3"
   ]
  },
  {
   "cell_type": "code",
   "execution_count": 40,
   "id": "668f102b-9643-4001-a27a-e8115f3f11dc",
   "metadata": {},
   "outputs": [
    {
     "data": {
      "text/plain": [
       "False"
      ]
     },
     "execution_count": 40,
     "metadata": {},
     "output_type": "execute_result"
    }
   ],
   "source": [
    "x4 is y4"
   ]
  },
  {
   "cell_type": "code",
   "execution_count": 41,
   "id": "86f7d32d-bf6f-48da-8cd0-bbd76fb82a10",
   "metadata": {},
   "outputs": [
    {
     "data": {
      "text/plain": [
       "True"
      ]
     },
     "execution_count": 41,
     "metadata": {},
     "output_type": "execute_result"
    }
   ],
   "source": [
    "x5=6\n",
    "y5=\"by\"\n",
    "x5 is not y5"
   ]
  },
  {
   "cell_type": "code",
   "execution_count": 42,
   "id": "cb6e8b3f-7a26-4050-833e-852f035c55b4",
   "metadata": {},
   "outputs": [
    {
     "data": {
      "text/plain": [
       "True"
      ]
     },
     "execution_count": 42,
     "metadata": {},
     "output_type": "execute_result"
    }
   ],
   "source": [
    "#membership operator\n",
    "message = \"Hello World\"\n",
    "dict1={1:'a',2:'b'}\n",
    "1 in dict1\n"
   ]
  },
  {
   "cell_type": "code",
   "execution_count": 43,
   "id": "d0962570-fdc4-4e47-87b7-e3ff33266912",
   "metadata": {},
   "outputs": [
    {
     "data": {
      "text/plain": [
       "True"
      ]
     },
     "execution_count": 43,
     "metadata": {},
     "output_type": "execute_result"
    }
   ],
   "source": [
    "\"H\" in message"
   ]
  },
  {
   "cell_type": "code",
   "execution_count": 44,
   "id": "f0ee9b34-a9ad-4790-b231-7a947294d43c",
   "metadata": {},
   "outputs": [
    {
     "data": {
      "text/plain": [
       "True"
      ]
     },
     "execution_count": 44,
     "metadata": {},
     "output_type": "execute_result"
    }
   ],
   "source": [
    "\"hello\" not in message"
   ]
  },
  {
   "cell_type": "code",
   "execution_count": 45,
   "id": "8c50d3dc-47fb-4c94-8ea7-a81755fa8b6b",
   "metadata": {},
   "outputs": [
    {
     "data": {
      "text/plain": [
       "True"
      ]
     },
     "execution_count": 45,
     "metadata": {},
     "output_type": "execute_result"
    }
   ],
   "source": [
    "1 in dict1"
   ]
  },
  {
   "cell_type": "code",
   "execution_count": 46,
   "id": "dd2265ce-cfd4-4cab-ab51-c56d0d451791",
   "metadata": {},
   "outputs": [
    {
     "name": "stdout",
     "output_type": "stream",
     "text": [
      "lunch being deliverd\n"
     ]
    }
   ],
   "source": [
    "#preccdence\n",
    "meal=\"fruit\"\n",
    "money=0\n",
    "if meal==\"fruit\" or meal==\"sandwich\" and money>=2:\n",
    "    print(\"lunch being deliverd\")\n",
    "else:\n",
    "    print(\"Can't deliver lunch\")"
   ]
  },
  {
   "cell_type": "code",
   "execution_count": 47,
   "id": "8befa5b6-0167-46ad-a5d6-bbbe449dab59",
   "metadata": {},
   "outputs": [
    {
     "name": "stdout",
     "output_type": "stream",
     "text": [
      "Can't deliver lunch\n"
     ]
    }
   ],
   "source": [
    "meal=\"fruit\"\n",
    "money=0\n",
    "if (meal==\"fruit\" or meal==\"sandwich\") and money>=2:\n",
    "    print(\"lunch being deliverd\")\n",
    "else:\n",
    "    print(\"Can't deliver lunch\")"
   ]
  },
  {
   "cell_type": "code",
   "execution_count": 48,
   "id": "8d742913-825e-4365-b61d-d69a0a60da4c",
   "metadata": {},
   "outputs": [
    {
     "data": {
      "text/plain": [
       "3"
      ]
     },
     "execution_count": 48,
     "metadata": {},
     "output_type": "execute_result"
    }
   ],
   "source": [
    "5*2//3"
   ]
  },
  {
   "cell_type": "code",
   "execution_count": 49,
   "id": "b2f8b720-504f-4b96-b7d7-769788ad7bad",
   "metadata": {},
   "outputs": [
    {
     "data": {
      "text/plain": [
       "0"
      ]
     },
     "execution_count": 49,
     "metadata": {},
     "output_type": "execute_result"
    }
   ],
   "source": [
    "5*(2//3)"
   ]
  },
  {
   "cell_type": "code",
   "execution_count": 50,
   "id": "76a18e6b-1919-4b9d-a4fd-20aeb9324e12",
   "metadata": {},
   "outputs": [
    {
     "data": {
      "text/plain": [
       "512"
      ]
     },
     "execution_count": 50,
     "metadata": {},
     "output_type": "execute_result"
    }
   ],
   "source": [
    "2**3**2\n",
    "#2 power 9"
   ]
  },
  {
   "cell_type": "code",
   "execution_count": 51,
   "id": "fbcc9ab3-7bee-4702-9a33-0fc6ea16b2fd",
   "metadata": {},
   "outputs": [
    {
     "data": {
      "text/plain": [
       "64"
      ]
     },
     "execution_count": 51,
     "metadata": {},
     "output_type": "execute_result"
    }
   ],
   "source": [
    "(2**3)**2\n",
    "#8 power 2"
   ]
  },
  {
   "cell_type": "code",
   "execution_count": 52,
   "id": "1622c134-49ac-4fce-a08f-eb3f86ededdc",
   "metadata": {},
   "outputs": [],
   "source": [
    "X=Y=Z=2"
   ]
  },
  {
   "cell_type": "code",
   "execution_count": 53,
   "id": "5c5e0a3a-92f0-4f7d-8323-76abe99c1278",
   "metadata": {},
   "outputs": [
    {
     "data": {
      "text/plain": [
       "'X=Y=Z+=2\\nCell In[86], line 1\\n    X=Y=Z+=2\\n         ^\\nSyntaxError: invalid syntax'"
      ]
     },
     "execution_count": 53,
     "metadata": {},
     "output_type": "execute_result"
    }
   ],
   "source": [
    "\"\"\"X=Y=Z+=2\n",
    "Cell In[86], line 1\n",
    "    X=Y=Z+=2\n",
    "         ^\n",
    "SyntaxError: invalid syntax\"\"\""
   ]
  },
  {
   "cell_type": "code",
   "execution_count": 54,
   "id": "11f22e85-4968-4f62-bf56-6112ba982c1f",
   "metadata": {},
   "outputs": [
    {
     "name": "stdout",
     "output_type": "stream",
     "text": [
      "3 24\n"
     ]
    }
   ],
   "source": [
    "a=12\n",
    "x=a>>2\n",
    "y=a<<1\n",
    "print(x,y)"
   ]
  },
  {
   "cell_type": "code",
   "execution_count": 55,
   "id": "92bfffb7-1446-48cf-a2fa-1bde9a76695e",
   "metadata": {},
   "outputs": [],
   "source": [
    "a=16\n",
    "b=12\n",
    "c=a+(b>>1)"
   ]
  },
  {
   "cell_type": "code",
   "execution_count": 56,
   "id": "de42f663-2c62-4f29-ba8f-47779c418d81",
   "metadata": {},
   "outputs": [
    {
     "data": {
      "text/plain": [
       "22"
      ]
     },
     "execution_count": 56,
     "metadata": {},
     "output_type": "execute_result"
    }
   ],
   "source": [
    "c"
   ]
  },
  {
   "cell_type": "code",
   "execution_count": 57,
   "id": "15bb41d0-9c12-48d1-b399-25bc78cb96a1",
   "metadata": {},
   "outputs": [
    {
     "data": {
      "text/plain": [
       "6"
      ]
     },
     "execution_count": 57,
     "metadata": {},
     "output_type": "execute_result"
    }
   ],
   "source": [
    "b>>1"
   ]
  },
  {
   "cell_type": "code",
   "execution_count": 58,
   "id": "031dda79-18ff-4925-878f-03c1c712aa48",
   "metadata": {},
   "outputs": [],
   "source": [
    "a=10+3*4"
   ]
  },
  {
   "cell_type": "code",
   "execution_count": 59,
   "id": "96ebd26d-1f59-4af0-b4bc-68338ea5f68a",
   "metadata": {},
   "outputs": [
    {
     "data": {
      "text/plain": [
       "22"
      ]
     },
     "execution_count": 59,
     "metadata": {},
     "output_type": "execute_result"
    }
   ],
   "source": [
    "a"
   ]
  },
  {
   "cell_type": "code",
   "execution_count": 60,
   "id": "31afe8b2-c099-4ec4-a026-b2d786680216",
   "metadata": {},
   "outputs": [
    {
     "data": {
      "text/plain": [
       "52"
      ]
     },
     "execution_count": 60,
     "metadata": {},
     "output_type": "execute_result"
    }
   ],
   "source": [
    "13*4"
   ]
  },
  {
   "cell_type": "code",
   "execution_count": 62,
   "id": "4e7b2a17-652e-48d7-b8b9-c6bc71cf07e3",
   "metadata": {},
   "outputs": [
    {
     "data": {
      "text/plain": [
       "'write a program to calculate the area of circle\\nto find a digit one place of number \\ncalculate avg andprint their deviation\\nto covert a floting point no to int\\nint to crossponding floating\\nf to c'"
      ]
     },
     "execution_count": 62,
     "metadata": {},
     "output_type": "execute_result"
    }
   ],
   "source": [
    "\"\"\"write a program to calculate the area of circle\n",
    "to find a digit one place of number \n",
    "calculate avg andprint their deviation\n",
    "to covert a floting point no to int\n",
    "int to crossponding floating\n",
    "f to c\"\"\""
   ]
  },
  {
   "cell_type": "markdown",
   "id": "3fa3ae9e-1b98-498c-afaf-e1702e031f31",
   "metadata": {},
   "source": [
    "# Day 2 28/08/2024"
   ]
  },
  {
   "cell_type": "code",
   "execution_count": 63,
   "id": "fc6de03e-5b40-4a08-94fc-3c9bf8d6295f",
   "metadata": {},
   "outputs": [
    {
     "name": "stdout",
     "output_type": "stream",
     "text": [
      "Above 10\n",
      "and also above 20\n"
     ]
    }
   ],
   "source": [
    "x=41\n",
    "if x>10:\n",
    "    print(\"Above 10\")\n",
    "    if x>20:\n",
    "        print(\"and also above 20\")\n",
    "    else:\n",
    "        print(\"below 20\")"
   ]
  },
  {
   "cell_type": "code",
   "execution_count": 66,
   "id": "d03cc313-64c1-4812-b113-6b706e70a9aa",
   "metadata": {},
   "outputs": [
    {
     "name": "stdin",
     "output_type": "stream",
     "text": [
      "enter a no 30\n"
     ]
    },
    {
     "name": "stdout",
     "output_type": "stream",
     "text": [
      "voter is eligible to vote\n"
     ]
    }
   ],
   "source": [
    "#write a program a voter is elegible to vote\n",
    "x=int(input(\"enter a no\"))\n",
    "if x<18:\n",
    "    print(\"voter is not  eligible to vote\")\n",
    "else:\n",
    "    print(\"voter is eligible to vote\")"
   ]
  },
  {
   "cell_type": "code",
   "execution_count": 69,
   "id": "21f1edb1-7cef-405b-ab45-2d9fbe519b9b",
   "metadata": {},
   "outputs": [
    {
     "name": "stdin",
     "output_type": "stream",
     "text": [
      "enter a no. -22\n"
     ]
    },
    {
     "name": "stdout",
     "output_type": "stream",
     "text": [
      "Negative\n"
     ]
    }
   ],
   "source": [
    "#write a program test weather a no is +tive,-tive or equal to zero\n",
    "d=int(input(\"enter a no.\"))\n",
    "if d>0:\n",
    "    print(\"positive\")\n",
    "elif d==0:\n",
    "    print(\"Zero\")\n",
    "else:\n",
    "    print(\"Negative\")"
   ]
  },
  {
   "cell_type": "code",
   "execution_count": 73,
   "id": "cf28c255-f09b-4907-b1a1-29d0cf725798",
   "metadata": {},
   "outputs": [
    {
     "name": "stdin",
     "output_type": "stream",
     "text": [
      "enter a no betwwn 1 to 7 4\n"
     ]
    },
    {
     "name": "stdout",
     "output_type": "stream",
     "text": [
      "Wednesday\n"
     ]
    }
   ],
   "source": [
    "#write a program that display a userto  enter a no between 1 to 7 and display crossponding day of week\n",
    "t= int(input(\"enter a no betwwn 1 to 7\"))\n",
    "if t==1:\n",
    "    print(\"Sunday\")\n",
    "elif t==2:\n",
    "    print(\"Monday\")\n",
    "elif t==3:\n",
    "    print(\"Tuesday\")\n",
    "elif t==4:\n",
    "    print(\"Wednesday\")\n",
    "elif t==5:\n",
    "    print(\"Thrusday\")\n",
    "elif t==6:\n",
    "    print(\"Friday\")\n",
    "elif t==7:\n",
    "    print(\"Saturday\")\n",
    "else:\n",
    "    print(\"Invalid number\")\n"
   ]
  },
  {
   "cell_type": "code",
   "execution_count": null,
   "id": "46c2e924-9c14-4a9e-a698-f3666630497c",
   "metadata": {},
   "outputs": [],
   "source": [
    "# Write a program to take input from a user and check no or char if it is a char check it is uppercase or lower case"
   ]
  },
  {
   "cell_type": "raw",
   "id": "eed2d8d1-d5ee-42b6-9a96-e50d1beef434",
   "metadata": {},
   "source": [
    "Range vs inumarate//len()"
   ]
  },
  {
   "cell_type": "code",
   "execution_count": 74,
   "id": "4022f2c0-0ce9-45b6-8386-15c17d318350",
   "metadata": {},
   "outputs": [
    {
     "name": "stdout",
     "output_type": "stream",
     "text": [
      "sum of no 55\n",
      "Avg 5.0\n"
     ]
    }
   ],
   "source": [
    "#write a prog to sum and avg first 10 number \n",
    "i=0\n",
    "s=0\n",
    "while i<=10:\n",
    "    s=s+i\n",
    "    i=i+1\n",
    "print(\"sum of no\",s)\n",
    "print(\"Avg\",s/i)"
   ]
  },
  {
   "cell_type": "code",
   "execution_count": 80,
   "id": "6c912203-321e-4427-b9ee-9c157181c1ea",
   "metadata": {},
   "outputs": [
    {
     "name": "stdin",
     "output_type": "stream",
     "text": [
      "enter the first number 1\n",
      "enter the last number 5\n"
     ]
    },
    {
     "name": "stdout",
     "output_type": "stream",
     "text": [
      "sum of no. 1\n",
      "sum of no. 3\n",
      "sum of no. 6\n",
      "sum of no. 10\n",
      "sum of no. 15\n"
     ]
    }
   ],
   "source": [
    "#write a prog to sum m to n\n",
    "m=int(input(\"enter the first number\"))\n",
    "n=int(input(\"enter the last number\"))\n",
    "i=0\n",
    "s=0\n",
    "for i in range(m,n+1):\n",
    "    s=s+i\n",
    "    print(\"sum of no.\",s)\n",
    "    "
   ]
  },
  {
   "cell_type": "code",
   "execution_count": null,
   "id": "4c9a0c16-d05d-44ca-ab64-bed408cc8856",
   "metadata": {},
   "outputs": [],
   "source": [
    "#write a prog to read the no. until -1 is encounter and find the avg of the positve and negative no enter by the user \n",
    "x= int(input(\"enter a no.\"))\n",
    "y=int(input(\"enter a no.\"))\n",
    "i=[]\n",
    "s=[]\n",
    "while x==-1 or y==-1:\n",
    "    break\n",
    "    if x >=0:\n",
    "        i.append()\n",
    "    elif x<0:\n",
    "        s.append\n",
    "        \n",
    "else:\n",
    "    "
   ]
  },
  {
   "cell_type": "code",
   "execution_count": 12,
   "id": "8004eab1-be90-4325-9afd-766ed0344627",
   "metadata": {},
   "outputs": [
    {
     "name": "stdout",
     "output_type": "stream",
     "text": [
      "enter -1 to exit\n"
     ]
    },
    {
     "ename": "NameError",
     "evalue": "name 'num' is not defined",
     "output_type": "error",
     "traceback": [
      "\u001b[1;31m---------------------------------------------------------------------------\u001b[0m",
      "\u001b[1;31mNameError\u001b[0m                                 Traceback (most recent call last)",
      "Cell \u001b[1;32mIn[12], line 7\u001b[0m\n\u001b[0;32m      5\u001b[0m pos_s\u001b[38;5;241m=\u001b[39m\u001b[38;5;241m0\u001b[39m\n\u001b[0;32m      6\u001b[0m \u001b[38;5;28mprint\u001b[39m(\u001b[38;5;124m\"\u001b[39m\u001b[38;5;124menter -1 to exit\u001b[39m\u001b[38;5;124m\"\u001b[39m)\n\u001b[1;32m----> 7\u001b[0m \u001b[38;5;28;01mwhile\u001b[39;00m num\u001b[38;5;241m!=\u001b[39m\u001b[38;5;241m-\u001b[39m\u001b[38;5;241m1\u001b[39m:\n\u001b[0;32m      8\u001b[0m     \u001b[38;5;28;01mif\u001b[39;00m num\u001b[38;5;241m<\u001b[39m\u001b[38;5;241m0\u001b[39m:\n\u001b[0;32m      9\u001b[0m         neg_c\u001b[38;5;241m=\u001b[39mneg_c\u001b[38;5;241m+\u001b[39m\u001b[38;5;241m1\u001b[39m\n",
      "\u001b[1;31mNameError\u001b[0m: name 'num' is not defined"
     ]
    }
   ],
   "source": [
    "#write a prog to read the no. until -1 is encounter and find the avg of the positve and negative no enter by the user \n",
    "neg_c=0\n",
    "pos_c=0\n",
    "neg_s=0\n",
    "pos_s=0\n",
    "print(\"enter -1 to exit\")\n",
    "while num!=-1:\n",
    "    if num<0:\n",
    "        neg_c=neg_c+1\n",
    "        neg_s= neg_s+1\n",
    "    else:\n",
    "        pos_c\n",
    "num=int(input(\"Enter a no.\"))\n",
    "    \n",
    "        \n",
    "\n",
    "        "
   ]
  },
  {
   "cell_type": "code",
   "execution_count": 9,
   "id": "756a44de-15c3-4861-aebd-1807264ad8a7",
   "metadata": {},
   "outputs": [
    {
     "name": "stdout",
     "output_type": "stream",
     "text": [
      "0 1 2 3 4 5 6 7 8 9 10 "
     ]
    }
   ],
   "source": [
    "#wap to prog to print first 10 no using while loop\n",
    "i=0\n",
    "while i<=10:\n",
    "    print(i,end=\" \")\n",
    "    i=i+1"
   ]
  },
  {
   "cell_type": "markdown",
   "id": "00a6946e-1089-479d-9a5a-cb605e606781",
   "metadata": {},
   "source": [
    "# Day 3"
   ]
  },
  {
   "cell_type": "code",
   "execution_count": 3,
   "id": "13435dbf-da67-4f6c-a80e-183dae2119bc",
   "metadata": {},
   "outputs": [
    {
     "name": "stdout",
     "output_type": "stream",
     "text": [
      "jan mon\n",
      "jan tus\n",
      "jan wed\n",
      "feb mon\n",
      "feb tus\n",
      "feb wed\n",
      "mar mon\n",
      "mar tus\n",
      "mar wed\n"
     ]
    }
   ],
   "source": [
    "month=[\"jan\",\"feb\",\"mar\"]\n",
    "days=[\"mon\",\"tus\",\"wed\"]\n",
    "for x in month:\n",
    "    for y in days:\n",
    "        print(x,y)"
   ]
  },
  {
   "cell_type": "code",
   "execution_count": 4,
   "id": "b24890c7-650b-4f99-9f73-fb4ee934d3ae",
   "metadata": {},
   "outputs": [
    {
     "name": "stdout",
     "output_type": "stream",
     "text": [
      "2 * 1 = 2\n",
      "2 * 2 = 4\n",
      "2 * 3 = 6\n",
      "2 * 4 = 8\n",
      "2 * 5 = 10\n",
      "2 * 6 = 12\n",
      "2 * 7 = 14\n",
      "2 * 8 = 16\n",
      "2 * 9 = 18\n",
      "2 * 10 = 20\n",
      "3 * 1 = 3\n",
      "3 * 2 = 6\n",
      "3 * 3 = 9\n",
      "3 * 4 = 12\n",
      "3 * 5 = 15\n",
      "3 * 6 = 18\n",
      "3 * 7 = 21\n",
      "3 * 8 = 24\n",
      "3 * 9 = 27\n",
      "3 * 10 = 30\n",
      "\n"
     ]
    }
   ],
   "source": [
    "for i in  range(2,4):\n",
    "    for j in range(1,11):\n",
    "        print(i,\"*\",j,\"=\",i*j)\n",
    "print()"
   ]
  },
  {
   "cell_type": "code",
   "execution_count": null,
   "id": "839663f8-338f-4765-9dc8-730cd940a139",
   "metadata": {},
   "outputs": [],
   "source": [
    "\"\"\"for i in range(2,3):\n",
    "    for in range(1,11):\n",
    "    print(i,\"*\",j,)\"\"\""
   ]
  },
  {
   "cell_type": "code",
   "execution_count": 5,
   "id": "bd29fd8f-eb77-4901-8df9-c39f523c1eb3",
   "metadata": {},
   "outputs": [
    {
     "name": "stdout",
     "output_type": "stream",
     "text": [
      "* \n",
      "* * \n",
      "* * * \n",
      "* * * * \n",
      "* * * * * \n"
     ]
    }
   ],
   "source": [
    "rows=5\n",
    "for i in range(1, rows+1):\n",
    "    for j in range(1,i+1):\n",
    "        print(\"*\",end=\" \")\n",
    "    print()"
   ]
  },
  {
   "cell_type": "code",
   "execution_count": 6,
   "id": "a8c3de9d-0c7a-41dc-8bfb-da86f9e3b919",
   "metadata": {},
   "outputs": [
    {
     "name": "stdout",
     "output_type": "stream",
     "text": [
      "Kelly Kelly Kelly Kelly Kelly \n",
      "jesse jesse jesse jesse jesse \n",
      "emma emma emma emma emma \n"
     ]
    }
   ],
   "source": [
    "names=['Kelly','jesse','emma']\n",
    "for name in names:\n",
    "    count=0\n",
    "    while count<5:\n",
    "        print(name,end=' ')\n",
    "        count +=1\n",
    "    print()"
   ]
  },
  {
   "cell_type": "code",
   "execution_count": 28,
   "id": "ae04bfee-b4dc-4273-815b-6c1dbb79f5df",
   "metadata": {},
   "outputs": [
    {
     "name": "stdout",
     "output_type": "stream",
     "text": [
      "* * * \n",
      "* * * \n",
      "* * * \n",
      "* * * \n",
      "* * * \n"
     ]
    }
   ],
   "source": [
    "rows =5\n",
    "for i in range(1,rows+1):\n",
    "    for j in number:\n",
    "        count=0\n",
    "        while count<3:\n",
    "            print('*',end=\" \")\n",
    "            count +=1\n",
    "        print()\n",
    "        "
   ]
  },
  {
   "cell_type": "code",
   "execution_count": 30,
   "id": "967550b8-697d-4229-9677-cfbd694e035c",
   "metadata": {},
   "outputs": [
    {
     "name": "stdout",
     "output_type": "stream",
     "text": [
      "        1 \n",
      "      2 2 \n",
      "    3 3 3 \n",
      "  4 4 4 4 \n",
      "5 5 5 5 5 \n"
     ]
    }
   ],
   "source": [
    "n= 5\n",
    "for i in range(1,n+1):\n",
    "    for k in range(n,i,-1):\n",
    "        print(\" \",end=\" \")\n",
    "    for j in range(1,i+1):\n",
    "        print(i,end=\" \")\n",
    "    print()"
   ]
  },
  {
   "cell_type": "code",
   "execution_count": null,
   "id": "84ece523-8e62-46f4-bf0d-a294a4dd092f",
   "metadata": {},
   "outputs": [],
   "source": [
    "n=5\n",
    "for i in range(1,n-(n//2 +1)):\n",
    "    for j in range(1)"
   ]
  }
 ],
 "metadata": {
  "kernelspec": {
   "display_name": "Python 3 (ipykernel)",
   "language": "python",
   "name": "python3"
  },
  "language_info": {
   "codemirror_mode": {
    "name": "ipython",
    "version": 3
   },
   "file_extension": ".py",
   "mimetype": "text/x-python",
   "name": "python",
   "nbconvert_exporter": "python",
   "pygments_lexer": "ipython3",
   "version": "3.11.7"
  }
 },
 "nbformat": 4,
 "nbformat_minor": 5
}
