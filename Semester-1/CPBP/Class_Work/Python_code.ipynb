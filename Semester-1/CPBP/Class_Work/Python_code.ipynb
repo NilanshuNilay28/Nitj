{
 "cells": [
  {
   "cell_type": "code",
   "execution_count": 1,
   "id": "499b110e-3988-4e6d-ab79-0d8c8c3e0983",
   "metadata": {},
   "outputs": [],
   "source": [
    "#write a program to swap two values using tuple assignment\n",
    "def swap_values(a, b):\n",
    "    a, b = b, a\n",
    "    return a, b"
   ]
  },
  {
   "cell_type": "code",
   "execution_count": 4,
   "id": "c2b98d01-9a21-47ec-b548-cc2939daaec7",
   "metadata": {},
   "outputs": [
    {
     "data": {
      "text/plain": [
       "(20, 10)"
      ]
     },
     "execution_count": 4,
     "metadata": {},
     "output_type": "execute_result"
    }
   ],
   "source": [
    "x=10\n",
    "y=20\n",
    "swap_values(x,y)"
   ]
  },
  {
   "cell_type": "code",
   "execution_count": 19,
   "id": "b3c8db36-6a39-4f7b-8943-35ca9f828b50",
   "metadata": {},
   "outputs": [
    {
     "name": "stdin",
     "output_type": "stream",
     "text": [
      "Enter the radius of the circle:  10\n"
     ]
    },
    {
     "name": "stdout",
     "output_type": "stream",
     "text": [
      "314.1592653589793 62.83185307179586\n"
     ]
    }
   ],
   "source": [
    "#write a program using a function that return the area and circumference of a circle whose radius is passed as an aurgument\n",
    "import math\n",
    "def circle_properties(radius):\n",
    "    area = math.pi * (radius ** 2)\n",
    "    circumference = 2 * math.pi * radius\n",
    "    return area, circumference\n",
    "\n",
    "radius = float(input(\"Enter the radius of the circle: \"))\n",
    "area, circumference = circle_properties(radius)\n",
    "print(area,circumference)"
   ]
  },
  {
   "cell_type": "code",
   "execution_count": 7,
   "id": "d45d7140-c101-497e-bd1d-c4fc1e804f5a",
   "metadata": {},
   "outputs": [],
   "source": [
    "#write a program that scans an email address and force a tuple of user name and domain\n",
    "def divide_email(email):  \n",
    "    try:  \n",
    "        user, domain = email.split('@')  \n",
    "        return (user, domain)  \n",
    "    except ValueError:  \n",
    "        return None  "
   ]
  },
  {
   "cell_type": "code",
   "execution_count": 12,
   "id": "8167ef93-1781-4b50-85af-b87b9953a93c",
   "metadata": {},
   "outputs": [
    {
     "name": "stdin",
     "output_type": "stream",
     "text": [
      "Enter an email address:  nilanshunilay100@gmail.com\n"
     ]
    },
    {
     "name": "stdout",
     "output_type": "stream",
     "text": [
      "divide email: ('nilanshunilay100', 'gmail.com')\n"
     ]
    }
   ],
   "source": [
    "email = input(\"Enter an email address: \")  \n",
    "result = divide_email(email)  \n",
    "if result:  \n",
    "    print(\"divide email:\", result)  \n",
    "else:  \n",
    "    print(\"Invalid email format\")  "
   ]
  },
  {
   "cell_type": "code",
   "execution_count": 21,
   "id": "3c630753-f5f7-4ccb-811a-588d9ee26f49",
   "metadata": {},
   "outputs": [],
   "source": [
    "def divides_email(email):   \n",
    "    user, domain = email.split('@')  \n",
    "    return (user, domain)  \n",
    " "
   ]
  },
  {
   "cell_type": "code",
   "execution_count": 26,
   "id": "fd2b07ac-fc68-477c-9839-6f60fea59468",
   "metadata": {},
   "outputs": [
    {
     "name": "stdin",
     "output_type": "stream",
     "text": [
      "Enter an email address:  a@gmail\n"
     ]
    },
    {
     "data": {
      "text/plain": [
       "('a', 'gmail')"
      ]
     },
     "execution_count": 26,
     "metadata": {},
     "output_type": "execute_result"
    }
   ],
   "source": [
    "email = input(\"Enter an email address: \")  \n",
    "r=divides_email(email)\n",
    "r"
   ]
  },
  {
   "cell_type": "code",
   "execution_count": 1,
   "id": "6d1e8633-1ea5-49a7-8774-9b6278ee37d7",
   "metadata": {},
   "outputs": [
    {
     "name": "stdout",
     "output_type": "stream",
     "text": [
      "Topper Details:\n",
      "Name: Alice Subject: Mathematics Score: 95\n",
      "Name: Bob Subject: Science Score: 92\n",
      "Name: Charlie Subject: English Score: 90\n",
      "\n",
      "Updated Topper Details:\n",
      "Topper Details:\n",
      "Name: Alice Subject: Mathematics Score: 95\n",
      "Name: Robert Subject: Science Score: 94\n",
      "Name: Charlie Subject: English Score: 90\n"
     ]
    }
   ],
   "source": [
    "#wap that has a nested list to store topper detail edit the detail and reprint the detail  \n",
    "topper_details = [  \n",
    "    [\"Alice\", \"Mathematics\", 95],  \n",
    "    [\"Bob\", \"Science\", 92],  \n",
    "    [\"Charlie\", \"English\", 90]  \n",
    "    ]   \n",
    "def print_topper_details():  \n",
    "    print(\"Topper Details:\")  \n",
    "    for detail in topper_details:  \n",
    "        print(\"Name:\", detail[0], \"Subject:\", detail[1], \"Score:\", detail[2])  \n",
    "\n",
    "# Function to edit topper details  \n",
    "def edit_topper_detail(index, name=None, subject=None, score=None):  \n",
    "    if 0 <= index < len(topper_details):  \n",
    "        if name is not None:  \n",
    "            topper_details[index][0] = name  \n",
    "        if subject is not None:  \n",
    "            topper_details[index][1] = subject  \n",
    "        if score is not None:  \n",
    "            topper_details[index][2] = score  \n",
    "    else:  \n",
    "        print(\"Invalid index!\")  \n",
    "print_topper_details()  \n",
    "edit_topper_detail(1, name=\"Robert\", score=94)  \n",
    "print(\"\\nUpdated Topper Details:\")  \n",
    "print_topper_details()\n"
   ]
  },
  {
   "cell_type": "code",
   "execution_count": null,
   "id": "397bd0e7-d027-4cea-a5f6-f4e83af8f523",
   "metadata": {},
   "outputs": [],
   "source": []
  }
 ],
 "metadata": {
  "kernelspec": {
   "display_name": "Python 3 (ipykernel)",
   "language": "python",
   "name": "python3"
  },
  "language_info": {
   "codemirror_mode": {
    "name": "ipython",
    "version": 3
   },
   "file_extension": ".py",
   "mimetype": "text/x-python",
   "name": "python",
   "nbconvert_exporter": "python",
   "pygments_lexer": "ipython3",
   "version": "3.11.7"
  }
 },
 "nbformat": 4,
 "nbformat_minor": 5
}
