{
 "cells": [
  {
   "cell_type": "code",
   "execution_count": 32,
   "id": "0157212e-7fee-4af3-84c8-b8cdcba5e416",
   "metadata": {},
   "outputs": [
    {
     "name": "stdout",
     "output_type": "stream",
     "text": [
      "2\n",
      "3\n",
      "4\n",
      "5\n",
      "6\n",
      "7\n",
      "8\n",
      "9\n"
     ]
    }
   ],
   "source": [
    "a=\"helloworld\"\n",
    "for i in range(2,len(a)):\n",
    "    print(i)"
   ]
  },
  {
   "cell_type": "code",
   "execution_count": 2,
   "id": "699f6b4f-8756-457b-a6f6-7bba874ea0cf",
   "metadata": {},
   "outputs": [
    {
     "name": "stdout",
     "output_type": "stream",
     "text": [
      "heorld\n"
     ]
    }
   ],
   "source": [
    "m=a[0:2]+a[6:10]\n",
    "print(m)"
   ]
  },
  {
   "cell_type": "code",
   "execution_count": null,
   "id": "ac11ca07-fef1-497b-ac14-6dd33fb49408",
   "metadata": {},
   "outputs": [],
   "source": [
    "for i in range()"
   ]
  },
  {
   "cell_type": "code",
   "execution_count": 21,
   "id": "34723964-cb9f-4ede-b020-23abd95d7fac",
   "metadata": {},
   "outputs": [],
   "source": [
    "#write the character from o in world to but not include d in world\n",
    "a=\"world\"\n",
    "m=a[-4:-1:1]"
   ]
  },
  {
   "cell_type": "code",
   "execution_count": 22,
   "id": "9b4e5298-b050-4a5e-b7d8-0e41c7ba0f41",
   "metadata": {},
   "outputs": [
    {
     "data": {
      "text/plain": [
       "'orl'"
      ]
     },
     "execution_count": 22,
     "metadata": {},
     "output_type": "execute_result"
    }
   ],
   "source": [
    "m"
   ]
  },
  {
   "cell_type": "code",
   "execution_count": 25,
   "id": "fa9b2835-3b7e-4bee-81d8-e4d59a39ca4b",
   "metadata": {},
   "outputs": [
    {
     "data": {
      "text/plain": [
       "'orl'"
      ]
     },
     "execution_count": 25,
     "metadata": {},
     "output_type": "execute_result"
    }
   ],
   "source": [
    "#write the character from o in world to but not include d in world\n",
    "a=\"world\"\n",
    "m=a[-4:-1]\n",
    "m"
   ]
  },
  {
   "cell_type": "code",
   "execution_count": 29,
   "id": "d36f7ac2-7a9a-437e-9d57-b6e93cf779f2",
   "metadata": {},
   "outputs": [],
   "source": [
    "#you have concinate hello world space between them\n",
    "a=\"Hello\"+\" \"+\"World\""
   ]
  },
  {
   "cell_type": "code",
   "execution_count": 30,
   "id": "5d666380-092e-49c4-8f4e-82ea8ad9c478",
   "metadata": {},
   "outputs": [
    {
     "data": {
      "text/plain": [
       "'Hello World'"
      ]
     },
     "execution_count": 30,
     "metadata": {},
     "output_type": "execute_result"
    }
   ],
   "source": [
    "a"
   ]
  },
  {
   "cell_type": "code",
   "execution_count": null,
   "id": "7405f86e-4bf0-4455-a405-aa9891d9568e",
   "metadata": {},
   "outputs": [],
   "source": [
    "# write a program to add to "
   ]
  }
 ],
 "metadata": {
  "kernelspec": {
   "display_name": "Python 3 (ipykernel)",
   "language": "python",
   "name": "python3"
  },
  "language_info": {
   "codemirror_mode": {
    "name": "ipython",
    "version": 3
   },
   "file_extension": ".py",
   "mimetype": "text/x-python",
   "name": "python",
   "nbconvert_exporter": "python",
   "pygments_lexer": "ipython3",
   "version": "3.11.7"
  }
 },
 "nbformat": 4,
 "nbformat_minor": 5
}
