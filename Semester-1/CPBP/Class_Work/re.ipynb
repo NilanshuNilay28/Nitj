{
 "cells": [
  {
   "cell_type": "code",
   "execution_count": 3,
   "id": "921a72e3-05d1-48dc-abbf-193e39b8dbf0",
   "metadata": {},
   "outputs": [
    {
     "name": "stdout",
     "output_type": "stream",
     "text": [
      "Not Done\n"
     ]
    }
   ],
   "source": [
    "import re\n",
    "if re.search(r'/Gabc', 'abcbacabc'):\n",
    "    print(\"Done\")\n",
    "else:\n",
    "    print(\"Not Done\")\n"
   ]
  },
  {
   "cell_type": "code",
   "execution_count": 17,
   "id": "35bd617b-0145-4c09-b821-a28774f476d2",
   "metadata": {},
   "outputs": [
    {
     "name": "stdout",
     "output_type": "stream",
     "text": [
      "Match hidededede\n",
      "Match Hi\n"
     ]
    }
   ],
   "source": [
    "#*,t,?\n",
    "import re\n",
    "pattern=r\"hi(de)*\"\n",
    "if re.search(pattern,\"hidedede\"):\n",
    "    print(\"Match hidededede\")\n",
    "if re.search(pattern,\"hi\"):\n",
    "    print(\"Match Hi\")"
   ]
  },
  {
   "cell_type": "code",
   "execution_count": 21,
   "id": "4b834678-2cfd-494f-bc41-94955d4cce3c",
   "metadata": {},
   "outputs": [
    {
     "name": "stdout",
     "output_type": "stream",
     "text": [
      "Match ea\n",
      "Match greaeaeat\n"
     ]
    }
   ],
   "source": [
    "pattern=r\"gr(ea)*t\"\n",
    "if re.match(pattern,\"great\"):\n",
    "    print('Match ea')\n",
    "if re.match(pattern,\"greaeaeaeat\"):\n",
    "    print(\"Match greaeaeat\")"
   ]
  },
  {
   "cell_type": "code",
   "execution_count": 30,
   "id": "d3ae82d3-eb84-4829-a818-0103e9bb7c0a",
   "metadata": {},
   "outputs": [],
   "source": [
    "pattern=r\"^[0-9]+ *\"\n",
    "string=\"12 abc\"\n",
    "match=re.search(pattern,string)"
   ]
  },
  {
   "cell_type": "code",
   "execution_count": 31,
   "id": "e88c28a0-8afc-421e-abc0-fb8c3fbe9deb",
   "metadata": {},
   "outputs": [
    {
     "name": "stdout",
     "output_type": "stream",
     "text": [
      "match\n"
     ]
    }
   ],
   "source": [
    "if match:\n",
    "    print(\"match\")\n",
    "else:\n",
    "    print(\"not match\")"
   ]
  },
  {
   "cell_type": "code",
   "execution_count": null,
   "id": "2ab6c014-2bd2-4ebd-ae67-70df0548471f",
   "metadata": {},
   "outputs": [],
   "source": []
  }
 ],
 "metadata": {
  "kernelspec": {
   "display_name": "Python 3 (ipykernel)",
   "language": "python",
   "name": "python3"
  },
  "language_info": {
   "codemirror_mode": {
    "name": "ipython",
    "version": 3
   },
   "file_extension": ".py",
   "mimetype": "text/x-python",
   "name": "python",
   "nbconvert_exporter": "python",
   "pygments_lexer": "ipython3",
   "version": "3.11.7"
  }
 },
 "nbformat": 4,
 "nbformat_minor": 5
}
