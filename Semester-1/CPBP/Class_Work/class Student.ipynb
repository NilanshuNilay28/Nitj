{
 "cells": [
  {
   "cell_type": "code",
   "execution_count": 2,
   "id": "f65cb502-9e27-4d16-9a80-e124a65d1148",
   "metadata": {},
   "outputs": [],
   "source": [
    "class Student:\n",
    "    def __init__(self, name):\n",
    "        self.name = name\n",
    "        self.marks = []  \n",
    "    def enterMarks(self):\n",
    "        for i in range(3):\n",
    "            m=int(input(\"Enter marks of %s m sub %d:\"%(self.name,i+1)))\n",
    "            self.marks.append(m)\n",
    "    def display(self):\n",
    "        print(self.name,self.marks)"
   ]
  },
  {
   "cell_type": "code",
   "execution_count": 5,
   "id": "f2b0f192-3998-4171-9310-5435fe361b2e",
   "metadata": {},
   "outputs": [
    {
     "name": "stdin",
     "output_type": "stream",
     "text": [
      "Enter marks of Anisha m sub 1: 88\n",
      "Enter marks of Anisha m sub 2: 77\n",
      "Enter marks of Anisha m sub 3: 77\n",
      "Enter marks of jeaf m sub 1: 66\n",
      "Enter marks of jeaf m sub 2: 77\n",
      "Enter marks of jeaf m sub 3: 55\n"
     ]
    },
    {
     "name": "stdout",
     "output_type": "stream",
     "text": [
      "Anisha [88, 77, 77]\n",
      "jeaf [66, 77, 55]\n"
     ]
    }
   ],
   "source": [
    "S1= Student(\"Anisha\")\n",
    "S1.enterMarks()\n",
    "S2=Student(\"jeaf\")\n",
    "S2.enterMarks()\n",
    "S1.display()\n",
    "S2.display()"
   ]
  },
  {
   "cell_type": "code",
   "execution_count": null,
   "id": "735c797c-55de-4554-8821-fd5955e7904d",
   "metadata": {},
   "outputs": [],
   "source": [
    "#WAP WITH CLASS EMPLOYEE THAT KEEP A TRACK OF THE NO OFEMPLOYE IN A ORGANIZATION AND ALSO STORE THERE NAME AND SALERY DETA"
   ]
  },
  {
   "cell_type": "code",
   "execution_count": 8,
   "id": "2da6c159-c8aa-42a5-b1ee-82cf34c0fd30",
   "metadata": {},
   "outputs": [],
   "source": [
    "class Employee:\n",
    "    empCount=0\n",
    "    def __init__(self,name,des,sa):\n",
    "        self.name = name\n",
    "        self.des =des\n",
    "        self.sa= sa\n",
    "        Employee.empCount += 1\n",
    "    def disCount(self):\n",
    "        print(\"The number of employee is %d:\"% Employee.empCount)\n",
    "    def disdetails(self):\n",
    "        print(\"name:\",self.name,\"des:\" ,self.des,\"sa:\",self.sa)\n",
    "        \n",
    "    "
   ]
  },
  {
   "cell_type": "code",
   "execution_count": 9,
   "id": "4d54f10b-9089-4ce9-844b-a29d45ca7b9c",
   "metadata": {},
   "outputs": [
    {
     "name": "stdout",
     "output_type": "stream",
     "text": [
      "The number of employee is 1:\n",
      "name: Akhil des: ___ sa: 10000\n"
     ]
    }
   ],
   "source": [
    "el=Employee(\"Akhil\",\"___\",10000)\n",
    "el.disCount()\n",
    "el.disdetails()"
   ]
  },
  {
   "cell_type": "code",
   "execution_count": 20,
   "id": "3f862cc0-ceed-42f6-acd8-77feb769e73d",
   "metadata": {},
   "outputs": [],
   "source": [
    "#wap that has a class circle use a class variable to define the constant pi and use this class variabe to claculate area and circumfernce of a circle with specified radius\n",
    "class circle:\n",
    "    def __init__(self, radius):  \n",
    "        self.radius = radius  \n",
    "        self.pi=3.14159\n",
    "    def area(self):  \n",
    "        return self.pi * (self.radius ** 2)  \n",
    "\n",
    "    def circumference(self):  \n",
    "        return 2 * self.pi * self.radius"
   ]
  },
  {
   "cell_type": "code",
   "execution_count": 25,
   "id": "3bd746e5-95de-4b6a-a644-7b43cc1d099f",
   "metadata": {},
   "outputs": [
    {
     "data": {
      "text/plain": [
       "314.159"
      ]
     },
     "execution_count": 25,
     "metadata": {},
     "output_type": "execute_result"
    }
   ],
   "source": [
    "cal=circle(10)\n",
    "cal.area()"
   ]
  },
  {
   "cell_type": "code",
   "execution_count": 26,
   "id": "a2553e9a-c78e-40b8-9dc4-8f80a71b299d",
   "metadata": {},
   "outputs": [
    {
     "data": {
      "text/plain": [
       "62.8318"
      ]
     },
     "execution_count": 26,
     "metadata": {},
     "output_type": "execute_result"
    }
   ],
   "source": [
    "cal.circumference()"
   ]
  },
  {
   "cell_type": "code",
   "execution_count": null,
   "id": "45ea94d2-d7f8-4e19-a7f0-11cc068c292d",
   "metadata": {},
   "outputs": [],
   "source": [
    "write a menu driven program that keep record of book and "
   ]
  }
 ],
 "metadata": {
  "kernelspec": {
   "display_name": "Python 3 (ipykernel)",
   "language": "python",
   "name": "python3"
  },
  "language_info": {
   "codemirror_mode": {
    "name": "ipython",
    "version": 3
   },
   "file_extension": ".py",
   "mimetype": "text/x-python",
   "name": "python",
   "nbconvert_exporter": "python",
   "pygments_lexer": "ipython3",
   "version": "3.11.7"
  }
 },
 "nbformat": 4,
 "nbformat_minor": 5
}
