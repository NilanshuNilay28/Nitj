{
 "cells": [
  {
   "cell_type": "code",
   "execution_count": 4,
   "id": "d8d37e8a-2e08-417c-8c56-b39ad58781b8",
   "metadata": {},
   "outputs": [
    {
     "name": "stdin",
     "output_type": "stream",
     "text": [
      "enter the numer 9\n",
      "enter the den 0\n"
     ]
    },
    {
     "name": "stdout",
     "output_type": "stream",
     "text": [
      "deno cant be zero\n"
     ]
    }
   ],
   "source": [
    "num=int(input(\"enter the numer\"))\n",
    "den=int(input(\"enter the den\"))\n",
    "try:\n",
    "    q=num/den\n",
    "    print(\"q is :\",q)\n",
    "except ZeroDivisionError :\n",
    "    print(\"deno cant be zero\")"
   ]
  },
  {
   "cell_type": "code",
   "execution_count": 12,
   "id": "65667aa2-ba72-471e-bb89-ba4060ef3eb4",
   "metadata": {},
   "outputs": [
    {
     "name": "stdin",
     "output_type": "stream",
     "text": [
      "enter the numer a\n"
     ]
    },
    {
     "name": "stdout",
     "output_type": "stream",
     "text": [
      "CHECK BEFORE \n"
     ]
    }
   ],
   "source": [
    "#num=int(input(\"enter the numer\"))\n",
    "#den=int(input(\"enter the den\"))\n",
    "    \n",
    "try:\n",
    "    num=int(input(\"enter the numer\"))\n",
    "    print(num**2)\n",
    "except (KeyboardInterrupt,ValueError) :\n",
    "    print(\"CHECK BEFORE \")"
   ]
  },
  {
   "cell_type": "code",
   "execution_count": 13,
   "id": "20e0e6e9-db38-4e6a-a498-2f06ab1d24c3",
   "metadata": {},
   "outputs": [
    {
     "name": "stdout",
     "output_type": "stream",
     "text": [
      "10\n",
      "Exception accured\n"
     ]
    }
   ],
   "source": [
    "try:\n",
    "    num=10\n",
    "    print(num)\n",
    "    raise ValueError\n",
    "except:\n",
    "    print(\"Exception accured\")"
   ]
  },
  {
   "cell_type": "code",
   "execution_count": 2,
   "id": "e450d38e-fc32-48ea-82a1-dbfd310c28b5",
   "metadata": {},
   "outputs": [
    {
     "name": "stdout",
     "output_type": "stream",
     "text": [
      "10\n",
      "<class 'ValueError'>\n",
      "()\n"
     ]
    },
    {
     "ename": "ValueError",
     "evalue": "not enough values to unpack (expected 2, got 0)",
     "output_type": "error",
     "traceback": [
      "\u001b[1;31m---------------------------------------------------------------------------\u001b[0m",
      "\u001b[1;31mValueError\u001b[0m                                Traceback (most recent call last)",
      "Cell \u001b[1;32mIn[2], line 4\u001b[0m\n\u001b[0;32m      3\u001b[0m     \u001b[38;5;28mprint\u001b[39m(num)\n\u001b[1;32m----> 4\u001b[0m     \u001b[38;5;28;01mraise\u001b[39;00m \u001b[38;5;167;01mValueError\u001b[39;00m\n\u001b[0;32m      5\u001b[0m \u001b[38;5;28;01mexcept\u001b[39;00m \u001b[38;5;167;01mException\u001b[39;00m \u001b[38;5;28;01mas\u001b[39;00m Errorobj:\n",
      "\u001b[1;31mValueError\u001b[0m: ",
      "\nDuring handling of the above exception, another exception occurred:\n",
      "\u001b[1;31mValueError\u001b[0m                                Traceback (most recent call last)",
      "Cell \u001b[1;32mIn[2], line 8\u001b[0m\n\u001b[0;32m      6\u001b[0m \u001b[38;5;28mprint\u001b[39m(\u001b[38;5;28mtype\u001b[39m(Errorobj))\n\u001b[0;32m      7\u001b[0m \u001b[38;5;28mprint\u001b[39m(Errorobj\u001b[38;5;241m.\u001b[39margs)\n\u001b[1;32m----> 8\u001b[0m arg1,arg2\u001b[38;5;241m=\u001b[39mErrorobj\u001b[38;5;241m.\u001b[39margs\n",
      "\u001b[1;31mValueError\u001b[0m: not enough values to unpack (expected 2, got 0)"
     ]
    }
   ],
   "source": [
    "try:\n",
    "    num=10\n",
    "    print(num)\n",
    "    raise ValueError\n",
    "except Exception as Errorobj:\n",
    "    print(type(Errorobj))\n",
    "    print(Errorobj.args)\n",
    "    arg1,arg2=Errorobj.args"
   ]
  },
  {
   "cell_type": "code",
   "execution_count": 31,
   "id": "4e3eaebc-51a1-428d-a112-efdb5e94c770",
   "metadata": {},
   "outputs": [
    {
     "name": "stdout",
     "output_type": "stream",
     "text": [
      "10\n",
      "<class 'ValueError'>\n",
      "('Some error message',)\n",
      "Not enough arguments to unpack.\n"
     ]
    }
   ],
   "source": [
    "try:  \n",
    "    num = 10  \n",
    "    print(num)  \n",
    "    raise ValueError(\"Some error message\")  # Provide a message if needed  \n",
    "except Exception as Errorobj:  \n",
    "    print(type(Errorobj))  \n",
    "    print(Errorobj.args)  \n",
    "    if len(Errorobj.args) >= 2:  \n",
    "        arg1, arg2 = Errorobj.args  \n",
    "    else:  \n",
    "        print(\"Not enough arguments to unpack.\")"
   ]
  },
  {
   "cell_type": "code",
   "execution_count": 32,
   "id": "a7369e78-d850-472e-b3fe-ba1940dda998",
   "metadata": {},
   "outputs": [
    {
     "name": "stdin",
     "output_type": "stream",
     "text": [
      "Please enter a number:  r\n"
     ]
    },
    {
     "name": "stdout",
     "output_type": "stream",
     "text": [
      "Invalid input. Please enter a valid number.\n"
     ]
    }
   ],
   "source": [
    "#wap that promt a user to enter a number and print the square of that number if no number is enter than keyboard interapt is generated \n",
    "try:  \n",
    "    number = input(\"Please enter a number: \")  \n",
    "    if number == \"\":  \n",
    "        raise KeyboardInterrupt  \n",
    "    number = float(number)  \n",
    "    square = number ** 2  \n",
    "    print(f\"The square of {number} is {square}.\")  \n",
    "except KeyboardInterrupt:  \n",
    "    print(\"Keyboard interrupt received. No number entered.\")  \n",
    "except ValueError:  \n",
    "    print(\"Invalid input. Please enter a valid number.\")"
   ]
  },
  {
   "cell_type": "code",
   "execution_count": 43,
   "id": "8814c135-b05b-4af9-b628-1a9bf0f09ce9",
   "metadata": {},
   "outputs": [
    {
     "name": "stdout",
     "output_type": "stream",
     "text": [
      "1\n",
      "2\n",
      "3\n",
      "4\n",
      "5\n",
      "6\n",
      "7\n",
      "8\n",
      "9\n",
      "10\n",
      "11\n",
      "12\n",
      "13\n",
      "14\n",
      "15\n",
      "16\n",
      "17\n",
      "18\n",
      "19\n",
      "20\n"
     ]
    }
   ],
   "source": [
    "def display(n):\n",
    "    while True:\n",
    "        try:\n",
    "            n=n+1\n",
    "            if n==21:\n",
    "                raise StopIteration\n",
    "        except StopIteration:\n",
    "            break\n",
    "        else:\n",
    "            print(n)\n",
    "\n",
    "i=0\n",
    "display(i)\n",
    "\n",
    "\n",
    "            "
   ]
  },
  {
   "cell_type": "code",
   "execution_count": 1,
   "id": "1e80353d-2718-4b76-927f-3316f8b56794",
   "metadata": {},
   "outputs": [
    {
     "name": "stdout",
     "output_type": "stream",
     "text": [
      "Generated number: 0.08921826943235045\n",
      "Generated number 0.08921826943235045 is below 0.5!\n"
     ]
    }
   ],
   "source": [
    "#WAP that randomly gernerate a no. and raise a userdefiend exception if the no. is below 0.5.\n",
    "import random  \n",
    "\n",
    "class NumberTooLowException(Exception):  \n",
    "    \"\"\"Custom exception for numbers below 0.5.\"\"\"  \n",
    "    pass  \n",
    "\n",
    "def generate_random_number():  \n",
    "    \"\"\"Generate a random number between 0 and 1.\"\"\"  \n",
    "    return random.random()  \n",
    "\n",
    "def main():  \n",
    "    try:  \n",
    "        number = generate_random_number()  \n",
    "        print(f\"Generated number: {number}\")  \n",
    "\n",
    "        if number < 0.5:  \n",
    "            raise NumberTooLowException(f\"Generated number {number} is below 0.5!\")  \n",
    "        \n",
    "        print(\"The number is acceptable.\")  \n",
    "\n",
    "    except NumberTooLowException as e:  \n",
    "        print(e)  \n",
    "\n",
    "if __name__ == \"__main__\":  \n",
    "    main()"
   ]
  },
  {
   "cell_type": "code",
   "execution_count": null,
   "id": "d819e2a2-502d-4804-b733-329193f43f7a",
   "metadata": {},
   "outputs": [],
   "source": []
  }
 ],
 "metadata": {
  "kernelspec": {
   "display_name": "Python 3 (ipykernel)",
   "language": "python",
   "name": "python3"
  },
  "language_info": {
   "codemirror_mode": {
    "name": "ipython",
    "version": 3
   },
   "file_extension": ".py",
   "mimetype": "text/x-python",
   "name": "python",
   "nbconvert_exporter": "python",
   "pygments_lexer": "ipython3",
   "version": "3.11.7"
  }
 },
 "nbformat": 4,
 "nbformat_minor": 5
}
