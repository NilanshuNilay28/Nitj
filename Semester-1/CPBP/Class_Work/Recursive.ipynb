{
 "cells": [
  {
   "cell_type": "code",
   "execution_count": 1,
   "id": "52d59ef1-1316-4707-b613-ca355d2a7aec",
   "metadata": {},
   "outputs": [],
   "source": [
    "#Lamda function"
   ]
  },
  {
   "cell_type": "code",
   "execution_count": 33,
   "id": "5896ea10-3aa4-4beb-aef1-c35070d42179",
   "metadata": {},
   "outputs": [
    {
     "name": "stdin",
     "output_type": "stream",
     "text": [
      "User will define 3\n"
     ]
    },
    {
     "name": "stdout",
     "output_type": "stream",
     "text": [
      "Fibonacci\n"
     ]
    }
   ],
   "source": [
    "#Recursive function\n",
    "n_terms=11\n",
    "def recursive_Fibonacci(n):\n",
    "    if n<=1:\n",
    "        return n\n",
    "    else:\n",
    "        return(recursive_Fibonacci(n-1)+recursive_Fibonacci(n-2))\n",
    "n=int(input(\"User will define\"))\n",
    "if n_terms<=0:\n",
    "    print('Invalidinput:please input a positive number')\n",
    "else:\n",
    "    print(\"Fibonacci\")\n",
    "\n",
    "    "
   ]
  },
  {
   "cell_type": "code",
   "execution_count": null,
   "id": "b279200d-8459-44c0-834e-edf80e5af287",
   "metadata": {},
   "outputs": [],
   "source": [
    "recursive_Fibonacci(10)"
   ]
  },
  {
   "cell_type": "code",
   "execution_count": null,
   "id": "92d5603d-e144-4b03-9289-b5bd2203b367",
   "metadata": {},
   "outputs": [],
   "source": [
    "n_terms=11\n",
    "\n",
    "for i in range(n_terms):\n",
    "    print(recursive_Fibonacci(i),end=\" \")"
   ]
  },
  {
   "cell_type": "code",
   "execution_count": 8,
   "id": "fb92918b-1abb-44d2-b3d9-533c07f594c9",
   "metadata": {},
   "outputs": [],
   "source": [
    "def pwr(num,power):\n",
    "    if power==0:\n",
    "        return 1\n",
    "    else:\n",
    "        return num* pwr(num,power-1)"
   ]
  },
  {
   "cell_type": "code",
   "execution_count": 10,
   "id": "06b4c23e-cbac-4b46-8c47-aa769851364b",
   "metadata": {},
   "outputs": [],
   "source": [
    "t=pwr(2,9)"
   ]
  },
  {
   "cell_type": "code",
   "execution_count": 3,
   "id": "c4936636-98c9-4178-b1fa-cb9547cc77ce",
   "metadata": {},
   "outputs": [],
   "source": [
    "\"\"\"def exp(x,y):\n",
    "    if y==0:\n",
    "        return 1\n",
    "    if y==1:\n",
    "        return x  \n",
    "    else:\n",
    "        return x* exp(x,(y-1))\"\"\""
   ]
  },
  {
   "cell_type": "code",
   "execution_count": 6,
   "id": "acdddcee-e346-4e05-89e9-bc6323f21a45",
   "metadata": {},
   "outputs": [
    {
     "data": {
      "text/plain": [
       "512"
      ]
     },
     "execution_count": 6,
     "metadata": {},
     "output_type": "execute_result"
    }
   ],
   "source": [
    "exp(2,9)"
   ]
  },
  {
   "cell_type": "code",
   "execution_count": 2,
   "id": "ec1dc74a-b3b9-480c-bd23-4d9a8cfd07c7",
   "metadata": {},
   "outputs": [],
   "source": [
    "def exp(x,pwr):\n",
    "    if y==0:\n",
    "        return 1\n",
    "    if y==1:\n",
    "        return x  \n",
    "    else:\n",
    "        return x* exp(x,(y-1))"
   ]
  },
  {
   "cell_type": "code",
   "execution_count": 13,
   "id": "6f48c9d1-6ad1-408a-8eed-b7a029e4829f",
   "metadata": {},
   "outputs": [
    {
     "data": {
      "text/plain": [
       "(4, 512)"
      ]
     },
     "execution_count": 13,
     "metadata": {},
     "output_type": "execute_result"
    }
   ],
   "source": [
    "exp"
   ]
  },
  {
   "cell_type": "code",
   "execution_count": 25,
   "id": "f3915330-461e-411f-893e-c6fc02fd7499",
   "metadata": {},
   "outputs": [],
   "source": [
    "from math import *"
   ]
  },
  {
   "cell_type": "code",
   "execution_count": 26,
   "id": "263af5e0-6307-4527-8488-1e8b30b68eb7",
   "metadata": {},
   "outputs": [
    {
     "data": {
      "text/plain": [
       "4.0"
      ]
     },
     "execution_count": 26,
     "metadata": {},
     "output_type": "execute_result"
    }
   ],
   "source": [
    "sqrt(16)"
   ]
  },
  {
   "cell_type": "code",
   "execution_count": 27,
   "id": "229dc35c-7ba9-47cd-942a-44518adaa950",
   "metadata": {},
   "outputs": [
    {
     "data": {
      "text/plain": [
       "720"
      ]
     },
     "execution_count": 27,
     "metadata": {},
     "output_type": "execute_result"
    }
   ],
   "source": [
    "factorial(6)"
   ]
  },
  {
   "cell_type": "code",
   "execution_count": 34,
   "id": "ca961598-788f-4317-8624-c360fda51b8d",
   "metadata": {},
   "outputs": [
    {
     "name": "stdout",
     "output_type": "stream",
     "text": [
      "['C:\\\\Users\\\\Nilanshu Nilay\\\\College practice', 'C:\\\\Users\\\\Nilanshu Nilay\\\\anaconda3\\\\python311.zip', 'C:\\\\Users\\\\Nilanshu Nilay\\\\anaconda3\\\\DLLs', 'C:\\\\Users\\\\Nilanshu Nilay\\\\anaconda3\\\\Lib', 'C:\\\\Users\\\\Nilanshu Nilay\\\\anaconda3', '', 'C:\\\\Users\\\\Nilanshu Nilay\\\\anaconda3\\\\Lib\\\\site-packages', 'C:\\\\Users\\\\Nilanshu Nilay\\\\anaconda3\\\\Lib\\\\site-packages\\\\win32', 'C:\\\\Users\\\\Nilanshu Nilay\\\\anaconda3\\\\Lib\\\\site-packages\\\\win32\\\\lib', 'C:\\\\Users\\\\Nilanshu Nilay\\\\anaconda3\\\\Lib\\\\site-packages\\\\Pythonwin']\n"
     ]
    }
   ],
   "source": [
    "import sys\n",
    "print(sys.path)"
   ]
  },
  {
   "cell_type": "code",
   "execution_count": 35,
   "id": "9ed3dd98-6ef2-4d8d-947f-e16e7de0c358",
   "metadata": {},
   "outputs": [],
   "source": [
    "import random"
   ]
  },
  {
   "cell_type": "code",
   "execution_count": null,
   "id": "65d27371-6241-4a63-927c-f245abd35d6f",
   "metadata": {},
   "outputs": [],
   "source": []
  }
 ],
 "metadata": {
  "kernelspec": {
   "display_name": "Python 3 (ipykernel)",
   "language": "python",
   "name": "python3"
  },
  "language_info": {
   "codemirror_mode": {
    "name": "ipython",
    "version": 3
   },
   "file_extension": ".py",
   "mimetype": "text/x-python",
   "name": "python",
   "nbconvert_exporter": "python",
   "pygments_lexer": "ipython3",
   "version": "3.11.7"
  }
 },
 "nbformat": 4,
 "nbformat_minor": 5
}
