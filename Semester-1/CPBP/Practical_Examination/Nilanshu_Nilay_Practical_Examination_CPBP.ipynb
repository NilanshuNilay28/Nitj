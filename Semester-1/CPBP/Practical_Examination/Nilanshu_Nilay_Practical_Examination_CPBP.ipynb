{
 "cells": [
  {
   "cell_type": "code",
   "execution_count": 7,
   "id": "b9e5fccb-4cde-48b6-a776-9b6960e80e6d",
   "metadata": {},
   "outputs": [
    {
     "data": {
      "text/plain": [
       "'Write a Python program to:\\n1.Accept a list of string from the user.\\n2.Reverse the order of the list.\\n3.Ask the user to input a string to search for in the list\\n4.Display whether the string is present in the list and its index if found.'"
      ]
     },
     "execution_count": 7,
     "metadata": {},
     "output_type": "execute_result"
    }
   ],
   "source": [
    "\"\"\"Write a Python program to:\n",
    "1.Accept a list of string from the user.\n",
    "2.Reverse the order of the list.\n",
    "3.Ask the user to input a string to search for in the list\n",
    "4.Display whether the string is present in the list and its index if found.\"\"\""
   ]
  },
  {
   "cell_type": "code",
   "execution_count": 4,
   "id": "aec767cd-7711-4d2e-98ea-53a60d19e96e",
   "metadata": {},
   "outputs": [
    {
     "name": "stdin",
     "output_type": "stream",
     "text": [
      "Enter a list of strings separated by commas:  Computer, Programming, Basic, With, Python\n"
     ]
    },
    {
     "name": "stdout",
     "output_type": "stream",
     "text": [
      "Reversed list: ['Python', 'With', 'Basic', 'Programming', 'Computer']\n"
     ]
    },
    {
     "name": "stdin",
     "output_type": "stream",
     "text": [
      "Enter a string to search for in the list:  Python\n"
     ]
    },
    {
     "name": "stdout",
     "output_type": "stream",
     "text": [
      "The string 'Python' is present in the list at index 0.\n"
     ]
    }
   ],
   "source": [
    "def main():  \n",
    "    #1:Accept a list of string from the user.\n",
    "    user_input = input(\"Enter a list of strings separated by commas: \")  \n",
    "    string_list = user_input.split(\",\") \n",
    " \n",
    "    string_list = [s.strip() for s in string_list]  \n",
    "    #2:Reverse the order of the list\n",
    "    string_list.reverse()  \n",
    "    print(\"Reversed list:\", string_list)  \n",
    "\n",
    "    # 3: Ask the user to input a string to search for in the list  \n",
    "    search_string = input(\"Enter a string to search for in the list: \").strip()  \n",
    "\n",
    "    # 4 Display whether the string is present in the list and its index if found  \n",
    "    if search_string in string_list:  \n",
    "        index = string_list.index(search_string)  \n",
    "        print(f\"The string '{search_string}' is present in the list at index {index}.\")  \n",
    "    else:  \n",
    "        print(f\"The string '{search_string}' is not present in the list.\")  \n",
    "\n",
    "if __name__ == \"__main__\":  \n",
    "    main()"
   ]
  },
  {
   "cell_type": "code",
   "execution_count": 6,
   "id": "6e7e61cb-fb5a-4020-b37e-1c8f9f6f54b2",
   "metadata": {},
   "outputs": [
    {
     "data": {
      "text/plain": [
       "' Write a program to check the strength of passwords based on the following criteria:\\n1.At least 8 charcters long\\n2.Contain both uppercase and lowercase letters.\\n3. Include at least one number and one special character.'"
      ]
     },
     "execution_count": 6,
     "metadata": {},
     "output_type": "execute_result"
    }
   ],
   "source": [
    "\"\"\" Write a program to check the strength of passwords based on the following criteria:\n",
    "1.At least 8 charcters long\n",
    "2.Contain both uppercase and lowercase letters.\n",
    "3. Include at least one number and one special character.\"\"\""
   ]
  },
  {
   "cell_type": "code",
   "execution_count": 5,
   "id": "21f10ff8-5504-461d-be26-c822f8a0c3af",
   "metadata": {},
   "outputs": [
    {
     "name": "stdin",
     "output_type": "stream",
     "text": [
      "Enter a password to check its strength:  Program@9430\n"
     ]
    },
    {
     "name": "stdout",
     "output_type": "stream",
     "text": [
      "Password is strong.\n"
     ]
    }
   ],
   "source": [
    "\n",
    "import re  \n",
    "\n",
    "def check_password_strength(password):  \n",
    "    #1:Check if the password is at least 8 characters long  \n",
    "    if len(password) < 8:  \n",
    "        return \"Password must be at least 8 characters long.\"  \n",
    "\n",
    "    # 2:Check if it contains both uppercase and lowercase letters  \n",
    "    if not re.search(r\"[a-z]\", password):  \n",
    "        return \"Password must contain at least one lowercase letter.\"  \n",
    "    if not re.search(r\"[A-Z]\", password):  \n",
    "        return \"Password must contain at least one uppercase letter.\"  \n",
    "\n",
    "    # 3:Check if it contains at least one digit  \n",
    "    if not re.search(r\"[0-9]\", password):  \n",
    "        return \"Password must contain at least one number.\"  \n",
    "\n",
    "    # 3:Check if it contains at least one special character  \n",
    "    special_characters = r\"[@$!%*?&]\"  \n",
    "    if not re.search(special_characters, password):  \n",
    "        return \"Password must contain at least one special character.\"  \n",
    "\n",
    "    return \"Password is strong.\"  \n",
    "\n",
    "def main():  \n",
    "    password = input(\"Enter a password to check its strength: \")  \n",
    "    result = check_password_strength(password)  \n",
    "    print(result)  \n",
    "\n",
    "if __name__ == \"__main__\":  \n",
    "    main()"
   ]
  },
  {
   "cell_type": "code",
   "execution_count": 13,
   "id": "116feb48-9c18-4c8b-81be-e60cf36b1848",
   "metadata": {},
   "outputs": [
    {
     "data": {
      "text/plain": [
       "\"Create a program that reads and process a file containing student information where each student's data is stored on a new line in the following format:\\nStudent ID: 1234,Name: John Doe,Age:21,Grade:A\\nThe Program should:\\n1.Create a Student class that  holds the Student ID,Name,Age and Grade\\n2.Implement custon exceptions for handling invalid data formats(eg.,missing commas,incorrect number of fields).\\n3.The program should:\\n    a.Prase the student datafrom the file.\\n    b.Handle and display an error message for anyline that does not conform to correct format.\\n    c.Write the valid student data to another file with the format:\\n    Student ID : <ID>,Name :<Name>,Age:<Age>,Grade:<Grade>\\n\\nRequirements:\\n1.Use file handling(open,readlines,write).\\n2.Use custom exceptions to validate input.\\n3,Use the Student class to encapsulate the student data.\""
      ]
     },
     "execution_count": 13,
     "metadata": {},
     "output_type": "execute_result"
    }
   ],
   "source": [
    "\"\"\"Create a program that reads and process a file containing student information where each student's data is stored on a new line in the following format:\n",
    "Student ID: 1234,Name: John Doe,Age:21,Grade:A\n",
    "The Program should:\n",
    "1.Create a Student class that  holds the Student ID,Name,Age and Grade\n",
    "2.Implement custon exceptions for handling invalid data formats(eg.,missing commas,incorrect number of fields).\n",
    "3.The program should:\n",
    "    a.Prase the student datafrom the file.\n",
    "    b.Handle and display an error message for anyline that does not conform to correct format.\n",
    "    c.Write the valid student data to another file with the format:\n",
    "    Student ID : <ID>,Name :<Name>,Age:<Age>,Grade:<Grade>\n",
    "\n",
    "Requirements:\n",
    "1.Use file handling(open,readlines,write).\n",
    "2.Use custom exceptions to validate input.\n",
    "3,Use the Student class to encapsulate the student data.\"\"\""
   ]
  },
  {
   "cell_type": "code",
   "execution_count": 11,
   "id": "6ff0e7ef-76b7-46e0-92ff-48a69c2df968",
   "metadata": {},
   "outputs": [],
   "source": [
    "class InvalidStudentDataError(Exception):  \n",
    "    \"\"\"Custom exception for invalid student data format.\"\"\"  \n",
    "    pass  \n",
    "class Student:  \n",
    "    def __init__(self, student_id, name, age, grade):  \n",
    "        self.student_id = student_id  \n",
    "        self.name = name  \n",
    "        self.age = age  \n",
    "        self.grade = grade  \n",
    "\n",
    "    def __str__(self):  \n",
    "        return f\"Student ID: {self.student_id}, Name: {self.name}, Age: {self.age}, Grade: {self.grade}\"  \n",
    "\n",
    "\n",
    "def parse_student_data(line):  \n",
    "    try:  \n",
    "        parts = line.strip().split(',')  \n",
    "        if len(parts) != 4:  \n",
    "            raise InvalidStudentDataError(\"Incorrect number of fields\")  \n",
    "\n",
    "        student_data = {}  \n",
    "        for part in parts:  \n",
    "            key, value = part.split(':')  \n",
    "            student_data[key.strip()] = value.strip()  \n",
    "\n",
    "        # Retrieve the data ensuring they exist  \n",
    "        student_id = student_data.get('Student ID')  \n",
    "        name = student_data.get('Name')  \n",
    "        age = student_data.get('Age')  \n",
    "        grade = student_data.get('Grade')  \n",
    "\n",
    "        # Validate data  \n",
    "        if not student_id or not name or not age or not grade:  \n",
    "            raise InvalidStudentDataError(\"Missing information in student data\")  \n",
    "\n",
    "        return Student(student_id, name, int(age), grade)  \n",
    "\n",
    "    except ValueError as ve:  \n",
    "        raise InvalidStudentDataError(\"Error while parsing student data\") from ve  \n",
    "    except Exception as e:  \n",
    "        raise InvalidStudentDataError(\"Invalid format: \" + str(e))  \n",
    "\n",
    "\n",
    "def process_student_file(input_file, output_file):  \n",
    "    valid_students = []  \n",
    "    error_lines = []  \n",
    "\n",
    "    with open(input_file, 'r') as infile:  \n",
    "        for line_number, line in enumerate(infile, start=1):  \n",
    "            try:  \n",
    "                student = parse_student_data(line)  \n",
    "                valid_students.append(student)  \n",
    "            except InvalidStudentDataError as e:  \n",
    "                error_message = f\"Error on line {line_number}: {e}\"  \n",
    "                print(error_message)  \n",
    "                error_lines.append(error_message)  \n",
    "    \n",
    "    with open(output_file, 'w') as outfile:  \n",
    "        for student in valid_students:  \n",
    "            outfile.write(f\"Student ID: {student.student_id}, Name: {student.name}, Age: {student.age}, Grade: {student.grade}\\n\")  \n",
    "    \n",
    "    if error_lines:  \n",
    "        print(\"Summary of errors:\")  \n",
    "        for error in error_lines:  \n",
    "            print(error)  \n",
    "\n",
    "# Example usage:  \n",
    "if __name__ == \"__main__\":  \n",
    "    input_filename = r\"H:\\Students.txt\"  # Input file containing student data  \n",
    "    output_filename = r\"H:\\valid_students.txt\"  # Output file for valid student data  \n",
    "    process_student_file(input_filename, output_filename)"
   ]
  }
 ],
 "metadata": {
  "kernelspec": {
   "display_name": "Python 3 (ipykernel)",
   "language": "python",
   "name": "python3"
  },
  "language_info": {
   "codemirror_mode": {
    "name": "ipython",
    "version": 3
   },
   "file_extension": ".py",
   "mimetype": "text/x-python",
   "name": "python",
   "nbconvert_exporter": "python",
   "pygments_lexer": "ipython3",
   "version": "3.11.7"
  }
 },
 "nbformat": 4,
 "nbformat_minor": 5
}
